{
 "cells": [
  {
   "cell_type": "markdown",
   "metadata": {},
   "source": [
    "Import Libraries"
   ]
  },
  {
   "cell_type": "code",
   "execution_count": 1,
   "metadata": {},
   "outputs": [],
   "source": [
    "# Data manipulation\n",
    "import pandas as pd\n",
    "import numpy as np\n",
    "\n",
    "# Tensorflow\n",
    "import tensorflow as tf\n",
    "import tensorflow_hub as hub\n",
    "from tensorflow import keras\n",
    "from tensorflow.keras.preprocessing.image import load_img\n",
    "\n",
    "config = tf.compat.v1.ConfigProto(gpu_options=tf.compat.v1.GPUOptions(allow_growth=True))\n",
    "sess = tf.compat.v1.Session(config=config)\n",
    "\n",
    "# Keras\n",
    "from keras.preprocessing.image import ImageDataGenerator\n",
    "from keras.preprocessing import image\n",
    "\n",
    "# Models\n",
    "import efficientnet.keras as efn \n",
    "from keras.applications.inception_v3 import InceptionV3, preprocess_input, decode_predictions\n",
    "\n",
    "from keras.models import Model, Sequential\n",
    "from keras.layers import Input, InputLayer, Convolution2D, Activation, MaxPooling2D, Flatten, Dense, Conv2D, Dropout, Lambda, GlobalAveragePooling2D\n",
    "from keras.utils import to_categorical\n",
    "\n",
    "# Sklearn\n",
    "from sklearn.model_selection import train_test_split\n",
    "from sklearn.ensemble import RandomForestClassifier\n",
    "from sklearn.metrics import accuracy_score\n",
    "from IPython.display import display, Image\n",
    "\n",
    "# Data visualization\n",
    "import matplotlib.pyplot as plt\n",
    "from matplotlib.pyplot import imread\n",
    "\n",
    "import cv2\n",
    "from tqdm import tqdm\n",
    "import os, re, csv"
   ]
  },
  {
   "cell_type": "markdown",
   "metadata": {},
   "source": [
    "Checking TensorFlow version and GPU Compatability"
   ]
  },
  {
   "cell_type": "code",
   "execution_count": 2,
   "metadata": {},
   "outputs": [
    {
     "name": "stdout",
     "output_type": "stream",
     "text": [
      "TF version: 2.4.1\n",
      "Num GPUs: 1\n"
     ]
    }
   ],
   "source": [
    "print(\"TF version:\", tf.__version__)\n",
    "physical_devices = tf.config.list_physical_devices('GPU')\n",
    "print(\"Num GPUs:\", len(physical_devices))"
   ]
  },
  {
   "cell_type": "code",
   "execution_count": 3,
   "metadata": {},
   "outputs": [
    {
     "data": {
      "text/plain": [
       "[PhysicalDevice(name='/physical_device:CPU:0', device_type='CPU'),\n",
       " PhysicalDevice(name='/physical_device:GPU:0', device_type='GPU')]"
      ]
     },
     "execution_count": 3,
     "metadata": {},
     "output_type": "execute_result"
    }
   ],
   "source": [
    "tf.config.list_physical_devices()"
   ]
  },
  {
   "cell_type": "markdown",
   "metadata": {},
   "source": [
    "#### 1. Data Exploration"
   ]
  },
  {
   "cell_type": "markdown",
   "metadata": {},
   "source": [
    "Import labels of training images"
   ]
  },
  {
   "cell_type": "code",
   "execution_count": 4,
   "metadata": {},
   "outputs": [
    {
     "data": {
      "text/html": [
       "<div>\n",
       "<style scoped>\n",
       "    .dataframe tbody tr th:only-of-type {\n",
       "        vertical-align: middle;\n",
       "    }\n",
       "\n",
       "    .dataframe tbody tr th {\n",
       "        vertical-align: top;\n",
       "    }\n",
       "\n",
       "    .dataframe thead th {\n",
       "        text-align: right;\n",
       "    }\n",
       "</style>\n",
       "<table border=\"1\" class=\"dataframe\">\n",
       "  <thead>\n",
       "    <tr style=\"text-align: right;\">\n",
       "      <th></th>\n",
       "      <th>id</th>\n",
       "      <th>breed</th>\n",
       "    </tr>\n",
       "  </thead>\n",
       "  <tbody>\n",
       "    <tr>\n",
       "      <th>0</th>\n",
       "      <td>000bec180eb18c7604dcecc8fe0dba07</td>\n",
       "      <td>boston_bull</td>\n",
       "    </tr>\n",
       "    <tr>\n",
       "      <th>1</th>\n",
       "      <td>001513dfcb2ffafc82cccf4d8bbaba97</td>\n",
       "      <td>dingo</td>\n",
       "    </tr>\n",
       "    <tr>\n",
       "      <th>2</th>\n",
       "      <td>001cdf01b096e06d78e9e5112d419397</td>\n",
       "      <td>pekinese</td>\n",
       "    </tr>\n",
       "    <tr>\n",
       "      <th>3</th>\n",
       "      <td>00214f311d5d2247d5dfe4fe24b2303d</td>\n",
       "      <td>bluetick</td>\n",
       "    </tr>\n",
       "    <tr>\n",
       "      <th>4</th>\n",
       "      <td>0021f9ceb3235effd7fcde7f7538ed62</td>\n",
       "      <td>golden_retriever</td>\n",
       "    </tr>\n",
       "  </tbody>\n",
       "</table>\n",
       "</div>"
      ],
      "text/plain": [
       "                                 id             breed\n",
       "0  000bec180eb18c7604dcecc8fe0dba07       boston_bull\n",
       "1  001513dfcb2ffafc82cccf4d8bbaba97             dingo\n",
       "2  001cdf01b096e06d78e9e5112d419397          pekinese\n",
       "3  00214f311d5d2247d5dfe4fe24b2303d          bluetick\n",
       "4  0021f9ceb3235effd7fcde7f7538ed62  golden_retriever"
      ]
     },
     "execution_count": 4,
     "metadata": {},
     "output_type": "execute_result"
    }
   ],
   "source": [
    "labels = pd.read_csv(\"labels.csv\")\n",
    "labels.head()"
   ]
  },
  {
   "cell_type": "markdown",
   "metadata": {},
   "source": [
    "Checking for null rows"
   ]
  },
  {
   "cell_type": "code",
   "execution_count": 5,
   "metadata": {},
   "outputs": [
    {
     "name": "stdout",
     "output_type": "stream",
     "text": [
      "<class 'pandas.core.frame.DataFrame'>\n",
      "RangeIndex: 10222 entries, 0 to 10221\n",
      "Data columns (total 2 columns):\n",
      " #   Column  Non-Null Count  Dtype \n",
      "---  ------  --------------  ----- \n",
      " 0   id      10222 non-null  object\n",
      " 1   breed   10222 non-null  object\n",
      "dtypes: object(2)\n",
      "memory usage: 159.8+ KB\n"
     ]
    }
   ],
   "source": [
    "labels.info()"
   ]
  },
  {
   "cell_type": "markdown",
   "metadata": {},
   "source": [
    "Total number of unique dog breeds"
   ]
  },
  {
   "cell_type": "code",
   "execution_count": 6,
   "metadata": {},
   "outputs": [
    {
     "name": "stdout",
     "output_type": "stream",
     "text": [
      "Unique breeds: 120\n"
     ]
    }
   ],
   "source": [
    "# List of unique breeds\n",
    "breeds_list = sorted(list(set(labels['breed'])))\n",
    "\n",
    "unique_breeds = len(breeds_list)\n",
    "print(\"Unique breeds:\", unique_breeds)"
   ]
  },
  {
   "cell_type": "code",
   "execution_count": 7,
   "metadata": {},
   "outputs": [],
   "source": [
    "# delete breeds = list(labels.breed.values)"
   ]
  },
  {
   "cell_type": "markdown",
   "metadata": {},
   "source": [
    "Checking sample submission file \n",
    "\n",
    "Submission requires us to fill the probability values of breeds for each image"
   ]
  },
  {
   "cell_type": "code",
   "execution_count": 17,
   "metadata": {},
   "outputs": [],
   "source": [
    "sample = pd.read_csv('sample_submission.csv')"
   ]
  },
  {
   "cell_type": "code",
   "execution_count": 18,
   "metadata": {
    "scrolled": true
   },
   "outputs": [
    {
     "data": {
      "text/html": [
       "<div>\n",
       "<style scoped>\n",
       "    .dataframe tbody tr th:only-of-type {\n",
       "        vertical-align: middle;\n",
       "    }\n",
       "\n",
       "    .dataframe tbody tr th {\n",
       "        vertical-align: top;\n",
       "    }\n",
       "\n",
       "    .dataframe thead th {\n",
       "        text-align: right;\n",
       "    }\n",
       "</style>\n",
       "<table border=\"1\" class=\"dataframe\">\n",
       "  <thead>\n",
       "    <tr style=\"text-align: right;\">\n",
       "      <th></th>\n",
       "      <th>id</th>\n",
       "      <th>affenpinscher</th>\n",
       "      <th>afghan_hound</th>\n",
       "      <th>african_hunting_dog</th>\n",
       "      <th>airedale</th>\n",
       "      <th>american_staffordshire_terrier</th>\n",
       "      <th>appenzeller</th>\n",
       "      <th>australian_terrier</th>\n",
       "      <th>basenji</th>\n",
       "      <th>basset</th>\n",
       "      <th>...</th>\n",
       "      <th>toy_poodle</th>\n",
       "      <th>toy_terrier</th>\n",
       "      <th>vizsla</th>\n",
       "      <th>walker_hound</th>\n",
       "      <th>weimaraner</th>\n",
       "      <th>welsh_springer_spaniel</th>\n",
       "      <th>west_highland_white_terrier</th>\n",
       "      <th>whippet</th>\n",
       "      <th>wire-haired_fox_terrier</th>\n",
       "      <th>yorkshire_terrier</th>\n",
       "    </tr>\n",
       "  </thead>\n",
       "  <tbody>\n",
       "    <tr>\n",
       "      <th>0</th>\n",
       "      <td>000621fb3cbb32d8935728e48679680e</td>\n",
       "      <td>0.008333</td>\n",
       "      <td>0.008333</td>\n",
       "      <td>0.008333</td>\n",
       "      <td>0.008333</td>\n",
       "      <td>0.008333</td>\n",
       "      <td>0.008333</td>\n",
       "      <td>0.008333</td>\n",
       "      <td>0.008333</td>\n",
       "      <td>0.008333</td>\n",
       "      <td>...</td>\n",
       "      <td>0.008333</td>\n",
       "      <td>0.008333</td>\n",
       "      <td>0.008333</td>\n",
       "      <td>0.008333</td>\n",
       "      <td>0.008333</td>\n",
       "      <td>0.008333</td>\n",
       "      <td>0.008333</td>\n",
       "      <td>0.008333</td>\n",
       "      <td>0.008333</td>\n",
       "      <td>0.008333</td>\n",
       "    </tr>\n",
       "    <tr>\n",
       "      <th>1</th>\n",
       "      <td>00102ee9d8eb90812350685311fe5890</td>\n",
       "      <td>0.008333</td>\n",
       "      <td>0.008333</td>\n",
       "      <td>0.008333</td>\n",
       "      <td>0.008333</td>\n",
       "      <td>0.008333</td>\n",
       "      <td>0.008333</td>\n",
       "      <td>0.008333</td>\n",
       "      <td>0.008333</td>\n",
       "      <td>0.008333</td>\n",
       "      <td>...</td>\n",
       "      <td>0.008333</td>\n",
       "      <td>0.008333</td>\n",
       "      <td>0.008333</td>\n",
       "      <td>0.008333</td>\n",
       "      <td>0.008333</td>\n",
       "      <td>0.008333</td>\n",
       "      <td>0.008333</td>\n",
       "      <td>0.008333</td>\n",
       "      <td>0.008333</td>\n",
       "      <td>0.008333</td>\n",
       "    </tr>\n",
       "    <tr>\n",
       "      <th>2</th>\n",
       "      <td>0012a730dfa437f5f3613fb75efcd4ce</td>\n",
       "      <td>0.008333</td>\n",
       "      <td>0.008333</td>\n",
       "      <td>0.008333</td>\n",
       "      <td>0.008333</td>\n",
       "      <td>0.008333</td>\n",
       "      <td>0.008333</td>\n",
       "      <td>0.008333</td>\n",
       "      <td>0.008333</td>\n",
       "      <td>0.008333</td>\n",
       "      <td>...</td>\n",
       "      <td>0.008333</td>\n",
       "      <td>0.008333</td>\n",
       "      <td>0.008333</td>\n",
       "      <td>0.008333</td>\n",
       "      <td>0.008333</td>\n",
       "      <td>0.008333</td>\n",
       "      <td>0.008333</td>\n",
       "      <td>0.008333</td>\n",
       "      <td>0.008333</td>\n",
       "      <td>0.008333</td>\n",
       "    </tr>\n",
       "    <tr>\n",
       "      <th>3</th>\n",
       "      <td>001510bc8570bbeee98c8d80c8a95ec1</td>\n",
       "      <td>0.008333</td>\n",
       "      <td>0.008333</td>\n",
       "      <td>0.008333</td>\n",
       "      <td>0.008333</td>\n",
       "      <td>0.008333</td>\n",
       "      <td>0.008333</td>\n",
       "      <td>0.008333</td>\n",
       "      <td>0.008333</td>\n",
       "      <td>0.008333</td>\n",
       "      <td>...</td>\n",
       "      <td>0.008333</td>\n",
       "      <td>0.008333</td>\n",
       "      <td>0.008333</td>\n",
       "      <td>0.008333</td>\n",
       "      <td>0.008333</td>\n",
       "      <td>0.008333</td>\n",
       "      <td>0.008333</td>\n",
       "      <td>0.008333</td>\n",
       "      <td>0.008333</td>\n",
       "      <td>0.008333</td>\n",
       "    </tr>\n",
       "    <tr>\n",
       "      <th>4</th>\n",
       "      <td>001a5f3114548acdefa3d4da05474c2e</td>\n",
       "      <td>0.008333</td>\n",
       "      <td>0.008333</td>\n",
       "      <td>0.008333</td>\n",
       "      <td>0.008333</td>\n",
       "      <td>0.008333</td>\n",
       "      <td>0.008333</td>\n",
       "      <td>0.008333</td>\n",
       "      <td>0.008333</td>\n",
       "      <td>0.008333</td>\n",
       "      <td>...</td>\n",
       "      <td>0.008333</td>\n",
       "      <td>0.008333</td>\n",
       "      <td>0.008333</td>\n",
       "      <td>0.008333</td>\n",
       "      <td>0.008333</td>\n",
       "      <td>0.008333</td>\n",
       "      <td>0.008333</td>\n",
       "      <td>0.008333</td>\n",
       "      <td>0.008333</td>\n",
       "      <td>0.008333</td>\n",
       "    </tr>\n",
       "    <tr>\n",
       "      <th>...</th>\n",
       "      <td>...</td>\n",
       "      <td>...</td>\n",
       "      <td>...</td>\n",
       "      <td>...</td>\n",
       "      <td>...</td>\n",
       "      <td>...</td>\n",
       "      <td>...</td>\n",
       "      <td>...</td>\n",
       "      <td>...</td>\n",
       "      <td>...</td>\n",
       "      <td>...</td>\n",
       "      <td>...</td>\n",
       "      <td>...</td>\n",
       "      <td>...</td>\n",
       "      <td>...</td>\n",
       "      <td>...</td>\n",
       "      <td>...</td>\n",
       "      <td>...</td>\n",
       "      <td>...</td>\n",
       "      <td>...</td>\n",
       "      <td>...</td>\n",
       "    </tr>\n",
       "    <tr>\n",
       "      <th>10352</th>\n",
       "      <td>ffeda8623d4eee33c6d1156a2ecbfcf8</td>\n",
       "      <td>0.008333</td>\n",
       "      <td>0.008333</td>\n",
       "      <td>0.008333</td>\n",
       "      <td>0.008333</td>\n",
       "      <td>0.008333</td>\n",
       "      <td>0.008333</td>\n",
       "      <td>0.008333</td>\n",
       "      <td>0.008333</td>\n",
       "      <td>0.008333</td>\n",
       "      <td>...</td>\n",
       "      <td>0.008333</td>\n",
       "      <td>0.008333</td>\n",
       "      <td>0.008333</td>\n",
       "      <td>0.008333</td>\n",
       "      <td>0.008333</td>\n",
       "      <td>0.008333</td>\n",
       "      <td>0.008333</td>\n",
       "      <td>0.008333</td>\n",
       "      <td>0.008333</td>\n",
       "      <td>0.008333</td>\n",
       "    </tr>\n",
       "    <tr>\n",
       "      <th>10353</th>\n",
       "      <td>fff1ec9e6e413275984966f745a313b0</td>\n",
       "      <td>0.008333</td>\n",
       "      <td>0.008333</td>\n",
       "      <td>0.008333</td>\n",
       "      <td>0.008333</td>\n",
       "      <td>0.008333</td>\n",
       "      <td>0.008333</td>\n",
       "      <td>0.008333</td>\n",
       "      <td>0.008333</td>\n",
       "      <td>0.008333</td>\n",
       "      <td>...</td>\n",
       "      <td>0.008333</td>\n",
       "      <td>0.008333</td>\n",
       "      <td>0.008333</td>\n",
       "      <td>0.008333</td>\n",
       "      <td>0.008333</td>\n",
       "      <td>0.008333</td>\n",
       "      <td>0.008333</td>\n",
       "      <td>0.008333</td>\n",
       "      <td>0.008333</td>\n",
       "      <td>0.008333</td>\n",
       "    </tr>\n",
       "    <tr>\n",
       "      <th>10354</th>\n",
       "      <td>fff74b59b758bbbf13a5793182a9bbe4</td>\n",
       "      <td>0.008333</td>\n",
       "      <td>0.008333</td>\n",
       "      <td>0.008333</td>\n",
       "      <td>0.008333</td>\n",
       "      <td>0.008333</td>\n",
       "      <td>0.008333</td>\n",
       "      <td>0.008333</td>\n",
       "      <td>0.008333</td>\n",
       "      <td>0.008333</td>\n",
       "      <td>...</td>\n",
       "      <td>0.008333</td>\n",
       "      <td>0.008333</td>\n",
       "      <td>0.008333</td>\n",
       "      <td>0.008333</td>\n",
       "      <td>0.008333</td>\n",
       "      <td>0.008333</td>\n",
       "      <td>0.008333</td>\n",
       "      <td>0.008333</td>\n",
       "      <td>0.008333</td>\n",
       "      <td>0.008333</td>\n",
       "    </tr>\n",
       "    <tr>\n",
       "      <th>10355</th>\n",
       "      <td>fff7d50d848e8014ac1e9172dc6762a3</td>\n",
       "      <td>0.008333</td>\n",
       "      <td>0.008333</td>\n",
       "      <td>0.008333</td>\n",
       "      <td>0.008333</td>\n",
       "      <td>0.008333</td>\n",
       "      <td>0.008333</td>\n",
       "      <td>0.008333</td>\n",
       "      <td>0.008333</td>\n",
       "      <td>0.008333</td>\n",
       "      <td>...</td>\n",
       "      <td>0.008333</td>\n",
       "      <td>0.008333</td>\n",
       "      <td>0.008333</td>\n",
       "      <td>0.008333</td>\n",
       "      <td>0.008333</td>\n",
       "      <td>0.008333</td>\n",
       "      <td>0.008333</td>\n",
       "      <td>0.008333</td>\n",
       "      <td>0.008333</td>\n",
       "      <td>0.008333</td>\n",
       "    </tr>\n",
       "    <tr>\n",
       "      <th>10356</th>\n",
       "      <td>fffbff22c1f51e3dc80c4bf04089545b</td>\n",
       "      <td>0.008333</td>\n",
       "      <td>0.008333</td>\n",
       "      <td>0.008333</td>\n",
       "      <td>0.008333</td>\n",
       "      <td>0.008333</td>\n",
       "      <td>0.008333</td>\n",
       "      <td>0.008333</td>\n",
       "      <td>0.008333</td>\n",
       "      <td>0.008333</td>\n",
       "      <td>...</td>\n",
       "      <td>0.008333</td>\n",
       "      <td>0.008333</td>\n",
       "      <td>0.008333</td>\n",
       "      <td>0.008333</td>\n",
       "      <td>0.008333</td>\n",
       "      <td>0.008333</td>\n",
       "      <td>0.008333</td>\n",
       "      <td>0.008333</td>\n",
       "      <td>0.008333</td>\n",
       "      <td>0.008333</td>\n",
       "    </tr>\n",
       "  </tbody>\n",
       "</table>\n",
       "<p>10357 rows × 121 columns</p>\n",
       "</div>"
      ],
      "text/plain": [
       "                                     id  affenpinscher  afghan_hound  \\\n",
       "0      000621fb3cbb32d8935728e48679680e       0.008333      0.008333   \n",
       "1      00102ee9d8eb90812350685311fe5890       0.008333      0.008333   \n",
       "2      0012a730dfa437f5f3613fb75efcd4ce       0.008333      0.008333   \n",
       "3      001510bc8570bbeee98c8d80c8a95ec1       0.008333      0.008333   \n",
       "4      001a5f3114548acdefa3d4da05474c2e       0.008333      0.008333   \n",
       "...                                 ...            ...           ...   \n",
       "10352  ffeda8623d4eee33c6d1156a2ecbfcf8       0.008333      0.008333   \n",
       "10353  fff1ec9e6e413275984966f745a313b0       0.008333      0.008333   \n",
       "10354  fff74b59b758bbbf13a5793182a9bbe4       0.008333      0.008333   \n",
       "10355  fff7d50d848e8014ac1e9172dc6762a3       0.008333      0.008333   \n",
       "10356  fffbff22c1f51e3dc80c4bf04089545b       0.008333      0.008333   \n",
       "\n",
       "       african_hunting_dog  airedale  american_staffordshire_terrier  \\\n",
       "0                 0.008333  0.008333                        0.008333   \n",
       "1                 0.008333  0.008333                        0.008333   \n",
       "2                 0.008333  0.008333                        0.008333   \n",
       "3                 0.008333  0.008333                        0.008333   \n",
       "4                 0.008333  0.008333                        0.008333   \n",
       "...                    ...       ...                             ...   \n",
       "10352             0.008333  0.008333                        0.008333   \n",
       "10353             0.008333  0.008333                        0.008333   \n",
       "10354             0.008333  0.008333                        0.008333   \n",
       "10355             0.008333  0.008333                        0.008333   \n",
       "10356             0.008333  0.008333                        0.008333   \n",
       "\n",
       "       appenzeller  australian_terrier   basenji    basset  ...  toy_poodle  \\\n",
       "0         0.008333            0.008333  0.008333  0.008333  ...    0.008333   \n",
       "1         0.008333            0.008333  0.008333  0.008333  ...    0.008333   \n",
       "2         0.008333            0.008333  0.008333  0.008333  ...    0.008333   \n",
       "3         0.008333            0.008333  0.008333  0.008333  ...    0.008333   \n",
       "4         0.008333            0.008333  0.008333  0.008333  ...    0.008333   \n",
       "...            ...                 ...       ...       ...  ...         ...   \n",
       "10352     0.008333            0.008333  0.008333  0.008333  ...    0.008333   \n",
       "10353     0.008333            0.008333  0.008333  0.008333  ...    0.008333   \n",
       "10354     0.008333            0.008333  0.008333  0.008333  ...    0.008333   \n",
       "10355     0.008333            0.008333  0.008333  0.008333  ...    0.008333   \n",
       "10356     0.008333            0.008333  0.008333  0.008333  ...    0.008333   \n",
       "\n",
       "       toy_terrier    vizsla  walker_hound  weimaraner  \\\n",
       "0         0.008333  0.008333      0.008333    0.008333   \n",
       "1         0.008333  0.008333      0.008333    0.008333   \n",
       "2         0.008333  0.008333      0.008333    0.008333   \n",
       "3         0.008333  0.008333      0.008333    0.008333   \n",
       "4         0.008333  0.008333      0.008333    0.008333   \n",
       "...            ...       ...           ...         ...   \n",
       "10352     0.008333  0.008333      0.008333    0.008333   \n",
       "10353     0.008333  0.008333      0.008333    0.008333   \n",
       "10354     0.008333  0.008333      0.008333    0.008333   \n",
       "10355     0.008333  0.008333      0.008333    0.008333   \n",
       "10356     0.008333  0.008333      0.008333    0.008333   \n",
       "\n",
       "       welsh_springer_spaniel  west_highland_white_terrier   whippet  \\\n",
       "0                    0.008333                     0.008333  0.008333   \n",
       "1                    0.008333                     0.008333  0.008333   \n",
       "2                    0.008333                     0.008333  0.008333   \n",
       "3                    0.008333                     0.008333  0.008333   \n",
       "4                    0.008333                     0.008333  0.008333   \n",
       "...                       ...                          ...       ...   \n",
       "10352                0.008333                     0.008333  0.008333   \n",
       "10353                0.008333                     0.008333  0.008333   \n",
       "10354                0.008333                     0.008333  0.008333   \n",
       "10355                0.008333                     0.008333  0.008333   \n",
       "10356                0.008333                     0.008333  0.008333   \n",
       "\n",
       "       wire-haired_fox_terrier  yorkshire_terrier  \n",
       "0                     0.008333           0.008333  \n",
       "1                     0.008333           0.008333  \n",
       "2                     0.008333           0.008333  \n",
       "3                     0.008333           0.008333  \n",
       "4                     0.008333           0.008333  \n",
       "...                        ...                ...  \n",
       "10352                 0.008333           0.008333  \n",
       "10353                 0.008333           0.008333  \n",
       "10354                 0.008333           0.008333  \n",
       "10355                 0.008333           0.008333  \n",
       "10356                 0.008333           0.008333  \n",
       "\n",
       "[10357 rows x 121 columns]"
      ]
     },
     "execution_count": 18,
     "metadata": {},
     "output_type": "execute_result"
    }
   ],
   "source": [
    "sample"
   ]
  },
  {
   "cell_type": "markdown",
   "metadata": {},
   "source": [
    "#### 2. Problem solutions"
   ]
  },
  {
   "cell_type": "markdown",
   "metadata": {},
   "source": [
    "2 ways we will be doing this:\n",
    "\n",
    "Part 1. Input > Feature Extraction > Classifier > Predictions\n",
    "\n",
    "Part 2. Input > Neural Network > Predictions\n",
    "\n",
    "The difference is in 2, Feature Extraction + Classification will be done by the Neural Network itself, while 1 will be more \"manual\""
   ]
  },
  {
   "cell_type": "markdown",
   "metadata": {},
   "source": [
    "#### Part 1 "
   ]
  },
  {
   "cell_type": "markdown",
   "metadata": {},
   "source": [
    "##### a) Data Pre-processing"
   ]
  },
  {
   "cell_type": "markdown",
   "metadata": {},
   "source": [
    "We will set the input shape as size of 224x224, with 3 channels for RGB"
   ]
  },
  {
   "cell_type": "code",
   "execution_count": 10,
   "metadata": {},
   "outputs": [],
   "source": [
    "# 224x224, RGB = 3 channels\n",
    "input_shape = (224, 224, 3)"
   ]
  },
  {
   "cell_type": "markdown",
   "metadata": {},
   "source": [
    "Here we will do a count of images for each unique breeds"
   ]
  },
  {
   "cell_type": "code",
   "execution_count": 11,
   "metadata": {},
   "outputs": [],
   "source": [
    "breeds_arr = dict(zip(breeds_list, range(unique_breeds)))"
   ]
  },
  {
   "cell_type": "markdown",
   "metadata": {},
   "source": [
    "First we will convert the training+test images to arrays for input to the feature extractor"
   ]
  },
  {
   "cell_type": "code",
   "execution_count": 13,
   "metadata": {},
   "outputs": [],
   "source": [
    "# Convert training images to array\n",
    "\n",
    "# The function will go through the directory that contains the images, and will start to convert each image to a matrix of size 224x224x3, and appends it to the array\n",
    "\n",
    "def images_to_array(data_dir, labels, img_size=(224,224,3)):\n",
    "\n",
    "    image_id = labels['id']\n",
    "    image_labels = labels['breed']\n",
    "    \n",
    "    # Total number of training images\n",
    "    data_size = len(image_id)\n",
    "    \n",
    "    # Create X and y arrays for training data/labels, fill with 0 first\n",
    "    X = np.zeros([data_size, img_size[0], img_size[1], img_size[2]], dtype=np.uint8)\n",
    "    y = np.zeros([data_size,1], dtype=np.uint8)\n",
    "    \n",
    "    # Data and labels\n",
    "    # Loops through the entire training data images\n",
    "    for i in tqdm(range(data_size)):\n",
    "        image_name = image_id[i]\n",
    "        \n",
    "        # We get each file name for the individual images\n",
    "        img_dir = os.path.join(data_dir, image_name+'.jpg') # Append .jpg\n",
    "        \n",
    "        # load_img converts the image to pixels to be stored in the array \n",
    "        img_pixels = load_img(img_dir, target_size=img_size)\n",
    "        \n",
    "        # Append 224x224x3 matrix to X array\n",
    "        X[i] = img_pixels\n",
    "        \n",
    "        # If image breed matches the label, = 1\n",
    "        image_breed = image_labels[i]\n",
    "        y[i] = breeds_arr[image_breed]\n",
    "    \n",
    "    # One-hot encoder, converting the labels into arrays\n",
    "    y = to_categorical(y)\n",
    "    \n",
    "    return X, y"
   ]
  },
  {
   "cell_type": "code",
   "execution_count": 14,
   "metadata": {},
   "outputs": [],
   "source": [
    "# Convert test images to array\n",
    "# Difference is this function does not have image labels ie. y variable\n",
    "\n",
    "def images_to_array2(data_dir, labels, img_size = (224,224,3)):\n",
    "\n",
    "    image_id = labels['id']\n",
    "    \n",
    "    # Total number of test images \n",
    "    data_size = len(image_id)\n",
    "    \n",
    "    # Create X array for test data\n",
    "    X = np.zeros([data_size, img_size[0], img_size[1], 3], dtype=np.uint8)\n",
    "    \n",
    "    for i in tqdm(range(data_size)):\n",
    "        image_name = image_id[i]\n",
    "        \n",
    "        # We get each file name for the individual images\n",
    "        img_dir = os.path.join(data_dir, image_name+'.jpg')\n",
    "        \n",
    "        # load_img converts the image to pixels to be stored in the array \n",
    "        img_pixels = tf.keras.preprocessing.image.load_img(img_dir, target_size=img_size)\n",
    "        \n",
    "        # Append 224x224x3 matrix to X array\n",
    "        X[i] = img_pixels\n",
    "        \n",
    "    return X"
   ]
  },
  {
   "cell_type": "markdown",
   "metadata": {},
   "source": [
    "##### b) Training and Test data in array"
   ]
  },
  {
   "cell_type": "code",
   "execution_count": 20,
   "metadata": {
    "scrolled": false
   },
   "outputs": [
    {
     "name": "stderr",
     "output_type": "stream",
     "text": [
      "100%|███████████████████████████████████████████████████████████████████████████| 10222/10222 [00:23<00:00, 440.44it/s]\n"
     ]
    },
    {
     "name": "stdout",
     "output_type": "stream",
     "text": [
      "Data Size:  (10222, 224, 224, 3)\n",
      "Label Size:  (10222, 120)\n"
     ]
    }
   ],
   "source": [
    "# Training data\n",
    "\n",
    "X, y = images_to_array('train/', labels, input_shape)"
   ]
  },
  {
   "cell_type": "markdown",
   "metadata": {},
   "source": [
    "In the X array (training image data), each image will be converted into a matrix of size 224x224x3 (tensor), to visualize, refer to the image below\n",
    "\n",
    "The X array will have a total of 10222 tensor, each for an image"
   ]
  },
  {
   "attachments": {
    "image.png": {
     "image/png": "[encoded data removed]"
    }
   },
   "cell_type": "markdown",
   "metadata": {},
   "source": [
    "![image.png](attachment:image.png)\n",
    "\n",
    "Reference: https://image.slidesharecdn.com/tensordecomposition-170301235239/95/a-brief-survey-of-tensors-5-638.jpg"
   ]
  },
  {
   "cell_type": "code",
   "execution_count": 45,
   "metadata": {},
   "outputs": [
    {
     "name": "stdout",
     "output_type": "stream",
     "text": [
      "Training Data Size:  (10222, 224, 224, 3)\n"
     ]
    }
   ],
   "source": [
    "print('Training Data Size: ', X.shape)"
   ]
  },
  {
   "cell_type": "code",
   "execution_count": 60,
   "metadata": {},
   "outputs": [
    {
     "data": {
      "text/plain": [
       "(224, 224, 3)"
      ]
     },
     "execution_count": 60,
     "metadata": {},
     "output_type": "execute_result"
    }
   ],
   "source": [
    "# Size of first tensor of image\n",
    "\n",
    "X[0].shape"
   ]
  },
  {
   "cell_type": "markdown",
   "metadata": {},
   "source": [
    "In the y array (training image labels), each unique breed will represent a column, where 1=the breed of that image id\n",
    "\n",
    "10222 rows, 120 columns"
   ]
  },
  {
   "cell_type": "code",
   "execution_count": 44,
   "metadata": {},
   "outputs": [
    {
     "name": "stdout",
     "output_type": "stream",
     "text": [
      "Training Label Size:  (10222, 120)\n"
     ]
    }
   ],
   "source": [
    "print('Training Label Size: ', y.shape)"
   ]
  },
  {
   "cell_type": "code",
   "execution_count": 32,
   "metadata": {},
   "outputs": [
    {
     "data": {
      "text/plain": [
       "array([0., 0., 0., 0., 0., 0., 0., 0., 0., 0., 0., 0., 0., 1., 0., 0., 0.,\n",
       "       0., 0., 0., 0., 0., 0., 0., 0., 0., 0., 0., 0., 0., 0., 0., 0., 0.,\n",
       "       0., 0., 0., 0., 0., 0., 0., 0., 0., 0., 0., 0., 0., 0., 0., 0., 0.,\n",
       "       0., 0., 0., 0., 0., 0., 0., 0., 0., 0., 0., 0., 0., 0., 0., 0., 0.,\n",
       "       0., 0., 0., 0., 0., 0., 0., 0., 0., 0., 0., 0., 0., 0., 0., 0., 0.,\n",
       "       0., 0., 0., 0., 0., 0., 0., 0., 0., 0., 0., 0., 0., 0., 0., 0., 0.,\n",
       "       0., 0., 0., 0., 0., 0., 0., 0., 0., 0., 0., 0., 0., 0., 0., 0., 0.,\n",
       "       0.], dtype=float32)"
      ]
     },
     "execution_count": 32,
     "metadata": {},
     "output_type": "execute_result"
    }
   ],
   "source": [
    "y[0]"
   ]
  },
  {
   "cell_type": "code",
   "execution_count": 19,
   "metadata": {},
   "outputs": [
    {
     "name": "stderr",
     "output_type": "stream",
     "text": [
      "100%|███████████████████████████████████████████████████████████████████████████| 10357/10357 [00:29<00:00, 351.32it/s]"
     ]
    },
    {
     "name": "stdout",
     "output_type": "stream",
     "text": [
      "Data Size:  (10357, 224, 224, 3)\n"
     ]
    },
    {
     "name": "stderr",
     "output_type": "stream",
     "text": [
      "\n"
     ]
    }
   ],
   "source": [
    "# Test data\n",
    "\n",
    "test_data = images_to_array2('test/', sample, input_shape)"
   ]
  },
  {
   "cell_type": "code",
   "execution_count": 61,
   "metadata": {},
   "outputs": [
    {
     "name": "stdout",
     "output_type": "stream",
     "text": [
      "Test Data Size:  (10357, 224, 224, 3)\n"
     ]
    }
   ],
   "source": [
    "print('Test Data Size: ', test_data.shape)"
   ]
  },
  {
   "cell_type": "markdown",
   "metadata": {},
   "source": [
    "##### c) Feature Extraction"
   ]
  },
  {
   "cell_type": "markdown",
   "metadata": {},
   "source": [
    "We will be using pre-trained models to extract features from the image data"
   ]
  },
  {
   "cell_type": "code",
   "execution_count": null,
   "metadata": {},
   "outputs": [],
   "source": [
    "# Feature Extraction function\n",
    "\n",
    "def get_features(model_name, data_preprocessor, input_size, data):\n",
    "    '''\n",
    "    1- Create a feature extractor to extract features from the data.\n",
    "    2- Returns the extracted features and the feature extractor.\n",
    "    '''\n",
    "    inputs = Input(input_size)\n",
    "    \n",
    "    preprocessor = Lambda(data_preprocessor)(inputs)\n",
    "    \n",
    "    base_model = model_name(weights='imagenet', include_top=False,\n",
    "                            input_shape=input_size)(preprocessor)\n",
    "    \n",
    "    avg = GlobalAveragePooling2D()(base_model)\n",
    "    \n",
    "    feature_extractor = Model(inputs = inputs, outputs = avg)\n",
    "\n",
    "    feature_maps = feature_extractor.predict(data, batch_size=64, verbose=1)\n",
    "    print('Feature shape: ', feature_maps.shape)\n",
    "    \n",
    "    return feature_maps"
   ]
  },
  {
   "cell_type": "markdown",
   "metadata": {},
   "source": [
    "##### Using InceptionV3"
   ]
  },
  {
   "cell_type": "markdown",
   "metadata": {},
   "source": [
    "Training features"
   ]
  },
  {
   "cell_type": "code",
   "execution_count": null,
   "metadata": {},
   "outputs": [],
   "source": [
    "# Extracting training features\n",
    "\n",
    "inception_features_train = get_features(InceptionV3, preprocess_input, input_shape, X)\n",
    "#efn_features_train = get_features(efn, preprocess_input, input_shape, X)"
   ]
  },
  {
   "cell_type": "markdown",
   "metadata": {},
   "source": [
    "Test features"
   ]
  },
  {
   "cell_type": "code",
   "execution_count": null,
   "metadata": {},
   "outputs": [],
   "source": [
    "# Extracting test features\n",
    "\n",
    "inception_features_test = get_features(InceptionV3, preprocess_input, input_shape, test_data)"
   ]
  },
  {
   "cell_type": "markdown",
   "metadata": {},
   "source": [
    "Split to train / validation set"
   ]
  },
  {
   "cell_type": "code",
   "execution_count": null,
   "metadata": {},
   "outputs": [],
   "source": [
    "X_train, X_val, y_train, y_val = train_test_split(inception_features_train, y)"
   ]
  },
  {
   "cell_type": "markdown",
   "metadata": {},
   "source": [
    "##### d) Feeding extracted features to classifier"
   ]
  },
  {
   "cell_type": "markdown",
   "metadata": {},
   "source": [
    "##### 1. Using a simple neural network as a classifier"
   ]
  },
  {
   "cell_type": "markdown",
   "metadata": {},
   "source": [
    "Building the model"
   ]
  },
  {
   "cell_type": "code",
   "execution_count": null,
   "metadata": {},
   "outputs": [],
   "source": [
    "\n",
    "# 2048\n",
    "inputs = keras.Input(shape=inception_features_train.shape[1:])\n",
    "\n",
    "x = Dense(256, activation='relu')(inputs)\n",
    "x = Dropout(0.25)(x)\n",
    "\n",
    "x = Dense(128, activation='relu')(x)\n",
    "x = Dropout(0.25)(x)\n",
    "\n",
    "outputs = Dense(unique_breeds, activation='softmax')(x) # Classification layer\n",
    "\n",
    "f1 = keras.Model(inputs, outputs, name='DNN')\n",
    "\n",
    "f1.compile(optimizer = 'adam', loss = 'categorical_crossentropy', metrics = ['accuracy'])\n",
    "\n",
    "f1.summary()"
   ]
  },
  {
   "cell_type": "markdown",
   "metadata": {},
   "source": [
    "Setting callbacks"
   ]
  },
  {
   "cell_type": "code",
   "execution_count": null,
   "metadata": {},
   "outputs": [],
   "source": [
    "model_checkpoint = tf.keras.callbacks.ModelCheckpoint(\n",
    "    filepath=os.path.join('models/', 'inceptionfeatures_best_val_loss2.h5'),\n",
    "    save_weights_only=False,\n",
    "    monitor='val_loss',\n",
    "    mode='auto',\n",
    "    save_best_only=True)\n",
    "\n",
    "# If the validation loss doesn't improve, stop training\n",
    "earlystopping = tf.keras.callbacks.EarlyStopping(monitor='val_loss', patience=6)"
   ]
  },
  {
   "cell_type": "markdown",
   "metadata": {},
   "source": [
    "Training the model"
   ]
  },
  {
   "cell_type": "code",
   "execution_count": null,
   "metadata": {},
   "outputs": [],
   "source": [
    "bs = 256\n",
    "epoch = 30"
   ]
  },
  {
   "cell_type": "code",
   "execution_count": null,
   "metadata": {},
   "outputs": [],
   "source": [
    "f1_h = f1.fit(X_train, y_train, \n",
    "              batch_size=bs, \n",
    "              epochs=epoch, \n",
    "              validation_split=0.1, \n",
    "              callbacks=[model_checkpoint, earlystopping])"
   ]
  },
  {
   "cell_type": "markdown",
   "metadata": {},
   "source": [
    "Model Evaluation"
   ]
  },
  {
   "cell_type": "code",
   "execution_count": null,
   "metadata": {},
   "outputs": [],
   "source": [
    "score1 = f1.evaluate(x=X_val, y=y_val, verbose=1)\n",
    "\n",
    "print(f' Loss: {score1[0]}\\n Accuracy: {score1[1]}')"
   ]
  },
  {
   "cell_type": "code",
   "execution_count": null,
   "metadata": {},
   "outputs": [],
   "source": [
    "plt.plot(f1_h.history['accuracy'])\n",
    "plt.plot(f1_h.history['val_accuracy'])\n",
    "plt.title('Model accuracy')\n",
    "plt.ylabel('Accuracy')\n",
    "plt.xlabel('Epoch')\n",
    "plt.legend(['Train', 'Val'], loc='upper left')\n",
    "plt.show()\n",
    "\n",
    "plt.plot(f1_h.history['loss'])\n",
    "plt.plot(f1_h.history['val_loss'])\n",
    "plt.title('Model loss')\n",
    "plt.ylabel('Loss')\n",
    "plt.xlabel('Epoch')\n",
    "plt.legend(['Train', 'Val'], loc='upper left')\n",
    "plt.show()"
   ]
  },
  {
   "cell_type": "markdown",
   "metadata": {},
   "source": [
    "Prediction on test data"
   ]
  },
  {
   "cell_type": "code",
   "execution_count": null,
   "metadata": {},
   "outputs": [],
   "source": [
    "f1_pred = f1.predict(inception_features_test, batch_size=bs)"
   ]
  },
  {
   "cell_type": "markdown",
   "metadata": {},
   "source": [
    "##### 2. Using Random Forest Classifier"
   ]
  },
  {
   "cell_type": "code",
   "execution_count": null,
   "metadata": {},
   "outputs": [],
   "source": [
    "# Initialize 100 trees to be generated\n",
    "clf = RandomForestClassifier(n_estimators=100, verbose=2)"
   ]
  },
  {
   "cell_type": "markdown",
   "metadata": {},
   "source": [
    "Fitting"
   ]
  },
  {
   "cell_type": "code",
   "execution_count": null,
   "metadata": {},
   "outputs": [],
   "source": [
    "clf.fit(X_train, y_train)"
   ]
  },
  {
   "cell_type": "markdown",
   "metadata": {},
   "source": [
    "Prediction on validation set"
   ]
  },
  {
   "cell_type": "code",
   "execution_count": null,
   "metadata": {},
   "outputs": [],
   "source": [
    "f2_pred_val = clf.predict(X_val)"
   ]
  },
  {
   "cell_type": "markdown",
   "metadata": {},
   "source": [
    "Evaluation"
   ]
  },
  {
   "cell_type": "code",
   "execution_count": null,
   "metadata": {},
   "outputs": [],
   "source": [
    "print(\"Accuracy:\", accuracy_score(y_val, f2_pred_val))"
   ]
  },
  {
   "cell_type": "markdown",
   "metadata": {},
   "source": [
    "Prediction on test set"
   ]
  },
  {
   "cell_type": "code",
   "execution_count": null,
   "metadata": {},
   "outputs": [],
   "source": [
    "f2_pred = clf.predict(inception_features_test)"
   ]
  },
  {
   "cell_type": "markdown",
   "metadata": {},
   "source": [
    "##### e) Predictions "
   ]
  },
  {
   "cell_type": "markdown",
   "metadata": {},
   "source": [
    "Here we compare the results of using different classifiers "
   ]
  },
  {
   "cell_type": "markdown",
   "metadata": {},
   "source": [
    "##### 1. Simple Neural Network Classifier"
   ]
  },
  {
   "cell_type": "code",
   "execution_count": null,
   "metadata": {},
   "outputs": [],
   "source": [
    "print(f' Loss: {score1[0]}\\n Accuracy: {score1[1]}')"
   ]
  },
  {
   "cell_type": "markdown",
   "metadata": {},
   "source": [
    "##### 2. Random Forest Classifier"
   ]
  },
  {
   "cell_type": "code",
   "execution_count": null,
   "metadata": {},
   "outputs": [],
   "source": [
    "print(\"Accuracy:\", accuracy_score(y_val, f2_pred_val))"
   ]
  },
  {
   "cell_type": "code",
   "execution_count": null,
   "metadata": {},
   "outputs": [],
   "source": []
  },
  {
   "cell_type": "code",
   "execution_count": null,
   "metadata": {},
   "outputs": [],
   "source": []
  },
  {
   "cell_type": "code",
   "execution_count": null,
   "metadata": {},
   "outputs": [],
   "source": []
  },
  {
   "cell_type": "markdown",
   "metadata": {},
   "source": [
    "##### f) Output to submission file"
   ]
  },
  {
   "cell_type": "code",
   "execution_count": null,
   "metadata": {},
   "outputs": [],
   "source": [
    "# f1_df = sample\n",
    "\n",
    "# for x in breeds_list:\n",
    "#     f1_df[x] = f1_pred[:, breeds_arr[x]]\n",
    "\n",
    "# f1_df.to_csv('submission_feature_extraction.csv', index=None)"
   ]
  },
  {
   "cell_type": "markdown",
   "metadata": {},
   "source": [
    "Free up memory"
   ]
  },
  {
   "cell_type": "code",
   "execution_count": null,
   "metadata": {
    "scrolled": true
   },
   "outputs": [],
   "source": [
    "# del X, y, test_data"
   ]
  },
  {
   "cell_type": "code",
   "execution_count": null,
   "metadata": {},
   "outputs": [],
   "source": [
    "# %reset -f "
   ]
  },
  {
   "cell_type": "markdown",
   "metadata": {},
   "source": [
    "#### Part 2 "
   ]
  },
  {
   "cell_type": "markdown",
   "metadata": {},
   "source": [
    "##### a) Data Pre-processing"
   ]
  },
  {
   "cell_type": "code",
   "execution_count": null,
   "metadata": {},
   "outputs": [],
   "source": [
    "labels2 = labels"
   ]
  },
  {
   "cell_type": "code",
   "execution_count": 11,
   "metadata": {},
   "outputs": [],
   "source": [
    "labels2['id'] = labels2['id'] + '.jpg'"
   ]
  },
  {
   "cell_type": "markdown",
   "metadata": {},
   "source": [
    "Here we split our labels data into training and validation set"
   ]
  },
  {
   "cell_type": "code",
   "execution_count": 12,
   "metadata": {},
   "outputs": [],
   "source": [
    "train, val = train_test_split(labels2, test_size=0.2, shuffle=True)"
   ]
  },
  {
   "cell_type": "code",
   "execution_count": 13,
   "metadata": {},
   "outputs": [
    {
     "name": "stdout",
     "output_type": "stream",
     "text": [
      "Train shape: (8177, 2)\n",
      "Validation shape: (2045, 2)\n"
     ]
    }
   ],
   "source": [
    "print(\"Train shape:\", train.shape)\n",
    "print(\"Validation shape:\", val.shape)"
   ]
  },
  {
   "cell_type": "markdown",
   "metadata": {},
   "source": [
    "Image data augmentation\n",
    "\n",
    "\n",
    "We \"create\" more training data from existing data by doing image manipulation (Rotate/Zoom/Scaling/Contrast) (Get more variants of image for neural network to learn)\n",
    "\n",
    "This will help improve the performance of the neural network\n",
    "\n",
    "For more info: https://towardsdatascience.com/complete-image-augmentation-in-opencv-31a6b02694f5"
   ]
  },
  {
   "cell_type": "markdown",
   "metadata": {},
   "source": [
    "By using keras image data generator it will feed each image into the network so we do not need to do manual feature extraction"
   ]
  },
  {
   "cell_type": "code",
   "execution_count": 62,
   "metadata": {},
   "outputs": [],
   "source": [
    "# Datagen\n",
    "\n",
    "train_gen = ImageDataGenerator(\n",
    "        rotation_range=40,\n",
    "        width_shift_range=0.2,\n",
    "        height_shift_range=0.2,\n",
    "        rescale=1./255, # Scale/Normalize pixel value from range [0,255] to [0,1], RGB coeff in 0-255 too high for model to process\n",
    "        shear_range=0.2,\n",
    "        zoom_range=0.2,\n",
    "        horizontal_flip=True)\n",
    "\n",
    "val_gen = ImageDataGenerator(\n",
    "    rescale=1./255)\n",
    "\n",
    "test_gen = ImageDataGenerator(\n",
    "            rescale=1./255)"
   ]
  },
  {
   "cell_type": "markdown",
   "metadata": {},
   "source": [
    "Retrieve our training/val/test sets"
   ]
  },
  {
   "cell_type": "code",
   "execution_count": 63,
   "metadata": {},
   "outputs": [
    {
     "ename": "NameError",
     "evalue": "name 'train' is not defined",
     "output_type": "error",
     "traceback": [
      "\u001b[1;31m---------------------------------------------------------------------------\u001b[0m",
      "\u001b[1;31mNameError\u001b[0m                                 Traceback (most recent call last)",
      "\u001b[1;32m<ipython-input-63-ee91e7be559d>\u001b[0m in \u001b[0;36m<module>\u001b[1;34m\u001b[0m\n\u001b[0;32m      4\u001b[0m \u001b[1;33m\u001b[0m\u001b[0m\n\u001b[0;32m      5\u001b[0m training_set = train_gen.flow_from_dataframe(\n\u001b[1;32m----> 6\u001b[1;33m     \u001b[0mdataframe\u001b[0m\u001b[1;33m=\u001b[0m\u001b[0mtrain\u001b[0m\u001b[1;33m,\u001b[0m\u001b[1;33m\u001b[0m\u001b[1;33m\u001b[0m\u001b[0m\n\u001b[0m\u001b[0;32m      7\u001b[0m     \u001b[0mdirectory\u001b[0m\u001b[1;33m=\u001b[0m\u001b[1;34m'train/'\u001b[0m\u001b[1;33m,\u001b[0m\u001b[1;33m\u001b[0m\u001b[1;33m\u001b[0m\u001b[0m\n\u001b[0;32m      8\u001b[0m     \u001b[0mx_col\u001b[0m\u001b[1;33m=\u001b[0m\u001b[1;34m\"id\"\u001b[0m\u001b[1;33m,\u001b[0m\u001b[1;33m\u001b[0m\u001b[1;33m\u001b[0m\u001b[0m\n",
      "\u001b[1;31mNameError\u001b[0m: name 'train' is not defined"
     ]
    }
   ],
   "source": [
    "# Training / Validation / Test set\n",
    "\n",
    "bs = 64\n",
    "\n",
    "training_set = train_gen.flow_from_dataframe(\n",
    "    dataframe=train,\n",
    "    directory='train/',\n",
    "    x_col=\"id\",\n",
    "    y_col=\"breed\",\n",
    "    target_size=(224, 224), # Has to match input_shape\n",
    "    class_mode=\"categorical\",\n",
    "    batch_size=bs,\n",
    "    seed=42,\n",
    "    shuffle=True\n",
    ")\n",
    "\n",
    "validation_set = val_gen.flow_from_dataframe(\n",
    "    dataframe=val,\n",
    "    directory='train/',\n",
    "    x_col=\"id\",\n",
    "    y_col=\"breed\",\n",
    "    target_size=(224, 224),\n",
    "    class_mode=\"categorical\",\n",
    "    batch_size=bs,\n",
    "    seed=42,\n",
    "    shuffle=True\n",
    ")\n",
    "\n",
    "test_set = test_gen.flow_from_directory(\n",
    "    '',\n",
    "    target_size = (224, 224),\n",
    "    batch_size = bs,\n",
    "    classes=['test'],\n",
    "    seed=42,\n",
    "    shuffle=False\n",
    ")"
   ]
  },
  {
   "cell_type": "code",
   "execution_count": 16,
   "metadata": {},
   "outputs": [],
   "source": [
    "step_size_train = training_set.n // bs\n",
    "step_size_val = validation_set.n // bs"
   ]
  },
  {
   "cell_type": "markdown",
   "metadata": {},
   "source": [
    "##### b) Neural Networks"
   ]
  },
  {
   "cell_type": "markdown",
   "metadata": {},
   "source": [
    "##### 1. CNN (Convolutional Neural Network)"
   ]
  },
  {
   "cell_type": "markdown",
   "metadata": {},
   "source": [
    "Building a CNN Model from scratch"
   ]
  },
  {
   "cell_type": "code",
   "execution_count": 19,
   "metadata": {},
   "outputs": [],
   "source": [
    "# Create a sequential model\n",
    "inputs = keras.Input(shape=input_shape)\n",
    "\n",
    "x = Conv2D(filters=64, kernel_size=3, activation='relu', input_shape=[224, 224, 3])(inputs)\n",
    "x = MaxPooling2D(pool_size=2, strides=2)(x)\n",
    "\n",
    "x = Conv2D(filters=64, kernel_size=3, activation='relu')(x)\n",
    "x = MaxPooling2D(pool_size=2, strides=2)(x)\n",
    "\n",
    "x = Conv2D(filters=64, kernel_size=3, activation='relu')(x)\n",
    "x = MaxPooling2D(pool_size=2, strides=2)(x)\n",
    "\n",
    "x = Flatten()(x)\n",
    "x = Dense(units=64, activation='relu')(x)\n",
    "\n",
    "outputs = Dense(unique_breeds, activation='softmax')(x) # Classification layer\n",
    "\n",
    "cnn = Model(inputs, outputs, name='CNN')\n",
    "\n",
    "cnn.compile(optimizer = 'adam', loss = 'categorical_crossentropy', metrics = ['accuracy'])"
   ]
  },
  {
   "cell_type": "markdown",
   "metadata": {},
   "source": [
    "View summary of the CNN model"
   ]
  },
  {
   "cell_type": "code",
   "execution_count": 77,
   "metadata": {},
   "outputs": [
    {
     "name": "stdout",
     "output_type": "stream",
     "text": [
      "Model: \"CNN\"\n",
      "_________________________________________________________________\n",
      "Layer (type)                 Output Shape              Param #   \n",
      "=================================================================\n",
      "input_1 (InputLayer)         [(None, 224, 224, 3)]     0         \n",
      "_________________________________________________________________\n",
      "conv2d (Conv2D)              (None, 222, 222, 64)      1792      \n",
      "_________________________________________________________________\n",
      "max_pooling2d (MaxPooling2D) (None, 111, 111, 64)      0         \n",
      "_________________________________________________________________\n",
      "conv2d_1 (Conv2D)            (None, 109, 109, 64)      36928     \n",
      "_________________________________________________________________\n",
      "max_pooling2d_1 (MaxPooling2 (None, 54, 54, 64)        0         \n",
      "_________________________________________________________________\n",
      "conv2d_2 (Conv2D)            (None, 52, 52, 64)        36928     \n",
      "_________________________________________________________________\n",
      "max_pooling2d_2 (MaxPooling2 (None, 26, 26, 64)        0         \n",
      "_________________________________________________________________\n",
      "flatten (Flatten)            (None, 43264)             0         \n",
      "_________________________________________________________________\n",
      "dense (Dense)                (None, 64)                2768960   \n",
      "_________________________________________________________________\n",
      "dense_1 (Dense)              (None, 120)               7800      \n",
      "=================================================================\n",
      "Total params: 2,852,408\n",
      "Trainable params: 2,852,408\n",
      "Non-trainable params: 0\n",
      "_________________________________________________________________\n"
     ]
    }
   ],
   "source": [
    "cnn.summary()"
   ]
  },
  {
   "cell_type": "code",
   "execution_count": null,
   "metadata": {
    "scrolled": true
   },
   "outputs": [],
   "source": [
    "model_plot = tf.keras.utils.plot_model(cnn, show_shapes=True)\n",
    "display(model_plot)"
   ]
  },
  {
   "cell_type": "markdown",
   "metadata": {},
   "source": [
    "Checkpoints"
   ]
  },
  {
   "cell_type": "code",
   "execution_count": null,
   "metadata": {},
   "outputs": [],
   "source": [
    "model_checkpoint = tf.keras.callbacks.ModelCheckpoint(\n",
    "    filepath=os.path.join('models/', 'cnn_best_val_loss2.h5'),\n",
    "    save_weights_only=False,\n",
    "    monitor='val_loss',\n",
    "    mode='auto',\n",
    "    save_best_only=True)\n",
    "\n",
    "# If the validation loss doesn't improve, stop training\n",
    "earlystopping = tf.keras.callbacks.EarlyStopping(monitor='val_loss', patience=9)\n",
    "\n",
    "# If the validation loss doesn't improve, reduce the learning rate to 0.2 times it's previous value\n",
    "\n",
    "# New LR = Old LR * factor\n",
    "reduce_lr = tf.keras.callbacks.ReduceLROnPlateau(monitor='val_loss', factor=0.01, patience=3)"
   ]
  },
  {
   "cell_type": "markdown",
   "metadata": {},
   "source": [
    "Training the CNN model"
   ]
  },
  {
   "cell_type": "code",
   "execution_count": null,
   "metadata": {
    "scrolled": true
   },
   "outputs": [],
   "source": [
    "# Samples // batch size = # of batches\n",
    "# 1 epoch trains # of batches\n",
    "# Weights updated after each batch \n",
    "\n",
    "epochs = 10\n",
    "\n",
    "history = cnn.fit(training_set,\n",
    "          epochs=epochs,\n",
    "          steps_per_epoch=step_size_train,\n",
    "          validation_data=validation_set,\n",
    "          validation_steps=step_size_val,\n",
    "          callbacks=[model_checkpoint, earlystopping, reduce_lr], shuffle=True, verbose=1)"
   ]
  },
  {
   "cell_type": "markdown",
   "metadata": {},
   "source": [
    "Save final CNN model"
   ]
  },
  {
   "cell_type": "code",
   "execution_count": null,
   "metadata": {},
   "outputs": [],
   "source": [
    "cnn.save('models/final_cnn.h5')"
   ]
  },
  {
   "cell_type": "markdown",
   "metadata": {},
   "source": [
    "Model Evaluation"
   ]
  },
  {
   "cell_type": "code",
   "execution_count": null,
   "metadata": {},
   "outputs": [],
   "source": [
    "# Loss - Accuracy \n",
    "\n",
    "score3 = cnn.evaluate(validation_set, steps=step_size_val, verbose=1)\n",
    "print(f' Loss: {score3[0]}\\n Accuracy: {score3[1]}')"
   ]
  },
  {
   "cell_type": "markdown",
   "metadata": {},
   "source": [
    "Accuracy + Loss plot"
   ]
  },
  {
   "cell_type": "code",
   "execution_count": null,
   "metadata": {},
   "outputs": [],
   "source": [
    "plt.plot(history.history['accuracy'])\n",
    "plt.plot(history.history['val_accuracy'])\n",
    "plt.title('Model accuracy')\n",
    "plt.ylabel('Accuracy')\n",
    "plt.xlabel('Epoch')\n",
    "plt.legend(['Train', 'Val'], loc='upper left')\n",
    "plt.show()\n",
    "\n",
    "plt.plot(history.history['loss'])\n",
    "plt.plot(history.history['val_loss'])\n",
    "plt.title('Model loss')\n",
    "plt.ylabel('Loss')\n",
    "plt.xlabel('Epoch')\n",
    "plt.legend(['Train', 'Val'], loc='upper left')\n",
    "plt.show()"
   ]
  },
  {
   "cell_type": "markdown",
   "metadata": {},
   "source": [
    "Prediction on test set"
   ]
  },
  {
   "cell_type": "code",
   "execution_count": null,
   "metadata": {},
   "outputs": [],
   "source": [
    "cnn_y_pred = cnn.predict(test_set, verbose=1)"
   ]
  },
  {
   "cell_type": "markdown",
   "metadata": {},
   "source": [
    "##### 2. EfficientNet"
   ]
  },
  {
   "cell_type": "markdown",
   "metadata": {},
   "source": [
    "Using pre-trained EfficientNet model in keras (Transfer Learning)"
   ]
  },
  {
   "cell_type": "code",
   "execution_count": 17,
   "metadata": {},
   "outputs": [],
   "source": [
    "# Set include_top=False, as we will be using our own classification layer\n",
    "# Using imagenet weights\n",
    "\n",
    "eff = efn.EfficientNetB0(weights='imagenet', input_shape=(224,224,3), include_top=False)"
   ]
  },
  {
   "cell_type": "markdown",
   "metadata": {},
   "source": [
    "Building classification layer on top"
   ]
  },
  {
   "cell_type": "code",
   "execution_count": 18,
   "metadata": {},
   "outputs": [],
   "source": [
    "inputs = keras.Input(shape=(224,224,3))\n",
    "\n",
    "x = eff(inputs)\n",
    "\n",
    "x = GlobalAveragePooling2D()(x)\n",
    "\n",
    "x = Dense(units=128,activation='relu')(x)\n",
    "\n",
    "outputs = Dense(unique_breeds, activation='softmax')(x) # Sum of Prob = 1 \n",
    "\n",
    "effnet = keras.Model(inputs, outputs, name='EfficientNet')\n",
    "\n",
    "effnet.layers[1].trainable=False\n",
    "\n",
    "effnet.compile(optimizer = 'adam', loss = 'categorical_crossentropy', metrics = ['accuracy']) # Multi-class, Labels in one-hot, use categorical_crossentropy"
   ]
  },
  {
   "cell_type": "markdown",
   "metadata": {},
   "source": [
    "View Summary of the EfficientNet model"
   ]
  },
  {
   "cell_type": "code",
   "execution_count": 19,
   "metadata": {
    "scrolled": true
   },
   "outputs": [
    {
     "name": "stdout",
     "output_type": "stream",
     "text": [
      "Model: \"EfficientNet\"\n",
      "_________________________________________________________________\n",
      "Layer (type)                 Output Shape              Param #   \n",
      "=================================================================\n",
      "input_2 (InputLayer)         [(None, 224, 224, 3)]     0         \n",
      "_________________________________________________________________\n",
      "efficientnet-b0 (Functional) (None, 7, 7, 1280)        4049564   \n",
      "_________________________________________________________________\n",
      "global_average_pooling2d (Gl (None, 1280)              0         \n",
      "_________________________________________________________________\n",
      "dense (Dense)                (None, 128)               163968    \n",
      "_________________________________________________________________\n",
      "dense_1 (Dense)              (None, 120)               15480     \n",
      "=================================================================\n",
      "Total params: 4,229,012\n",
      "Trainable params: 179,448\n",
      "Non-trainable params: 4,049,564\n",
      "_________________________________________________________________\n"
     ]
    }
   ],
   "source": [
    "effnet.summary()"
   ]
  },
  {
   "cell_type": "code",
   "execution_count": 64,
   "metadata": {},
   "outputs": [],
   "source": [
    "# model_plot = tf.keras.utils.plot_model(effnet, show_shapes=True)\n",
    "# display(model_plot)"
   ]
  },
  {
   "cell_type": "markdown",
   "metadata": {},
   "source": [
    "Checkpoints"
   ]
  },
  {
   "cell_type": "code",
   "execution_count": 21,
   "metadata": {},
   "outputs": [],
   "source": [
    "model_checkpoint = tf.keras.callbacks.ModelCheckpoint(\n",
    "    filepath=os.path.join('models/', 'efnnet_best_val_loss2.h5'),\n",
    "    save_weights_only=False,\n",
    "    monitor='val_loss',\n",
    "    mode='auto',\n",
    "    save_best_only=True)\n",
    "\n",
    "# If the validation loss doesn't improve, stop training\n",
    "earlystopping = tf.keras.callbacks.EarlyStopping(monitor='val_loss', patience=6)\n",
    "\n",
    "# If the validation loss doesn't improve, reduce the learning rate to 0.2 times it's previous value\n",
    "\n",
    "# New LR = Old LR * factor\n",
    "reduce_lr = tf.keras.callbacks.ReduceLROnPlateau(monitor='val_loss', factor=0.01, patience=3)"
   ]
  },
  {
   "cell_type": "markdown",
   "metadata": {},
   "source": [
    "Training the model"
   ]
  },
  {
   "cell_type": "code",
   "execution_count": 22,
   "metadata": {},
   "outputs": [],
   "source": [
    "epochs = 30"
   ]
  },
  {
   "cell_type": "code",
   "execution_count": 23,
   "metadata": {
    "scrolled": true
   },
   "outputs": [
    {
     "name": "stdout",
     "output_type": "stream",
     "text": [
      "Epoch 1/30\n",
      "127/127 [==============================] - 108s 753ms/step - loss: 4.0719 - accuracy: 0.1434 - val_loss: 1.6682 - val_accuracy: 0.5766\n",
      "Epoch 2/30\n",
      "127/127 [==============================] - 89s 703ms/step - loss: 1.9518 - accuracy: 0.4950 - val_loss: 1.2324 - val_accuracy: 0.6613\n",
      "Epoch 3/30\n",
      "127/127 [==============================] - 89s 703ms/step - loss: 1.6160 - accuracy: 0.5551 - val_loss: 1.1017 - val_accuracy: 0.6794\n",
      "Epoch 4/30\n",
      "127/127 [==============================] - 92s 727ms/step - loss: 1.3813 - accuracy: 0.6156 - val_loss: 1.0669 - val_accuracy: 0.6759\n",
      "Epoch 5/30\n",
      "127/127 [==============================] - 93s 732ms/step - loss: 1.2923 - accuracy: 0.6356 - val_loss: 1.0529 - val_accuracy: 0.6729\n",
      "Epoch 6/30\n",
      "127/127 [==============================] - 92s 727ms/step - loss: 1.2012 - accuracy: 0.6628 - val_loss: 1.0191 - val_accuracy: 0.7006\n",
      "Epoch 7/30\n",
      "127/127 [==============================] - 92s 725ms/step - loss: 1.1594 - accuracy: 0.6707 - val_loss: 1.0173 - val_accuracy: 0.7001\n",
      "Epoch 8/30\n",
      "127/127 [==============================] - 92s 725ms/step - loss: 1.1009 - accuracy: 0.6828 - val_loss: 0.9779 - val_accuracy: 0.7031\n",
      "Epoch 9/30\n",
      "127/127 [==============================] - 89s 703ms/step - loss: 1.0229 - accuracy: 0.7111 - val_loss: 0.9618 - val_accuracy: 0.7107\n",
      "Epoch 10/30\n",
      "127/127 [==============================] - 89s 702ms/step - loss: 0.9847 - accuracy: 0.7128 - val_loss: 0.9628 - val_accuracy: 0.7051\n",
      "Epoch 11/30\n",
      "127/127 [==============================] - 90s 705ms/step - loss: 0.9753 - accuracy: 0.7119 - val_loss: 0.9716 - val_accuracy: 0.7182\n",
      "Epoch 12/30\n",
      "127/127 [==============================] - 89s 703ms/step - loss: 0.9500 - accuracy: 0.7224 - val_loss: 0.9840 - val_accuracy: 0.7182\n",
      "Epoch 13/30\n",
      "127/127 [==============================] - 89s 701ms/step - loss: 0.8987 - accuracy: 0.7386 - val_loss: 0.9623 - val_accuracy: 0.7188\n",
      "Epoch 14/30\n",
      "127/127 [==============================] - 89s 701ms/step - loss: 0.8267 - accuracy: 0.7618 - val_loss: 0.9404 - val_accuracy: 0.7263\n",
      "Epoch 15/30\n",
      "127/127 [==============================] - 95s 746ms/step - loss: 0.8208 - accuracy: 0.7748 - val_loss: 0.9379 - val_accuracy: 0.7258\n",
      "Epoch 16/30\n",
      "127/127 [==============================] - 99s 782ms/step - loss: 0.8242 - accuracy: 0.7651 - val_loss: 0.9331 - val_accuracy: 0.7268\n",
      "Epoch 17/30\n",
      "127/127 [==============================] - 96s 756ms/step - loss: 0.8199 - accuracy: 0.7603 - val_loss: 0.9321 - val_accuracy: 0.7283\n",
      "Epoch 18/30\n",
      "127/127 [==============================] - 91s 716ms/step - loss: 0.8070 - accuracy: 0.7750 - val_loss: 0.9218 - val_accuracy: 0.7293\n",
      "Epoch 19/30\n",
      "127/127 [==============================] - 94s 740ms/step - loss: 0.8099 - accuracy: 0.7680 - val_loss: 0.9312 - val_accuracy: 0.7303\n",
      "Epoch 20/30\n",
      "127/127 [==============================] - 94s 740ms/step - loss: 0.7834 - accuracy: 0.7750 - val_loss: 0.9312 - val_accuracy: 0.7298\n",
      "Epoch 21/30\n",
      "127/127 [==============================] - 94s 738ms/step - loss: 0.8101 - accuracy: 0.7758 - val_loss: 0.9268 - val_accuracy: 0.7308\n",
      "Epoch 22/30\n",
      "127/127 [==============================] - 94s 743ms/step - loss: 0.8261 - accuracy: 0.7660 - val_loss: 0.9291 - val_accuracy: 0.7308\n",
      "Epoch 23/30\n",
      "127/127 [==============================] - 95s 747ms/step - loss: 0.8013 - accuracy: 0.7776 - val_loss: 0.9273 - val_accuracy: 0.7298\n",
      "Epoch 24/30\n",
      "127/127 [==============================] - 94s 742ms/step - loss: 0.7824 - accuracy: 0.7807 - val_loss: 0.9191 - val_accuracy: 0.7319\n",
      "Epoch 25/30\n",
      "127/127 [==============================] - 96s 754ms/step - loss: 0.8207 - accuracy: 0.7736 - val_loss: 0.9260 - val_accuracy: 0.7324\n",
      "Epoch 26/30\n",
      "127/127 [==============================] - 96s 758ms/step - loss: 0.7891 - accuracy: 0.7817 - val_loss: 0.9246 - val_accuracy: 0.7319\n",
      "Epoch 27/30\n",
      "127/127 [==============================] - 96s 752ms/step - loss: 0.7970 - accuracy: 0.7765 - val_loss: 0.9252 - val_accuracy: 0.7314\n",
      "Epoch 28/30\n",
      "127/127 [==============================] - 95s 751ms/step - loss: 0.7926 - accuracy: 0.7760 - val_loss: 0.9265 - val_accuracy: 0.7319\n",
      "Epoch 29/30\n",
      "127/127 [==============================] - 95s 751ms/step - loss: 0.7986 - accuracy: 0.7821 - val_loss: 0.9221 - val_accuracy: 0.7319\n",
      "Epoch 30/30\n",
      "127/127 [==============================] - 96s 752ms/step - loss: 0.7875 - accuracy: 0.7782 - val_loss: 0.9187 - val_accuracy: 0.7303\n"
     ]
    }
   ],
   "source": [
    "history2 = effnet.fit(training_set,\n",
    "          epochs=epochs,\n",
    "          steps_per_epoch=step_size_train,\n",
    "          validation_data=validation_set,\n",
    "          validation_steps=step_size_val,\n",
    "          callbacks=[model_checkpoint, earlystopping, reduce_lr], verbose=1)"
   ]
  },
  {
   "cell_type": "markdown",
   "metadata": {},
   "source": [
    "Save final model"
   ]
  },
  {
   "cell_type": "code",
   "execution_count": 24,
   "metadata": {},
   "outputs": [],
   "source": [
    "effnet.save('models/final_effnetb0.h5')"
   ]
  },
  {
   "cell_type": "markdown",
   "metadata": {},
   "source": [
    "Model Evaluation"
   ]
  },
  {
   "cell_type": "code",
   "execution_count": 26,
   "metadata": {},
   "outputs": [
    {
     "name": "stdout",
     "output_type": "stream",
     "text": [
      "31/31 [==============================] - 6s 179ms/step - loss: 0.9260 - accuracy: 0.73082s - l\n",
      " Loss: 0.9259665608406067\n",
      " Accuracy: 0.7308467626571655\n"
     ]
    }
   ],
   "source": [
    "score4 = effnet.evaluate(validation_set, steps=step_size_val, verbose=1)\n",
    "print(f' Loss: {score4[0]}\\n Accuracy: {score4[1]}')"
   ]
  },
  {
   "cell_type": "markdown",
   "metadata": {},
   "source": [
    "Accuracy + Loss Plot"
   ]
  },
  {
   "cell_type": "code",
   "execution_count": 27,
   "metadata": {},
   "outputs": [
    {
     "data": {
      "image/png": "[encoded data removed]",
      "text/plain": [
       "<Figure size 432x288 with 1 Axes>"
      ]
     },
     "metadata": {
      "needs_background": "light"
     },
     "output_type": "display_data"
    },
    {
     "data": {
      "image/png": "[encoded data removed]",
      "text/plain": [
       "<Figure size 432x288 with 1 Axes>"
      ]
     },
     "metadata": {
      "needs_background": "light"
     },
     "output_type": "display_data"
    }
   ],
   "source": [
    "plt.plot(history2.history['accuracy'])\n",
    "plt.plot(history2.history['val_accuracy'])\n",
    "plt.title('Model accuracy')\n",
    "plt.ylabel('Accuracy')\n",
    "plt.xlabel('Epoch')\n",
    "plt.legend(['Train', 'Val'], loc='upper left')\n",
    "plt.show()\n",
    "\n",
    "plt.plot(history2.history['loss'])\n",
    "plt.plot(history2.history['val_loss'])\n",
    "plt.title('Model loss')\n",
    "plt.ylabel('Loss')\n",
    "plt.xlabel('Epoch')\n",
    "plt.legend(['Train', 'Val'], loc='upper left')\n",
    "plt.show()"
   ]
  },
  {
   "cell_type": "markdown",
   "metadata": {},
   "source": [
    "Prediction on test set"
   ]
  },
  {
   "cell_type": "code",
   "execution_count": 29,
   "metadata": {},
   "outputs": [
    {
     "name": "stdout",
     "output_type": "stream",
     "text": [
      "162/162 [==============================] - 40s 242ms/step\n"
     ]
    }
   ],
   "source": [
    "efnnet_y_pred = effnet.predict(test_set, verbose=1)"
   ]
  },
  {
   "cell_type": "markdown",
   "metadata": {},
   "source": [
    "##### c) Models Evaluation"
   ]
  },
  {
   "cell_type": "code",
   "execution_count": null,
   "metadata": {},
   "outputs": [],
   "source": [
    "print(\"CNN:\\n\")\n",
    "print(f' Loss: {score3[0]}\\n Accuracy: {score3[1]}')\n",
    "print(\"\\n\")\n",
    "print(\"EfficientNet:\\n\")\n",
    "print(f' Loss: {score4[0]}\\n Accuracy: {score4[1]}')"
   ]
  },
  {
   "cell_type": "markdown",
   "metadata": {},
   "source": [
    "-- "
   ]
  },
  {
   "cell_type": "markdown",
   "metadata": {},
   "source": [
    "##### d) Submission"
   ]
  },
  {
   "cell_type": "code",
   "execution_count": 30,
   "metadata": {},
   "outputs": [
    {
     "data": {
      "text/html": [
       "<div>\n",
       "<style scoped>\n",
       "    .dataframe tbody tr th:only-of-type {\n",
       "        vertical-align: middle;\n",
       "    }\n",
       "\n",
       "    .dataframe tbody tr th {\n",
       "        vertical-align: top;\n",
       "    }\n",
       "\n",
       "    .dataframe thead th {\n",
       "        text-align: right;\n",
       "    }\n",
       "</style>\n",
       "<table border=\"1\" class=\"dataframe\">\n",
       "  <thead>\n",
       "    <tr style=\"text-align: right;\">\n",
       "      <th></th>\n",
       "      <th>id</th>\n",
       "      <th>affenpinscher</th>\n",
       "      <th>afghan_hound</th>\n",
       "      <th>african_hunting_dog</th>\n",
       "      <th>airedale</th>\n",
       "      <th>american_staffordshire_terrier</th>\n",
       "      <th>appenzeller</th>\n",
       "      <th>australian_terrier</th>\n",
       "      <th>basenji</th>\n",
       "      <th>basset</th>\n",
       "      <th>...</th>\n",
       "      <th>toy_poodle</th>\n",
       "      <th>toy_terrier</th>\n",
       "      <th>vizsla</th>\n",
       "      <th>walker_hound</th>\n",
       "      <th>weimaraner</th>\n",
       "      <th>welsh_springer_spaniel</th>\n",
       "      <th>west_highland_white_terrier</th>\n",
       "      <th>whippet</th>\n",
       "      <th>wire-haired_fox_terrier</th>\n",
       "      <th>yorkshire_terrier</th>\n",
       "    </tr>\n",
       "  </thead>\n",
       "  <tbody>\n",
       "    <tr>\n",
       "      <th>0</th>\n",
       "      <td>000621fb3cbb32d8935728e48679680e</td>\n",
       "      <td>0.008333</td>\n",
       "      <td>0.008333</td>\n",
       "      <td>0.008333</td>\n",
       "      <td>0.008333</td>\n",
       "      <td>0.008333</td>\n",
       "      <td>0.008333</td>\n",
       "      <td>0.008333</td>\n",
       "      <td>0.008333</td>\n",
       "      <td>0.008333</td>\n",
       "      <td>...</td>\n",
       "      <td>0.008333</td>\n",
       "      <td>0.008333</td>\n",
       "      <td>0.008333</td>\n",
       "      <td>0.008333</td>\n",
       "      <td>0.008333</td>\n",
       "      <td>0.008333</td>\n",
       "      <td>0.008333</td>\n",
       "      <td>0.008333</td>\n",
       "      <td>0.008333</td>\n",
       "      <td>0.008333</td>\n",
       "    </tr>\n",
       "    <tr>\n",
       "      <th>1</th>\n",
       "      <td>00102ee9d8eb90812350685311fe5890</td>\n",
       "      <td>0.008333</td>\n",
       "      <td>0.008333</td>\n",
       "      <td>0.008333</td>\n",
       "      <td>0.008333</td>\n",
       "      <td>0.008333</td>\n",
       "      <td>0.008333</td>\n",
       "      <td>0.008333</td>\n",
       "      <td>0.008333</td>\n",
       "      <td>0.008333</td>\n",
       "      <td>...</td>\n",
       "      <td>0.008333</td>\n",
       "      <td>0.008333</td>\n",
       "      <td>0.008333</td>\n",
       "      <td>0.008333</td>\n",
       "      <td>0.008333</td>\n",
       "      <td>0.008333</td>\n",
       "      <td>0.008333</td>\n",
       "      <td>0.008333</td>\n",
       "      <td>0.008333</td>\n",
       "      <td>0.008333</td>\n",
       "    </tr>\n",
       "    <tr>\n",
       "      <th>2</th>\n",
       "      <td>0012a730dfa437f5f3613fb75efcd4ce</td>\n",
       "      <td>0.008333</td>\n",
       "      <td>0.008333</td>\n",
       "      <td>0.008333</td>\n",
       "      <td>0.008333</td>\n",
       "      <td>0.008333</td>\n",
       "      <td>0.008333</td>\n",
       "      <td>0.008333</td>\n",
       "      <td>0.008333</td>\n",
       "      <td>0.008333</td>\n",
       "      <td>...</td>\n",
       "      <td>0.008333</td>\n",
       "      <td>0.008333</td>\n",
       "      <td>0.008333</td>\n",
       "      <td>0.008333</td>\n",
       "      <td>0.008333</td>\n",
       "      <td>0.008333</td>\n",
       "      <td>0.008333</td>\n",
       "      <td>0.008333</td>\n",
       "      <td>0.008333</td>\n",
       "      <td>0.008333</td>\n",
       "    </tr>\n",
       "    <tr>\n",
       "      <th>3</th>\n",
       "      <td>001510bc8570bbeee98c8d80c8a95ec1</td>\n",
       "      <td>0.008333</td>\n",
       "      <td>0.008333</td>\n",
       "      <td>0.008333</td>\n",
       "      <td>0.008333</td>\n",
       "      <td>0.008333</td>\n",
       "      <td>0.008333</td>\n",
       "      <td>0.008333</td>\n",
       "      <td>0.008333</td>\n",
       "      <td>0.008333</td>\n",
       "      <td>...</td>\n",
       "      <td>0.008333</td>\n",
       "      <td>0.008333</td>\n",
       "      <td>0.008333</td>\n",
       "      <td>0.008333</td>\n",
       "      <td>0.008333</td>\n",
       "      <td>0.008333</td>\n",
       "      <td>0.008333</td>\n",
       "      <td>0.008333</td>\n",
       "      <td>0.008333</td>\n",
       "      <td>0.008333</td>\n",
       "    </tr>\n",
       "    <tr>\n",
       "      <th>4</th>\n",
       "      <td>001a5f3114548acdefa3d4da05474c2e</td>\n",
       "      <td>0.008333</td>\n",
       "      <td>0.008333</td>\n",
       "      <td>0.008333</td>\n",
       "      <td>0.008333</td>\n",
       "      <td>0.008333</td>\n",
       "      <td>0.008333</td>\n",
       "      <td>0.008333</td>\n",
       "      <td>0.008333</td>\n",
       "      <td>0.008333</td>\n",
       "      <td>...</td>\n",
       "      <td>0.008333</td>\n",
       "      <td>0.008333</td>\n",
       "      <td>0.008333</td>\n",
       "      <td>0.008333</td>\n",
       "      <td>0.008333</td>\n",
       "      <td>0.008333</td>\n",
       "      <td>0.008333</td>\n",
       "      <td>0.008333</td>\n",
       "      <td>0.008333</td>\n",
       "      <td>0.008333</td>\n",
       "    </tr>\n",
       "    <tr>\n",
       "      <th>...</th>\n",
       "      <td>...</td>\n",
       "      <td>...</td>\n",
       "      <td>...</td>\n",
       "      <td>...</td>\n",
       "      <td>...</td>\n",
       "      <td>...</td>\n",
       "      <td>...</td>\n",
       "      <td>...</td>\n",
       "      <td>...</td>\n",
       "      <td>...</td>\n",
       "      <td>...</td>\n",
       "      <td>...</td>\n",
       "      <td>...</td>\n",
       "      <td>...</td>\n",
       "      <td>...</td>\n",
       "      <td>...</td>\n",
       "      <td>...</td>\n",
       "      <td>...</td>\n",
       "      <td>...</td>\n",
       "      <td>...</td>\n",
       "      <td>...</td>\n",
       "    </tr>\n",
       "    <tr>\n",
       "      <th>10352</th>\n",
       "      <td>ffeda8623d4eee33c6d1156a2ecbfcf8</td>\n",
       "      <td>0.008333</td>\n",
       "      <td>0.008333</td>\n",
       "      <td>0.008333</td>\n",
       "      <td>0.008333</td>\n",
       "      <td>0.008333</td>\n",
       "      <td>0.008333</td>\n",
       "      <td>0.008333</td>\n",
       "      <td>0.008333</td>\n",
       "      <td>0.008333</td>\n",
       "      <td>...</td>\n",
       "      <td>0.008333</td>\n",
       "      <td>0.008333</td>\n",
       "      <td>0.008333</td>\n",
       "      <td>0.008333</td>\n",
       "      <td>0.008333</td>\n",
       "      <td>0.008333</td>\n",
       "      <td>0.008333</td>\n",
       "      <td>0.008333</td>\n",
       "      <td>0.008333</td>\n",
       "      <td>0.008333</td>\n",
       "    </tr>\n",
       "    <tr>\n",
       "      <th>10353</th>\n",
       "      <td>fff1ec9e6e413275984966f745a313b0</td>\n",
       "      <td>0.008333</td>\n",
       "      <td>0.008333</td>\n",
       "      <td>0.008333</td>\n",
       "      <td>0.008333</td>\n",
       "      <td>0.008333</td>\n",
       "      <td>0.008333</td>\n",
       "      <td>0.008333</td>\n",
       "      <td>0.008333</td>\n",
       "      <td>0.008333</td>\n",
       "      <td>...</td>\n",
       "      <td>0.008333</td>\n",
       "      <td>0.008333</td>\n",
       "      <td>0.008333</td>\n",
       "      <td>0.008333</td>\n",
       "      <td>0.008333</td>\n",
       "      <td>0.008333</td>\n",
       "      <td>0.008333</td>\n",
       "      <td>0.008333</td>\n",
       "      <td>0.008333</td>\n",
       "      <td>0.008333</td>\n",
       "    </tr>\n",
       "    <tr>\n",
       "      <th>10354</th>\n",
       "      <td>fff74b59b758bbbf13a5793182a9bbe4</td>\n",
       "      <td>0.008333</td>\n",
       "      <td>0.008333</td>\n",
       "      <td>0.008333</td>\n",
       "      <td>0.008333</td>\n",
       "      <td>0.008333</td>\n",
       "      <td>0.008333</td>\n",
       "      <td>0.008333</td>\n",
       "      <td>0.008333</td>\n",
       "      <td>0.008333</td>\n",
       "      <td>...</td>\n",
       "      <td>0.008333</td>\n",
       "      <td>0.008333</td>\n",
       "      <td>0.008333</td>\n",
       "      <td>0.008333</td>\n",
       "      <td>0.008333</td>\n",
       "      <td>0.008333</td>\n",
       "      <td>0.008333</td>\n",
       "      <td>0.008333</td>\n",
       "      <td>0.008333</td>\n",
       "      <td>0.008333</td>\n",
       "    </tr>\n",
       "    <tr>\n",
       "      <th>10355</th>\n",
       "      <td>fff7d50d848e8014ac1e9172dc6762a3</td>\n",
       "      <td>0.008333</td>\n",
       "      <td>0.008333</td>\n",
       "      <td>0.008333</td>\n",
       "      <td>0.008333</td>\n",
       "      <td>0.008333</td>\n",
       "      <td>0.008333</td>\n",
       "      <td>0.008333</td>\n",
       "      <td>0.008333</td>\n",
       "      <td>0.008333</td>\n",
       "      <td>...</td>\n",
       "      <td>0.008333</td>\n",
       "      <td>0.008333</td>\n",
       "      <td>0.008333</td>\n",
       "      <td>0.008333</td>\n",
       "      <td>0.008333</td>\n",
       "      <td>0.008333</td>\n",
       "      <td>0.008333</td>\n",
       "      <td>0.008333</td>\n",
       "      <td>0.008333</td>\n",
       "      <td>0.008333</td>\n",
       "    </tr>\n",
       "    <tr>\n",
       "      <th>10356</th>\n",
       "      <td>fffbff22c1f51e3dc80c4bf04089545b</td>\n",
       "      <td>0.008333</td>\n",
       "      <td>0.008333</td>\n",
       "      <td>0.008333</td>\n",
       "      <td>0.008333</td>\n",
       "      <td>0.008333</td>\n",
       "      <td>0.008333</td>\n",
       "      <td>0.008333</td>\n",
       "      <td>0.008333</td>\n",
       "      <td>0.008333</td>\n",
       "      <td>...</td>\n",
       "      <td>0.008333</td>\n",
       "      <td>0.008333</td>\n",
       "      <td>0.008333</td>\n",
       "      <td>0.008333</td>\n",
       "      <td>0.008333</td>\n",
       "      <td>0.008333</td>\n",
       "      <td>0.008333</td>\n",
       "      <td>0.008333</td>\n",
       "      <td>0.008333</td>\n",
       "      <td>0.008333</td>\n",
       "    </tr>\n",
       "  </tbody>\n",
       "</table>\n",
       "<p>10357 rows × 121 columns</p>\n",
       "</div>"
      ],
      "text/plain": [
       "                                     id  affenpinscher  afghan_hound  \\\n",
       "0      000621fb3cbb32d8935728e48679680e       0.008333      0.008333   \n",
       "1      00102ee9d8eb90812350685311fe5890       0.008333      0.008333   \n",
       "2      0012a730dfa437f5f3613fb75efcd4ce       0.008333      0.008333   \n",
       "3      001510bc8570bbeee98c8d80c8a95ec1       0.008333      0.008333   \n",
       "4      001a5f3114548acdefa3d4da05474c2e       0.008333      0.008333   \n",
       "...                                 ...            ...           ...   \n",
       "10352  ffeda8623d4eee33c6d1156a2ecbfcf8       0.008333      0.008333   \n",
       "10353  fff1ec9e6e413275984966f745a313b0       0.008333      0.008333   \n",
       "10354  fff74b59b758bbbf13a5793182a9bbe4       0.008333      0.008333   \n",
       "10355  fff7d50d848e8014ac1e9172dc6762a3       0.008333      0.008333   \n",
       "10356  fffbff22c1f51e3dc80c4bf04089545b       0.008333      0.008333   \n",
       "\n",
       "       african_hunting_dog  airedale  american_staffordshire_terrier  \\\n",
       "0                 0.008333  0.008333                        0.008333   \n",
       "1                 0.008333  0.008333                        0.008333   \n",
       "2                 0.008333  0.008333                        0.008333   \n",
       "3                 0.008333  0.008333                        0.008333   \n",
       "4                 0.008333  0.008333                        0.008333   \n",
       "...                    ...       ...                             ...   \n",
       "10352             0.008333  0.008333                        0.008333   \n",
       "10353             0.008333  0.008333                        0.008333   \n",
       "10354             0.008333  0.008333                        0.008333   \n",
       "10355             0.008333  0.008333                        0.008333   \n",
       "10356             0.008333  0.008333                        0.008333   \n",
       "\n",
       "       appenzeller  australian_terrier   basenji    basset  ...  toy_poodle  \\\n",
       "0         0.008333            0.008333  0.008333  0.008333  ...    0.008333   \n",
       "1         0.008333            0.008333  0.008333  0.008333  ...    0.008333   \n",
       "2         0.008333            0.008333  0.008333  0.008333  ...    0.008333   \n",
       "3         0.008333            0.008333  0.008333  0.008333  ...    0.008333   \n",
       "4         0.008333            0.008333  0.008333  0.008333  ...    0.008333   \n",
       "...            ...                 ...       ...       ...  ...         ...   \n",
       "10352     0.008333            0.008333  0.008333  0.008333  ...    0.008333   \n",
       "10353     0.008333            0.008333  0.008333  0.008333  ...    0.008333   \n",
       "10354     0.008333            0.008333  0.008333  0.008333  ...    0.008333   \n",
       "10355     0.008333            0.008333  0.008333  0.008333  ...    0.008333   \n",
       "10356     0.008333            0.008333  0.008333  0.008333  ...    0.008333   \n",
       "\n",
       "       toy_terrier    vizsla  walker_hound  weimaraner  \\\n",
       "0         0.008333  0.008333      0.008333    0.008333   \n",
       "1         0.008333  0.008333      0.008333    0.008333   \n",
       "2         0.008333  0.008333      0.008333    0.008333   \n",
       "3         0.008333  0.008333      0.008333    0.008333   \n",
       "4         0.008333  0.008333      0.008333    0.008333   \n",
       "...            ...       ...           ...         ...   \n",
       "10352     0.008333  0.008333      0.008333    0.008333   \n",
       "10353     0.008333  0.008333      0.008333    0.008333   \n",
       "10354     0.008333  0.008333      0.008333    0.008333   \n",
       "10355     0.008333  0.008333      0.008333    0.008333   \n",
       "10356     0.008333  0.008333      0.008333    0.008333   \n",
       "\n",
       "       welsh_springer_spaniel  west_highland_white_terrier   whippet  \\\n",
       "0                    0.008333                     0.008333  0.008333   \n",
       "1                    0.008333                     0.008333  0.008333   \n",
       "2                    0.008333                     0.008333  0.008333   \n",
       "3                    0.008333                     0.008333  0.008333   \n",
       "4                    0.008333                     0.008333  0.008333   \n",
       "...                       ...                          ...       ...   \n",
       "10352                0.008333                     0.008333  0.008333   \n",
       "10353                0.008333                     0.008333  0.008333   \n",
       "10354                0.008333                     0.008333  0.008333   \n",
       "10355                0.008333                     0.008333  0.008333   \n",
       "10356                0.008333                     0.008333  0.008333   \n",
       "\n",
       "       wire-haired_fox_terrier  yorkshire_terrier  \n",
       "0                     0.008333           0.008333  \n",
       "1                     0.008333           0.008333  \n",
       "2                     0.008333           0.008333  \n",
       "3                     0.008333           0.008333  \n",
       "4                     0.008333           0.008333  \n",
       "...                        ...                ...  \n",
       "10352                 0.008333           0.008333  \n",
       "10353                 0.008333           0.008333  \n",
       "10354                 0.008333           0.008333  \n",
       "10355                 0.008333           0.008333  \n",
       "10356                 0.008333           0.008333  \n",
       "\n",
       "[10357 rows x 121 columns]"
      ]
     },
     "execution_count": 30,
     "metadata": {},
     "output_type": "execute_result"
    }
   ],
   "source": [
    "sample2 = pd.read_csv('sample_submission.csv')"
   ]
  },
  {
   "cell_type": "markdown",
   "metadata": {},
   "source": [
    "Get list of filenames"
   ]
  },
  {
   "cell_type": "code",
   "execution_count": 31,
   "metadata": {},
   "outputs": [],
   "source": [
    "files = test_set.filenames\n",
    "ids = []\n",
    "\n",
    "for name in files:\n",
    "    m = re.sub('test/', '', name)\n",
    "    m = re.sub('.jpg', '', m)\n",
    "    ids.append(m)"
   ]
  },
  {
   "cell_type": "markdown",
   "metadata": {},
   "source": [
    "Map each prediction value to its respective class for each image/file"
   ]
  },
  {
   "cell_type": "code",
   "execution_count": 32,
   "metadata": {},
   "outputs": [
    {
     "data": {
      "text/html": [
       "<div>\n",
       "<style scoped>\n",
       "    .dataframe tbody tr th:only-of-type {\n",
       "        vertical-align: middle;\n",
       "    }\n",
       "\n",
       "    .dataframe tbody tr th {\n",
       "        vertical-align: top;\n",
       "    }\n",
       "\n",
       "    .dataframe thead th {\n",
       "        text-align: right;\n",
       "    }\n",
       "</style>\n",
       "<table border=\"1\" class=\"dataframe\">\n",
       "  <thead>\n",
       "    <tr style=\"text-align: right;\">\n",
       "      <th></th>\n",
       "      <th>id</th>\n",
       "      <th>affenpinscher</th>\n",
       "      <th>afghan_hound</th>\n",
       "      <th>african_hunting_dog</th>\n",
       "      <th>airedale</th>\n",
       "      <th>american_staffordshire_terrier</th>\n",
       "      <th>appenzeller</th>\n",
       "      <th>australian_terrier</th>\n",
       "      <th>basenji</th>\n",
       "      <th>basset</th>\n",
       "      <th>...</th>\n",
       "      <th>toy_poodle</th>\n",
       "      <th>toy_terrier</th>\n",
       "      <th>vizsla</th>\n",
       "      <th>walker_hound</th>\n",
       "      <th>weimaraner</th>\n",
       "      <th>welsh_springer_spaniel</th>\n",
       "      <th>west_highland_white_terrier</th>\n",
       "      <th>whippet</th>\n",
       "      <th>wire-haired_fox_terrier</th>\n",
       "      <th>yorkshire_terrier</th>\n",
       "    </tr>\n",
       "  </thead>\n",
       "  <tbody>\n",
       "    <tr>\n",
       "      <th>0</th>\n",
       "      <td>test\\000621fb3cbb32d8935728e48679680e</td>\n",
       "      <td>1.118752e-07</td>\n",
       "      <td>9.909627e-06</td>\n",
       "      <td>9.689343e-10</td>\n",
       "      <td>1.108678e-10</td>\n",
       "      <td>3.863621e-09</td>\n",
       "      <td>3.802730e-08</td>\n",
       "      <td>8.445660e-08</td>\n",
       "      <td>1.482428e-09</td>\n",
       "      <td>5.085420e-09</td>\n",
       "      <td>...</td>\n",
       "      <td>9.586721e-08</td>\n",
       "      <td>2.560177e-07</td>\n",
       "      <td>1.147801e-10</td>\n",
       "      <td>1.118385e-08</td>\n",
       "      <td>1.119525e-09</td>\n",
       "      <td>3.078751e-08</td>\n",
       "      <td>1.178350e-08</td>\n",
       "      <td>4.946136e-09</td>\n",
       "      <td>4.200325e-09</td>\n",
       "      <td>2.343702e-07</td>\n",
       "    </tr>\n",
       "    <tr>\n",
       "      <th>1</th>\n",
       "      <td>test\\00102ee9d8eb90812350685311fe5890</td>\n",
       "      <td>9.974036e-07</td>\n",
       "      <td>4.804367e-07</td>\n",
       "      <td>2.671979e-08</td>\n",
       "      <td>6.637133e-08</td>\n",
       "      <td>4.238565e-05</td>\n",
       "      <td>5.378876e-07</td>\n",
       "      <td>1.861682e-07</td>\n",
       "      <td>8.644247e-07</td>\n",
       "      <td>9.794309e-09</td>\n",
       "      <td>...</td>\n",
       "      <td>1.005695e-05</td>\n",
       "      <td>1.578996e-06</td>\n",
       "      <td>1.910249e-07</td>\n",
       "      <td>2.711056e-06</td>\n",
       "      <td>5.436159e-07</td>\n",
       "      <td>7.477004e-08</td>\n",
       "      <td>9.774947e-05</td>\n",
       "      <td>3.741498e-07</td>\n",
       "      <td>6.126218e-07</td>\n",
       "      <td>2.239914e-08</td>\n",
       "    </tr>\n",
       "    <tr>\n",
       "      <th>2</th>\n",
       "      <td>test\\0012a730dfa437f5f3613fb75efcd4ce</td>\n",
       "      <td>3.627980e-06</td>\n",
       "      <td>2.746189e-02</td>\n",
       "      <td>3.658567e-07</td>\n",
       "      <td>2.277810e-04</td>\n",
       "      <td>1.077051e-05</td>\n",
       "      <td>1.008959e-06</td>\n",
       "      <td>1.496980e-06</td>\n",
       "      <td>6.310680e-09</td>\n",
       "      <td>2.452861e-07</td>\n",
       "      <td>...</td>\n",
       "      <td>1.732889e-05</td>\n",
       "      <td>7.994785e-08</td>\n",
       "      <td>2.246557e-05</td>\n",
       "      <td>1.067380e-04</td>\n",
       "      <td>1.922098e-04</td>\n",
       "      <td>1.290043e-03</td>\n",
       "      <td>8.681233e-07</td>\n",
       "      <td>6.191797e-05</td>\n",
       "      <td>2.457272e-05</td>\n",
       "      <td>5.310518e-07</td>\n",
       "    </tr>\n",
       "    <tr>\n",
       "      <th>3</th>\n",
       "      <td>test\\001510bc8570bbeee98c8d80c8a95ec1</td>\n",
       "      <td>8.174382e-03</td>\n",
       "      <td>8.583743e-05</td>\n",
       "      <td>9.526138e-06</td>\n",
       "      <td>1.756725e-04</td>\n",
       "      <td>4.287047e-03</td>\n",
       "      <td>8.404830e-03</td>\n",
       "      <td>3.505893e-05</td>\n",
       "      <td>2.586749e-04</td>\n",
       "      <td>1.634876e-05</td>\n",
       "      <td>...</td>\n",
       "      <td>1.462206e-04</td>\n",
       "      <td>1.832008e-05</td>\n",
       "      <td>7.292271e-04</td>\n",
       "      <td>9.703080e-06</td>\n",
       "      <td>2.590578e-04</td>\n",
       "      <td>8.029072e-07</td>\n",
       "      <td>2.245853e-06</td>\n",
       "      <td>2.094897e-03</td>\n",
       "      <td>3.914822e-07</td>\n",
       "      <td>1.328343e-04</td>\n",
       "    </tr>\n",
       "    <tr>\n",
       "      <th>4</th>\n",
       "      <td>test\\001a5f3114548acdefa3d4da05474c2e</td>\n",
       "      <td>2.905964e-03</td>\n",
       "      <td>8.515082e-04</td>\n",
       "      <td>1.342599e-06</td>\n",
       "      <td>5.777601e-06</td>\n",
       "      <td>2.633478e-05</td>\n",
       "      <td>1.399249e-07</td>\n",
       "      <td>2.325099e-03</td>\n",
       "      <td>2.261198e-07</td>\n",
       "      <td>6.450874e-07</td>\n",
       "      <td>...</td>\n",
       "      <td>5.052771e-05</td>\n",
       "      <td>6.055498e-06</td>\n",
       "      <td>6.873390e-08</td>\n",
       "      <td>3.228758e-08</td>\n",
       "      <td>1.007408e-07</td>\n",
       "      <td>1.225534e-06</td>\n",
       "      <td>1.519684e-04</td>\n",
       "      <td>3.188874e-07</td>\n",
       "      <td>5.631857e-05</td>\n",
       "      <td>9.543112e-04</td>\n",
       "    </tr>\n",
       "    <tr>\n",
       "      <th>...</th>\n",
       "      <td>...</td>\n",
       "      <td>...</td>\n",
       "      <td>...</td>\n",
       "      <td>...</td>\n",
       "      <td>...</td>\n",
       "      <td>...</td>\n",
       "      <td>...</td>\n",
       "      <td>...</td>\n",
       "      <td>...</td>\n",
       "      <td>...</td>\n",
       "      <td>...</td>\n",
       "      <td>...</td>\n",
       "      <td>...</td>\n",
       "      <td>...</td>\n",
       "      <td>...</td>\n",
       "      <td>...</td>\n",
       "      <td>...</td>\n",
       "      <td>...</td>\n",
       "      <td>...</td>\n",
       "      <td>...</td>\n",
       "      <td>...</td>\n",
       "    </tr>\n",
       "    <tr>\n",
       "      <th>10352</th>\n",
       "      <td>test\\ffeda8623d4eee33c6d1156a2ecbfcf8</td>\n",
       "      <td>9.543951e-07</td>\n",
       "      <td>1.002706e-03</td>\n",
       "      <td>1.990028e-08</td>\n",
       "      <td>6.274511e-06</td>\n",
       "      <td>3.459076e-07</td>\n",
       "      <td>5.158451e-08</td>\n",
       "      <td>8.217328e-08</td>\n",
       "      <td>4.456953e-07</td>\n",
       "      <td>8.123421e-08</td>\n",
       "      <td>...</td>\n",
       "      <td>5.556060e-03</td>\n",
       "      <td>8.174772e-07</td>\n",
       "      <td>2.694981e-06</td>\n",
       "      <td>6.728736e-06</td>\n",
       "      <td>2.612930e-06</td>\n",
       "      <td>1.896101e-05</td>\n",
       "      <td>7.108382e-07</td>\n",
       "      <td>1.890039e-06</td>\n",
       "      <td>5.652658e-05</td>\n",
       "      <td>1.742595e-06</td>\n",
       "    </tr>\n",
       "    <tr>\n",
       "      <th>10353</th>\n",
       "      <td>test\\fff1ec9e6e413275984966f745a313b0</td>\n",
       "      <td>9.412607e-10</td>\n",
       "      <td>1.895617e-04</td>\n",
       "      <td>1.310843e-07</td>\n",
       "      <td>8.084534e-04</td>\n",
       "      <td>3.342884e-04</td>\n",
       "      <td>2.721947e-06</td>\n",
       "      <td>2.704221e-06</td>\n",
       "      <td>1.868969e-06</td>\n",
       "      <td>2.976544e-03</td>\n",
       "      <td>...</td>\n",
       "      <td>3.071269e-07</td>\n",
       "      <td>5.924798e-07</td>\n",
       "      <td>1.384878e-01</td>\n",
       "      <td>1.532504e-04</td>\n",
       "      <td>1.409750e-01</td>\n",
       "      <td>2.013208e-05</td>\n",
       "      <td>3.110091e-08</td>\n",
       "      <td>1.732544e-03</td>\n",
       "      <td>6.585546e-06</td>\n",
       "      <td>1.903715e-06</td>\n",
       "    </tr>\n",
       "    <tr>\n",
       "      <th>10354</th>\n",
       "      <td>test\\fff74b59b758bbbf13a5793182a9bbe4</td>\n",
       "      <td>1.656962e-07</td>\n",
       "      <td>7.614918e-07</td>\n",
       "      <td>1.901184e-03</td>\n",
       "      <td>1.355927e-07</td>\n",
       "      <td>6.397018e-07</td>\n",
       "      <td>6.014382e-06</td>\n",
       "      <td>5.502384e-06</td>\n",
       "      <td>5.627868e-05</td>\n",
       "      <td>1.420696e-06</td>\n",
       "      <td>...</td>\n",
       "      <td>4.703661e-08</td>\n",
       "      <td>1.217854e-05</td>\n",
       "      <td>5.167341e-06</td>\n",
       "      <td>1.170218e-07</td>\n",
       "      <td>1.204374e-06</td>\n",
       "      <td>1.883938e-05</td>\n",
       "      <td>3.614727e-08</td>\n",
       "      <td>7.036508e-06</td>\n",
       "      <td>4.117345e-07</td>\n",
       "      <td>7.890255e-06</td>\n",
       "    </tr>\n",
       "    <tr>\n",
       "      <th>10355</th>\n",
       "      <td>test\\fff7d50d848e8014ac1e9172dc6762a3</td>\n",
       "      <td>9.025064e-04</td>\n",
       "      <td>6.530363e-05</td>\n",
       "      <td>2.010153e-06</td>\n",
       "      <td>3.958363e-06</td>\n",
       "      <td>2.840606e-05</td>\n",
       "      <td>4.949882e-07</td>\n",
       "      <td>1.309310e-03</td>\n",
       "      <td>1.880876e-06</td>\n",
       "      <td>6.257419e-06</td>\n",
       "      <td>...</td>\n",
       "      <td>8.452114e-04</td>\n",
       "      <td>2.720734e-05</td>\n",
       "      <td>3.384793e-06</td>\n",
       "      <td>2.528307e-07</td>\n",
       "      <td>9.359510e-06</td>\n",
       "      <td>1.719062e-05</td>\n",
       "      <td>3.895808e-03</td>\n",
       "      <td>9.411913e-07</td>\n",
       "      <td>2.443067e-04</td>\n",
       "      <td>4.756070e-03</td>\n",
       "    </tr>\n",
       "    <tr>\n",
       "      <th>10356</th>\n",
       "      <td>test\\fffbff22c1f51e3dc80c4bf04089545b</td>\n",
       "      <td>1.696703e-07</td>\n",
       "      <td>3.922578e-02</td>\n",
       "      <td>4.485412e-06</td>\n",
       "      <td>2.955939e-06</td>\n",
       "      <td>2.193442e-07</td>\n",
       "      <td>2.660039e-08</td>\n",
       "      <td>6.332721e-09</td>\n",
       "      <td>6.168579e-11</td>\n",
       "      <td>1.922381e-09</td>\n",
       "      <td>...</td>\n",
       "      <td>4.027782e-08</td>\n",
       "      <td>9.803474e-11</td>\n",
       "      <td>2.174773e-09</td>\n",
       "      <td>2.215503e-08</td>\n",
       "      <td>6.123390e-07</td>\n",
       "      <td>4.090108e-07</td>\n",
       "      <td>5.170719e-08</td>\n",
       "      <td>2.839925e-05</td>\n",
       "      <td>1.307174e-07</td>\n",
       "      <td>6.789678e-09</td>\n",
       "    </tr>\n",
       "  </tbody>\n",
       "</table>\n",
       "<p>10357 rows × 121 columns</p>\n",
       "</div>"
      ],
      "text/plain": [
       "                                          id  affenpinscher  afghan_hound  \\\n",
       "0      test\\000621fb3cbb32d8935728e48679680e   1.118752e-07  9.909627e-06   \n",
       "1      test\\00102ee9d8eb90812350685311fe5890   9.974036e-07  4.804367e-07   \n",
       "2      test\\0012a730dfa437f5f3613fb75efcd4ce   3.627980e-06  2.746189e-02   \n",
       "3      test\\001510bc8570bbeee98c8d80c8a95ec1   8.174382e-03  8.583743e-05   \n",
       "4      test\\001a5f3114548acdefa3d4da05474c2e   2.905964e-03  8.515082e-04   \n",
       "...                                      ...            ...           ...   \n",
       "10352  test\\ffeda8623d4eee33c6d1156a2ecbfcf8   9.543951e-07  1.002706e-03   \n",
       "10353  test\\fff1ec9e6e413275984966f745a313b0   9.412607e-10  1.895617e-04   \n",
       "10354  test\\fff74b59b758bbbf13a5793182a9bbe4   1.656962e-07  7.614918e-07   \n",
       "10355  test\\fff7d50d848e8014ac1e9172dc6762a3   9.025064e-04  6.530363e-05   \n",
       "10356  test\\fffbff22c1f51e3dc80c4bf04089545b   1.696703e-07  3.922578e-02   \n",
       "\n",
       "       african_hunting_dog      airedale  american_staffordshire_terrier  \\\n",
       "0             9.689343e-10  1.108678e-10                    3.863621e-09   \n",
       "1             2.671979e-08  6.637133e-08                    4.238565e-05   \n",
       "2             3.658567e-07  2.277810e-04                    1.077051e-05   \n",
       "3             9.526138e-06  1.756725e-04                    4.287047e-03   \n",
       "4             1.342599e-06  5.777601e-06                    2.633478e-05   \n",
       "...                    ...           ...                             ...   \n",
       "10352         1.990028e-08  6.274511e-06                    3.459076e-07   \n",
       "10353         1.310843e-07  8.084534e-04                    3.342884e-04   \n",
       "10354         1.901184e-03  1.355927e-07                    6.397018e-07   \n",
       "10355         2.010153e-06  3.958363e-06                    2.840606e-05   \n",
       "10356         4.485412e-06  2.955939e-06                    2.193442e-07   \n",
       "\n",
       "        appenzeller  australian_terrier       basenji        basset  ...  \\\n",
       "0      3.802730e-08        8.445660e-08  1.482428e-09  5.085420e-09  ...   \n",
       "1      5.378876e-07        1.861682e-07  8.644247e-07  9.794309e-09  ...   \n",
       "2      1.008959e-06        1.496980e-06  6.310680e-09  2.452861e-07  ...   \n",
       "3      8.404830e-03        3.505893e-05  2.586749e-04  1.634876e-05  ...   \n",
       "4      1.399249e-07        2.325099e-03  2.261198e-07  6.450874e-07  ...   \n",
       "...             ...                 ...           ...           ...  ...   \n",
       "10352  5.158451e-08        8.217328e-08  4.456953e-07  8.123421e-08  ...   \n",
       "10353  2.721947e-06        2.704221e-06  1.868969e-06  2.976544e-03  ...   \n",
       "10354  6.014382e-06        5.502384e-06  5.627868e-05  1.420696e-06  ...   \n",
       "10355  4.949882e-07        1.309310e-03  1.880876e-06  6.257419e-06  ...   \n",
       "10356  2.660039e-08        6.332721e-09  6.168579e-11  1.922381e-09  ...   \n",
       "\n",
       "         toy_poodle   toy_terrier        vizsla  walker_hound    weimaraner  \\\n",
       "0      9.586721e-08  2.560177e-07  1.147801e-10  1.118385e-08  1.119525e-09   \n",
       "1      1.005695e-05  1.578996e-06  1.910249e-07  2.711056e-06  5.436159e-07   \n",
       "2      1.732889e-05  7.994785e-08  2.246557e-05  1.067380e-04  1.922098e-04   \n",
       "3      1.462206e-04  1.832008e-05  7.292271e-04  9.703080e-06  2.590578e-04   \n",
       "4      5.052771e-05  6.055498e-06  6.873390e-08  3.228758e-08  1.007408e-07   \n",
       "...             ...           ...           ...           ...           ...   \n",
       "10352  5.556060e-03  8.174772e-07  2.694981e-06  6.728736e-06  2.612930e-06   \n",
       "10353  3.071269e-07  5.924798e-07  1.384878e-01  1.532504e-04  1.409750e-01   \n",
       "10354  4.703661e-08  1.217854e-05  5.167341e-06  1.170218e-07  1.204374e-06   \n",
       "10355  8.452114e-04  2.720734e-05  3.384793e-06  2.528307e-07  9.359510e-06   \n",
       "10356  4.027782e-08  9.803474e-11  2.174773e-09  2.215503e-08  6.123390e-07   \n",
       "\n",
       "       welsh_springer_spaniel  west_highland_white_terrier       whippet  \\\n",
       "0                3.078751e-08                 1.178350e-08  4.946136e-09   \n",
       "1                7.477004e-08                 9.774947e-05  3.741498e-07   \n",
       "2                1.290043e-03                 8.681233e-07  6.191797e-05   \n",
       "3                8.029072e-07                 2.245853e-06  2.094897e-03   \n",
       "4                1.225534e-06                 1.519684e-04  3.188874e-07   \n",
       "...                       ...                          ...           ...   \n",
       "10352            1.896101e-05                 7.108382e-07  1.890039e-06   \n",
       "10353            2.013208e-05                 3.110091e-08  1.732544e-03   \n",
       "10354            1.883938e-05                 3.614727e-08  7.036508e-06   \n",
       "10355            1.719062e-05                 3.895808e-03  9.411913e-07   \n",
       "10356            4.090108e-07                 5.170719e-08  2.839925e-05   \n",
       "\n",
       "       wire-haired_fox_terrier  yorkshire_terrier  \n",
       "0                 4.200325e-09       2.343702e-07  \n",
       "1                 6.126218e-07       2.239914e-08  \n",
       "2                 2.457272e-05       5.310518e-07  \n",
       "3                 3.914822e-07       1.328343e-04  \n",
       "4                 5.631857e-05       9.543112e-04  \n",
       "...                        ...                ...  \n",
       "10352             5.652658e-05       1.742595e-06  \n",
       "10353             6.585546e-06       1.903715e-06  \n",
       "10354             4.117345e-07       7.890255e-06  \n",
       "10355             2.443067e-04       4.756070e-03  \n",
       "10356             1.307174e-07       6.789678e-09  \n",
       "\n",
       "[10357 rows x 121 columns]"
      ]
     },
     "execution_count": 32,
     "metadata": {},
     "output_type": "execute_result"
    }
   ],
   "source": [
    "sample2['id'] = ids\n",
    "sample2.iloc[:,1:] = efnnet_y_pred"
   ]
  },
  {
   "cell_type": "markdown",
   "metadata": {},
   "source": [
    "Output to csv"
   ]
  },
  {
   "cell_type": "code",
   "execution_count": 33,
   "metadata": {},
   "outputs": [],
   "source": [
    "submission = sample2.set_index('id')\n",
    "submission.to_csv('submission.csv')"
   ]
  },
  {
   "cell_type": "code",
   "execution_count": 34,
   "metadata": {},
   "outputs": [
    {
     "data": {
      "text/html": [
       "<div>\n",
       "<style scoped>\n",
       "    .dataframe tbody tr th:only-of-type {\n",
       "        vertical-align: middle;\n",
       "    }\n",
       "\n",
       "    .dataframe tbody tr th {\n",
       "        vertical-align: top;\n",
       "    }\n",
       "\n",
       "    .dataframe thead th {\n",
       "        text-align: right;\n",
       "    }\n",
       "</style>\n",
       "<table border=\"1\" class=\"dataframe\">\n",
       "  <thead>\n",
       "    <tr style=\"text-align: right;\">\n",
       "      <th></th>\n",
       "      <th>affenpinscher</th>\n",
       "      <th>afghan_hound</th>\n",
       "      <th>african_hunting_dog</th>\n",
       "      <th>airedale</th>\n",
       "      <th>american_staffordshire_terrier</th>\n",
       "      <th>appenzeller</th>\n",
       "      <th>australian_terrier</th>\n",
       "      <th>basenji</th>\n",
       "      <th>basset</th>\n",
       "      <th>beagle</th>\n",
       "      <th>...</th>\n",
       "      <th>toy_poodle</th>\n",
       "      <th>toy_terrier</th>\n",
       "      <th>vizsla</th>\n",
       "      <th>walker_hound</th>\n",
       "      <th>weimaraner</th>\n",
       "      <th>welsh_springer_spaniel</th>\n",
       "      <th>west_highland_white_terrier</th>\n",
       "      <th>whippet</th>\n",
       "      <th>wire-haired_fox_terrier</th>\n",
       "      <th>yorkshire_terrier</th>\n",
       "    </tr>\n",
       "    <tr>\n",
       "      <th>id</th>\n",
       "      <th></th>\n",
       "      <th></th>\n",
       "      <th></th>\n",
       "      <th></th>\n",
       "      <th></th>\n",
       "      <th></th>\n",
       "      <th></th>\n",
       "      <th></th>\n",
       "      <th></th>\n",
       "      <th></th>\n",
       "      <th></th>\n",
       "      <th></th>\n",
       "      <th></th>\n",
       "      <th></th>\n",
       "      <th></th>\n",
       "      <th></th>\n",
       "      <th></th>\n",
       "      <th></th>\n",
       "      <th></th>\n",
       "      <th></th>\n",
       "      <th></th>\n",
       "    </tr>\n",
       "  </thead>\n",
       "  <tbody>\n",
       "    <tr>\n",
       "      <th>test\\000621fb3cbb32d8935728e48679680e</th>\n",
       "      <td>1.118752e-07</td>\n",
       "      <td>9.909627e-06</td>\n",
       "      <td>9.689343e-10</td>\n",
       "      <td>1.108678e-10</td>\n",
       "      <td>3.863621e-09</td>\n",
       "      <td>3.802730e-08</td>\n",
       "      <td>8.445660e-08</td>\n",
       "      <td>1.482428e-09</td>\n",
       "      <td>5.085420e-09</td>\n",
       "      <td>3.449150e-06</td>\n",
       "      <td>...</td>\n",
       "      <td>9.586721e-08</td>\n",
       "      <td>2.560177e-07</td>\n",
       "      <td>1.147801e-10</td>\n",
       "      <td>1.118385e-08</td>\n",
       "      <td>1.119525e-09</td>\n",
       "      <td>3.078751e-08</td>\n",
       "      <td>1.178350e-08</td>\n",
       "      <td>4.946136e-09</td>\n",
       "      <td>4.200325e-09</td>\n",
       "      <td>2.343702e-07</td>\n",
       "    </tr>\n",
       "    <tr>\n",
       "      <th>test\\00102ee9d8eb90812350685311fe5890</th>\n",
       "      <td>9.974036e-07</td>\n",
       "      <td>4.804367e-07</td>\n",
       "      <td>2.671979e-08</td>\n",
       "      <td>6.637133e-08</td>\n",
       "      <td>4.238565e-05</td>\n",
       "      <td>5.378876e-07</td>\n",
       "      <td>1.861682e-07</td>\n",
       "      <td>8.644247e-07</td>\n",
       "      <td>9.794309e-09</td>\n",
       "      <td>1.539629e-06</td>\n",
       "      <td>...</td>\n",
       "      <td>1.005695e-05</td>\n",
       "      <td>1.578996e-06</td>\n",
       "      <td>1.910249e-07</td>\n",
       "      <td>2.711056e-06</td>\n",
       "      <td>5.436159e-07</td>\n",
       "      <td>7.477004e-08</td>\n",
       "      <td>9.774947e-05</td>\n",
       "      <td>3.741498e-07</td>\n",
       "      <td>6.126218e-07</td>\n",
       "      <td>2.239914e-08</td>\n",
       "    </tr>\n",
       "    <tr>\n",
       "      <th>test\\0012a730dfa437f5f3613fb75efcd4ce</th>\n",
       "      <td>3.627980e-06</td>\n",
       "      <td>2.746189e-02</td>\n",
       "      <td>3.658567e-07</td>\n",
       "      <td>2.277810e-04</td>\n",
       "      <td>1.077051e-05</td>\n",
       "      <td>1.008959e-06</td>\n",
       "      <td>1.496980e-06</td>\n",
       "      <td>6.310680e-09</td>\n",
       "      <td>2.452861e-07</td>\n",
       "      <td>2.108301e-05</td>\n",
       "      <td>...</td>\n",
       "      <td>1.732889e-05</td>\n",
       "      <td>7.994785e-08</td>\n",
       "      <td>2.246557e-05</td>\n",
       "      <td>1.067380e-04</td>\n",
       "      <td>1.922098e-04</td>\n",
       "      <td>1.290043e-03</td>\n",
       "      <td>8.681233e-07</td>\n",
       "      <td>6.191797e-05</td>\n",
       "      <td>2.457272e-05</td>\n",
       "      <td>5.310518e-07</td>\n",
       "    </tr>\n",
       "    <tr>\n",
       "      <th>test\\001510bc8570bbeee98c8d80c8a95ec1</th>\n",
       "      <td>8.174382e-03</td>\n",
       "      <td>8.583743e-05</td>\n",
       "      <td>9.526138e-06</td>\n",
       "      <td>1.756725e-04</td>\n",
       "      <td>4.287047e-03</td>\n",
       "      <td>8.404830e-03</td>\n",
       "      <td>3.505893e-05</td>\n",
       "      <td>2.586749e-04</td>\n",
       "      <td>1.634876e-05</td>\n",
       "      <td>5.396770e-07</td>\n",
       "      <td>...</td>\n",
       "      <td>1.462206e-04</td>\n",
       "      <td>1.832008e-05</td>\n",
       "      <td>7.292271e-04</td>\n",
       "      <td>9.703080e-06</td>\n",
       "      <td>2.590578e-04</td>\n",
       "      <td>8.029072e-07</td>\n",
       "      <td>2.245853e-06</td>\n",
       "      <td>2.094897e-03</td>\n",
       "      <td>3.914822e-07</td>\n",
       "      <td>1.328343e-04</td>\n",
       "    </tr>\n",
       "    <tr>\n",
       "      <th>test\\001a5f3114548acdefa3d4da05474c2e</th>\n",
       "      <td>2.905964e-03</td>\n",
       "      <td>8.515082e-04</td>\n",
       "      <td>1.342599e-06</td>\n",
       "      <td>5.777601e-06</td>\n",
       "      <td>2.633478e-05</td>\n",
       "      <td>1.399249e-07</td>\n",
       "      <td>2.325099e-03</td>\n",
       "      <td>2.261198e-07</td>\n",
       "      <td>6.450874e-07</td>\n",
       "      <td>3.547666e-08</td>\n",
       "      <td>...</td>\n",
       "      <td>5.052771e-05</td>\n",
       "      <td>6.055498e-06</td>\n",
       "      <td>6.873390e-08</td>\n",
       "      <td>3.228758e-08</td>\n",
       "      <td>1.007408e-07</td>\n",
       "      <td>1.225534e-06</td>\n",
       "      <td>1.519684e-04</td>\n",
       "      <td>3.188874e-07</td>\n",
       "      <td>5.631857e-05</td>\n",
       "      <td>9.543112e-04</td>\n",
       "    </tr>\n",
       "  </tbody>\n",
       "</table>\n",
       "<p>5 rows × 120 columns</p>\n",
       "</div>"
      ],
      "text/plain": [
       "                                       affenpinscher  afghan_hound  \\\n",
       "id                                                                   \n",
       "test\\000621fb3cbb32d8935728e48679680e   1.118752e-07  9.909627e-06   \n",
       "test\\00102ee9d8eb90812350685311fe5890   9.974036e-07  4.804367e-07   \n",
       "test\\0012a730dfa437f5f3613fb75efcd4ce   3.627980e-06  2.746189e-02   \n",
       "test\\001510bc8570bbeee98c8d80c8a95ec1   8.174382e-03  8.583743e-05   \n",
       "test\\001a5f3114548acdefa3d4da05474c2e   2.905964e-03  8.515082e-04   \n",
       "\n",
       "                                       african_hunting_dog      airedale  \\\n",
       "id                                                                         \n",
       "test\\000621fb3cbb32d8935728e48679680e         9.689343e-10  1.108678e-10   \n",
       "test\\00102ee9d8eb90812350685311fe5890         2.671979e-08  6.637133e-08   \n",
       "test\\0012a730dfa437f5f3613fb75efcd4ce         3.658567e-07  2.277810e-04   \n",
       "test\\001510bc8570bbeee98c8d80c8a95ec1         9.526138e-06  1.756725e-04   \n",
       "test\\001a5f3114548acdefa3d4da05474c2e         1.342599e-06  5.777601e-06   \n",
       "\n",
       "                                       american_staffordshire_terrier  \\\n",
       "id                                                                      \n",
       "test\\000621fb3cbb32d8935728e48679680e                    3.863621e-09   \n",
       "test\\00102ee9d8eb90812350685311fe5890                    4.238565e-05   \n",
       "test\\0012a730dfa437f5f3613fb75efcd4ce                    1.077051e-05   \n",
       "test\\001510bc8570bbeee98c8d80c8a95ec1                    4.287047e-03   \n",
       "test\\001a5f3114548acdefa3d4da05474c2e                    2.633478e-05   \n",
       "\n",
       "                                        appenzeller  australian_terrier  \\\n",
       "id                                                                        \n",
       "test\\000621fb3cbb32d8935728e48679680e  3.802730e-08        8.445660e-08   \n",
       "test\\00102ee9d8eb90812350685311fe5890  5.378876e-07        1.861682e-07   \n",
       "test\\0012a730dfa437f5f3613fb75efcd4ce  1.008959e-06        1.496980e-06   \n",
       "test\\001510bc8570bbeee98c8d80c8a95ec1  8.404830e-03        3.505893e-05   \n",
       "test\\001a5f3114548acdefa3d4da05474c2e  1.399249e-07        2.325099e-03   \n",
       "\n",
       "                                            basenji        basset  \\\n",
       "id                                                                  \n",
       "test\\000621fb3cbb32d8935728e48679680e  1.482428e-09  5.085420e-09   \n",
       "test\\00102ee9d8eb90812350685311fe5890  8.644247e-07  9.794309e-09   \n",
       "test\\0012a730dfa437f5f3613fb75efcd4ce  6.310680e-09  2.452861e-07   \n",
       "test\\001510bc8570bbeee98c8d80c8a95ec1  2.586749e-04  1.634876e-05   \n",
       "test\\001a5f3114548acdefa3d4da05474c2e  2.261198e-07  6.450874e-07   \n",
       "\n",
       "                                             beagle  ...    toy_poodle  \\\n",
       "id                                                   ...                 \n",
       "test\\000621fb3cbb32d8935728e48679680e  3.449150e-06  ...  9.586721e-08   \n",
       "test\\00102ee9d8eb90812350685311fe5890  1.539629e-06  ...  1.005695e-05   \n",
       "test\\0012a730dfa437f5f3613fb75efcd4ce  2.108301e-05  ...  1.732889e-05   \n",
       "test\\001510bc8570bbeee98c8d80c8a95ec1  5.396770e-07  ...  1.462206e-04   \n",
       "test\\001a5f3114548acdefa3d4da05474c2e  3.547666e-08  ...  5.052771e-05   \n",
       "\n",
       "                                        toy_terrier        vizsla  \\\n",
       "id                                                                  \n",
       "test\\000621fb3cbb32d8935728e48679680e  2.560177e-07  1.147801e-10   \n",
       "test\\00102ee9d8eb90812350685311fe5890  1.578996e-06  1.910249e-07   \n",
       "test\\0012a730dfa437f5f3613fb75efcd4ce  7.994785e-08  2.246557e-05   \n",
       "test\\001510bc8570bbeee98c8d80c8a95ec1  1.832008e-05  7.292271e-04   \n",
       "test\\001a5f3114548acdefa3d4da05474c2e  6.055498e-06  6.873390e-08   \n",
       "\n",
       "                                       walker_hound    weimaraner  \\\n",
       "id                                                                  \n",
       "test\\000621fb3cbb32d8935728e48679680e  1.118385e-08  1.119525e-09   \n",
       "test\\00102ee9d8eb90812350685311fe5890  2.711056e-06  5.436159e-07   \n",
       "test\\0012a730dfa437f5f3613fb75efcd4ce  1.067380e-04  1.922098e-04   \n",
       "test\\001510bc8570bbeee98c8d80c8a95ec1  9.703080e-06  2.590578e-04   \n",
       "test\\001a5f3114548acdefa3d4da05474c2e  3.228758e-08  1.007408e-07   \n",
       "\n",
       "                                       welsh_springer_spaniel  \\\n",
       "id                                                              \n",
       "test\\000621fb3cbb32d8935728e48679680e            3.078751e-08   \n",
       "test\\00102ee9d8eb90812350685311fe5890            7.477004e-08   \n",
       "test\\0012a730dfa437f5f3613fb75efcd4ce            1.290043e-03   \n",
       "test\\001510bc8570bbeee98c8d80c8a95ec1            8.029072e-07   \n",
       "test\\001a5f3114548acdefa3d4da05474c2e            1.225534e-06   \n",
       "\n",
       "                                       west_highland_white_terrier  \\\n",
       "id                                                                   \n",
       "test\\000621fb3cbb32d8935728e48679680e                 1.178350e-08   \n",
       "test\\00102ee9d8eb90812350685311fe5890                 9.774947e-05   \n",
       "test\\0012a730dfa437f5f3613fb75efcd4ce                 8.681233e-07   \n",
       "test\\001510bc8570bbeee98c8d80c8a95ec1                 2.245853e-06   \n",
       "test\\001a5f3114548acdefa3d4da05474c2e                 1.519684e-04   \n",
       "\n",
       "                                            whippet  wire-haired_fox_terrier  \\\n",
       "id                                                                             \n",
       "test\\000621fb3cbb32d8935728e48679680e  4.946136e-09             4.200325e-09   \n",
       "test\\00102ee9d8eb90812350685311fe5890  3.741498e-07             6.126218e-07   \n",
       "test\\0012a730dfa437f5f3613fb75efcd4ce  6.191797e-05             2.457272e-05   \n",
       "test\\001510bc8570bbeee98c8d80c8a95ec1  2.094897e-03             3.914822e-07   \n",
       "test\\001a5f3114548acdefa3d4da05474c2e  3.188874e-07             5.631857e-05   \n",
       "\n",
       "                                       yorkshire_terrier  \n",
       "id                                                        \n",
       "test\\000621fb3cbb32d8935728e48679680e       2.343702e-07  \n",
       "test\\00102ee9d8eb90812350685311fe5890       2.239914e-08  \n",
       "test\\0012a730dfa437f5f3613fb75efcd4ce       5.310518e-07  \n",
       "test\\001510bc8570bbeee98c8d80c8a95ec1       1.328343e-04  \n",
       "test\\001a5f3114548acdefa3d4da05474c2e       9.543112e-04  \n",
       "\n",
       "[5 rows x 120 columns]"
      ]
     },
     "execution_count": 34,
     "metadata": {},
     "output_type": "execute_result"
    }
   ],
   "source": [
    "submission.head()"
   ]
  },
  {
   "cell_type": "code",
   "execution_count": null,
   "metadata": {},
   "outputs": [],
   "source": []
  },
  {
   "cell_type": "code",
   "execution_count": null,
   "metadata": {},
   "outputs": [],
   "source": []
  },
  {
   "cell_type": "code",
   "execution_count": null,
   "metadata": {},
   "outputs": [],
   "source": []
  },
  {
   "cell_type": "markdown",
   "metadata": {},
   "source": [
    "#### 3. Visualizing image features on Tensorboard Projector"
   ]
  },
  {
   "cell_type": "markdown",
   "metadata": {},
   "source": [
    "Will be using features extracted from Part 1"
   ]
  },
  {
   "cell_type": "markdown",
   "metadata": {},
   "source": [
    "Involves Dimensionality Reduction (PCA) to display the images on a 3D plane in the projector"
   ]
  },
  {
   "cell_type": "code",
   "execution_count": null,
   "metadata": {},
   "outputs": [],
   "source": [
    "# Start up tensorboard\n",
    "%load_ext tensorboard"
   ]
  },
  {
   "cell_type": "code",
   "execution_count": null,
   "metadata": {},
   "outputs": [],
   "source": [
    "len(inception_features_test)"
   ]
  },
  {
   "cell_type": "markdown",
   "metadata": {},
   "source": [
    "1. Create feature vectors + metadata (labels)"
   ]
  },
  {
   "cell_type": "code",
   "execution_count": null,
   "metadata": {},
   "outputs": [],
   "source": [
    "# Export to tsv file for embedding projector\n",
    "\n",
    "# Features\n",
    "np.savetxt(\"inception_features_test.tsv\", inception_features_test, delimiter=\"\\t\")"
   ]
  },
  {
   "cell_type": "markdown",
   "metadata": {},
   "source": [
    "Labels for test data"
   ]
  },
  {
   "cell_type": "code",
   "execution_count": null,
   "metadata": {},
   "outputs": [],
   "source": [
    "meta_arr = f1_pred\n",
    "\n",
    "# Take the highest value/\"predicted\" breed for each test img/file\n",
    "meta_arr = (meta_arr == meta_arr.max(axis=1, keepdims=1)).astype(int)"
   ]
  },
  {
   "cell_type": "code",
   "execution_count": null,
   "metadata": {},
   "outputs": [],
   "source": [
    "meta_arr[0]"
   ]
  },
  {
   "cell_type": "code",
   "execution_count": null,
   "metadata": {},
   "outputs": [],
   "source": [
    "# Convert to DF - Easier to read\n",
    "meta_df = sample\n",
    "\n",
    "for x in breeds_list:\n",
    "    meta_df[x] = meta_arr[:, breeds_arr[x]]"
   ]
  },
  {
   "cell_type": "code",
   "execution_count": null,
   "metadata": {},
   "outputs": [],
   "source": [
    "meta_df"
   ]
  },
  {
   "cell_type": "code",
   "execution_count": null,
   "metadata": {},
   "outputs": [],
   "source": [
    "# Reversing OHE array\n",
    "\n",
    "# Label each img/file to its predicted breed\n",
    "def reverse_OHE(row):\n",
    "    for c in meta_df.columns:\n",
    "        if row[c]==1:\n",
    "            return c"
   ]
  },
  {
   "cell_type": "code",
   "execution_count": null,
   "metadata": {},
   "outputs": [],
   "source": [
    "reverse_meta_df = pd.DataFrame(meta_df.apply(reverse_OHE, axis=1))"
   ]
  },
  {
   "cell_type": "code",
   "execution_count": null,
   "metadata": {},
   "outputs": [],
   "source": [
    "# Joining img id \n",
    "reverse_meta_df = reverse_meta_df.join(meta_df['id'])"
   ]
  },
  {
   "cell_type": "code",
   "execution_count": null,
   "metadata": {
    "scrolled": true
   },
   "outputs": [],
   "source": [
    "# Rename headers\n",
    "reverse_meta_df.columns = ['breed', 'id']"
   ]
  },
  {
   "cell_type": "code",
   "execution_count": null,
   "metadata": {},
   "outputs": [],
   "source": [
    "reverse_meta_df"
   ]
  },
  {
   "cell_type": "code",
   "execution_count": null,
   "metadata": {},
   "outputs": [],
   "source": [
    "# Export to tsv file \n",
    "\n",
    "metadata = reverse_meta_df[['id', 'breed']].to_csv('metadata.tsv', sep='\\t', index=False)"
   ]
  },
  {
   "cell_type": "markdown",
   "metadata": {},
   "source": [
    "2. Create sprite image (Collage) to be displayed on the projector"
   ]
  },
  {
   "cell_type": "code",
   "execution_count": null,
   "metadata": {},
   "outputs": [],
   "source": [
    "! magick montage test/*.jpg -tile 103x103 -geometry 50x50! sprite.jpg\n",
    "print(\"Done\")"
   ]
  },
  {
   "cell_type": "markdown",
   "metadata": {},
   "source": [
    "3. Create config file"
   ]
  },
  {
   "cell_type": "code",
   "execution_count": null,
   "metadata": {},
   "outputs": [],
   "source": [
    "# projector_config.pbtxt should look like this\n",
    "\n",
    "# embeddings {\n",
    "#   tensor_path: \"inception_features_test.tsv\"\n",
    "#   metadata_path: \"metadata.tsv\"\n",
    "#   sprite {\n",
    "#     image_path: \"sprite.jpg\"\n",
    "#     single_image_dim: 50\n",
    "#     single_image_dim: 50\n",
    "#   }\n",
    "# }\n",
    "\n",
    "# with open('projector_config.pbtxt', 'w') as file:\n",
    "#     file.write('embeddings { tensor_path: \"inception_features_test.tsv\" metadata_path: \"metadata.tsv\" sprite { image_path: \"sprite.jpg\" single_image_dim: 50 single_image_dim: 50 } }')\n"
   ]
  },
  {
   "cell_type": "markdown",
   "metadata": {},
   "source": [
    "Run tensorboard locally"
   ]
  },
  {
   "cell_type": "code",
   "execution_count": null,
   "metadata": {
    "scrolled": true
   },
   "outputs": [],
   "source": [
    "! tensorboard --logdir ."
   ]
  },
  {
   "cell_type": "markdown",
   "metadata": {},
   "source": [
    "Open: http://localhost:6006/#projector"
   ]
  },
  {
   "cell_type": "markdown",
   "metadata": {},
   "source": [
    " "
   ]
  },
  {
   "cell_type": "markdown",
   "metadata": {},
   "source": [
    "References"
   ]
  },
  {
   "cell_type": "markdown",
   "metadata": {},
   "source": [
    "[1] https://machinelearningmastery.com/convolutional-layers-for-deep-learning-neural-networks/\n",
    "\n",
    "[2] https://medium.com/@14prakash/understanding-and-implementing-architectures-of-resnet-and-resnext-for-state-of-the-art-image-cf51669e1624\n",
    "\n",
    "[3] https://machinelearningmastery.com/rectified-linear-activation-function-for-deep-learning-neural-networks/#:~:text=The%20rectified%20linear%20activation%20function,otherwise%2C%20it%20will%20output%20zero.&text=The%20rectified%20linear%20activation%20function%20overcomes%20the%20vanishing%20gradient%20problem,learn%20faster%20and%20perform%20better\n",
    "\n",
    "[4] https://lisaong.github.io/mldds-courseware/01_GettingStarted/numpy-tensor-slicing.slides.html\n",
    "\n",
    "[5] https://medium.com/@kumon/visualizing-image-feature-vectors-through-tensorboard-b850ce1be7f1\n"
   ]
  }
 ],
 "metadata": {
  "kernelspec": {
   "display_name": "Python 3",
   "language": "python",
   "name": "python3"
  },
  "language_info": {
   "codemirror_mode": {
    "name": "ipython",
    "version": 3
   },
   "file_extension": ".py",
   "mimetype": "text/x-python",
   "name": "python",
   "nbconvert_exporter": "python",
   "pygments_lexer": "ipython3",
   "version": "3.8.5"
  }
 },
 "nbformat": 4,
 "nbformat_minor": 4
}
