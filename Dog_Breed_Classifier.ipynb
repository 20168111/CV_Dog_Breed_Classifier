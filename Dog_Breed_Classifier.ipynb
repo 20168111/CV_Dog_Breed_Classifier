{
 "cells": [
  {
   "cell_type": "markdown",
   "metadata": {},
   "source": [
    "Import Libraries"
   ]
  },
  {
   "cell_type": "code",
   "execution_count": 10,
   "metadata": {},
   "outputs": [],
   "source": [
    "# Data manipulation\n",
    "import pandas as pd\n",
    "import numpy as np\n",
    "\n",
    "# Tensorflow\n",
    "import tensorflow as tf\n",
    "config = tf.compat.v1.ConfigProto(gpu_options=tf.compat.v1.GPUOptions(allow_growth=True))\n",
    "sess = tf.compat.v1.Session(config=config)\n",
    "import tensorflow_hub as hub\n",
    "from tensorflow import keras\n",
    "\n",
    "# Keras\n",
    "from keras.preprocessing.image import ImageDataGenerator\n",
    "\n",
    "from keras.models import Model\n",
    "from keras.models import Sequential\n",
    "from keras.layers import Convolution2D\n",
    "from keras.layers import MaxPooling2D\n",
    "from keras.layers import Flatten\n",
    "from keras.layers import Dense\n",
    "from keras.layers import Conv2D,Dropout\n",
    "\n",
    "# ResNet\n",
    "from keras.applications.resnet50 import ResNet50\n",
    "\n",
    "from sklearn.model_selection import train_test_split\n",
    "from IPython.display import display, Image\n",
    "\n",
    "# Data visualization\n",
    "import matplotlib.pyplot as plt\n",
    "from matplotlib.pyplot import imread\n",
    "\n",
    "import os\n",
    "import re"
   ]
  },
  {
   "cell_type": "markdown",
   "metadata": {},
   "source": [
    "Checking TensorFlow version and GPU Compatability"
   ]
  },
  {
   "cell_type": "code",
   "execution_count": 11,
   "metadata": {},
   "outputs": [
    {
     "name": "stdout",
     "output_type": "stream",
     "text": [
      "TF version: 2.4.1\n",
      "Num GPUs: 1\n"
     ]
    }
   ],
   "source": [
    "print(\"TF version:\", tf.__version__)\n",
    "physical_devices = tf.config.list_physical_devices('GPU')\n",
    "print(\"Num GPUs:\", len(physical_devices))"
   ]
  },
  {
   "cell_type": "code",
   "execution_count": 12,
   "metadata": {},
   "outputs": [
    {
     "data": {
      "text/plain": [
       "[PhysicalDevice(name='/physical_device:CPU:0', device_type='CPU'),\n",
       " PhysicalDevice(name='/physical_device:GPU:0', device_type='GPU')]"
      ]
     },
     "execution_count": 12,
     "metadata": {},
     "output_type": "execute_result"
    }
   ],
   "source": [
    "tf.config.list_physical_devices()"
   ]
  },
  {
   "cell_type": "markdown",
   "metadata": {},
   "source": [
    "Import Labels"
   ]
  },
  {
   "cell_type": "code",
   "execution_count": 13,
   "metadata": {},
   "outputs": [
    {
     "data": {
      "text/html": [
       "<div>\n",
       "<style scoped>\n",
       "    .dataframe tbody tr th:only-of-type {\n",
       "        vertical-align: middle;\n",
       "    }\n",
       "\n",
       "    .dataframe tbody tr th {\n",
       "        vertical-align: top;\n",
       "    }\n",
       "\n",
       "    .dataframe thead th {\n",
       "        text-align: right;\n",
       "    }\n",
       "</style>\n",
       "<table border=\"1\" class=\"dataframe\">\n",
       "  <thead>\n",
       "    <tr style=\"text-align: right;\">\n",
       "      <th></th>\n",
       "      <th>id</th>\n",
       "      <th>breed</th>\n",
       "    </tr>\n",
       "  </thead>\n",
       "  <tbody>\n",
       "    <tr>\n",
       "      <th>0</th>\n",
       "      <td>000bec180eb18c7604dcecc8fe0dba07</td>\n",
       "      <td>boston_bull</td>\n",
       "    </tr>\n",
       "    <tr>\n",
       "      <th>1</th>\n",
       "      <td>001513dfcb2ffafc82cccf4d8bbaba97</td>\n",
       "      <td>dingo</td>\n",
       "    </tr>\n",
       "    <tr>\n",
       "      <th>2</th>\n",
       "      <td>001cdf01b096e06d78e9e5112d419397</td>\n",
       "      <td>pekinese</td>\n",
       "    </tr>\n",
       "    <tr>\n",
       "      <th>3</th>\n",
       "      <td>00214f311d5d2247d5dfe4fe24b2303d</td>\n",
       "      <td>bluetick</td>\n",
       "    </tr>\n",
       "    <tr>\n",
       "      <th>4</th>\n",
       "      <td>0021f9ceb3235effd7fcde7f7538ed62</td>\n",
       "      <td>golden_retriever</td>\n",
       "    </tr>\n",
       "  </tbody>\n",
       "</table>\n",
       "</div>"
      ],
      "text/plain": [
       "                                 id             breed\n",
       "0  000bec180eb18c7604dcecc8fe0dba07       boston_bull\n",
       "1  001513dfcb2ffafc82cccf4d8bbaba97             dingo\n",
       "2  001cdf01b096e06d78e9e5112d419397          pekinese\n",
       "3  00214f311d5d2247d5dfe4fe24b2303d          bluetick\n",
       "4  0021f9ceb3235effd7fcde7f7538ed62  golden_retriever"
      ]
     },
     "execution_count": 13,
     "metadata": {},
     "output_type": "execute_result"
    }
   ],
   "source": [
    "labels = pd.read_csv(\"labels.csv\")\n",
    "labels.head()"
   ]
  },
  {
   "cell_type": "markdown",
   "metadata": {},
   "source": [
    "Checking and we see that there are no empty data"
   ]
  },
  {
   "cell_type": "code",
   "execution_count": 14,
   "metadata": {},
   "outputs": [
    {
     "name": "stdout",
     "output_type": "stream",
     "text": [
      "<class 'pandas.core.frame.DataFrame'>\n",
      "RangeIndex: 10222 entries, 0 to 10221\n",
      "Data columns (total 2 columns):\n",
      " #   Column  Non-Null Count  Dtype \n",
      "---  ------  --------------  ----- \n",
      " 0   id      10222 non-null  object\n",
      " 1   breed   10222 non-null  object\n",
      "dtypes: object(2)\n",
      "memory usage: 159.8+ KB\n"
     ]
    }
   ],
   "source": [
    "labels.info()"
   ]
  },
  {
   "cell_type": "markdown",
   "metadata": {},
   "source": [
    "Total number of unique dog breeds"
   ]
  },
  {
   "cell_type": "code",
   "execution_count": 15,
   "metadata": {},
   "outputs": [
    {
     "name": "stdout",
     "output_type": "stream",
     "text": [
      "Unique breeds: 120\n"
     ]
    }
   ],
   "source": [
    "unique_breeds = labels['breed'].unique().shape[0]\n",
    "print(\"Unique breeds:\", unique_breeds)"
   ]
  },
  {
   "cell_type": "code",
   "execution_count": 16,
   "metadata": {},
   "outputs": [],
   "source": [
    "labels['id'] = labels['id'] + '.jpg'"
   ]
  },
  {
   "cell_type": "markdown",
   "metadata": {},
   "source": [
    "Here we split our labels data into training and validation set"
   ]
  },
  {
   "cell_type": "code",
   "execution_count": 17,
   "metadata": {},
   "outputs": [],
   "source": [
    "train, val = train_test_split(labels, test_size=0.2, shuffle=True)"
   ]
  },
  {
   "cell_type": "code",
   "execution_count": 18,
   "metadata": {},
   "outputs": [
    {
     "name": "stdout",
     "output_type": "stream",
     "text": [
      "Train shape: (8177, 2)\n",
      "Validation shape: (2045, 2)\n"
     ]
    }
   ],
   "source": [
    "print(\"Train shape:\", train.shape)\n",
    "print(\"Validation shape:\", val.shape)"
   ]
  },
  {
   "cell_type": "markdown",
   "metadata": {},
   "source": [
    "Image data augmentation\n",
    "\n",
    "\n",
    "We \"create\" more training data from existing data by doing image manipulation (Rotate/Zoom/Scaling/Contrast) (Get more variants of image for neural network to learn)\n",
    "\n",
    "This will help improve the performance of the neural network\n",
    "\n",
    "For more info: https://towardsdatascience.com/complete-image-augmentation-in-opencv-31a6b02694f5"
   ]
  },
  {
   "cell_type": "code",
   "execution_count": 19,
   "metadata": {},
   "outputs": [],
   "source": [
    "# Datagen \n",
    "\n",
    "train_datagen = ImageDataGenerator(\n",
    "        rotation_range=40,\n",
    "        width_shift_range=0.2,\n",
    "        height_shift_range=0.2,\n",
    "        rescale=1./255, # Scale/Normalize pixel value from range [0,255] to [0,1], RGB coeff in 0-255 too high for model to process\n",
    "        shear_range=0.2,\n",
    "        zoom_range=0.2,\n",
    "        horizontal_flip=True,\n",
    "        fill_mode='nearest'\n",
    ")\n",
    "\n",
    "validation_datagen = ImageDataGenerator(rescale=1./255)\n",
    "\n",
    "test_datagen = ImageDataGenerator(rescale=1/255.)\n"
   ]
  },
  {
   "cell_type": "markdown",
   "metadata": {},
   "source": [
    "Retrieve our training/val/test sets"
   ]
  },
  {
   "cell_type": "code",
   "execution_count": 29,
   "metadata": {},
   "outputs": [
    {
     "name": "stdout",
     "output_type": "stream",
     "text": [
      "Found 8177 validated image filenames belonging to 120 classes.\n",
      "Found 2045 validated image filenames belonging to 120 classes.\n",
      "Found 10357 images belonging to 1 classes.\n"
     ]
    }
   ],
   "source": [
    "# Training / Validation set\n",
    "\n",
    "bs = 64\n",
    "\n",
    "training_set = train_datagen.flow_from_dataframe(\n",
    "    dataframe=train,\n",
    "    directory='train/',\n",
    "    x_col=\"id\",\n",
    "    y_col=\"breed\",\n",
    "    target_size=(224, 224), # Size of each image = 150x150, has to match input_shape\n",
    "    class_mode=\"categorical\",\n",
    "    batch_size=bs\n",
    ")\n",
    "\n",
    "validation_set = validation_datagen.flow_from_dataframe(\n",
    "    dataframe=val,\n",
    "    directory='train/',\n",
    "    x_col=\"id\",\n",
    "    y_col=\"breed\",\n",
    "    target_size=(224, 224),\n",
    "    class_mode=\"categorical\",\n",
    "    batch_size=bs\n",
    ")\n",
    "\n",
    "test_set = test_datagen.flow_from_directory(\n",
    "    '',\n",
    "    target_size = (224, 224),\n",
    "    batch_size = bs,\n",
    "    classes=['test']\n",
    ")"
   ]
  },
  {
   "cell_type": "markdown",
   "metadata": {},
   "source": [
    "1. CNN (Convolutional Neural Network)"
   ]
  },
  {
   "cell_type": "code",
   "execution_count": 30,
   "metadata": {},
   "outputs": [],
   "source": [
    "input_shape = (224, 224, 3)"
   ]
  },
  {
   "cell_type": "code",
   "execution_count": 31,
   "metadata": {},
   "outputs": [],
   "source": [
    "# Create a sequential model\n",
    "inputs = keras.Input(shape=input_shape)\n",
    "\n",
    "x = Conv2D(filters=32, kernel_size=3, activation='relu', input_shape=[224, 224, 3])(inputs)\n",
    "x = MaxPooling2D(pool_size=2, strides=2)(x)\n",
    "\n",
    "x = Conv2D(filters=32, kernel_size=3, activation='relu')(x)\n",
    "x = MaxPooling2D(pool_size=2, strides=2)(x)\n",
    "\n",
    "x = Flatten()(x)\n",
    "x = Dense(units=64, activation='relu')(x)\n",
    "\n",
    "predictions = Dense(units=unique_breeds, activation='softmax')(x) # Classification layer\n",
    "\n",
    "cnn = keras.Model(inputs, predictions, name='CNN')\n",
    "\n",
    "cnn.compile(optimizer = 'adam', loss = 'categorical_crossentropy', metrics = ['accuracy'])\n"
   ]
  },
  {
   "cell_type": "markdown",
   "metadata": {},
   "source": [
    "View summary of the CNN model"
   ]
  },
  {
   "cell_type": "code",
   "execution_count": 32,
   "metadata": {},
   "outputs": [
    {
     "name": "stdout",
     "output_type": "stream",
     "text": [
      "Model: \"CNN\"\n",
      "_________________________________________________________________\n",
      "Layer (type)                 Output Shape              Param #   \n",
      "=================================================================\n",
      "input_2 (InputLayer)         [(None, 224, 224, 3)]     0         \n",
      "_________________________________________________________________\n",
      "conv2d_2 (Conv2D)            (None, 222, 222, 32)      896       \n",
      "_________________________________________________________________\n",
      "max_pooling2d_2 (MaxPooling2 (None, 111, 111, 32)      0         \n",
      "_________________________________________________________________\n",
      "conv2d_3 (Conv2D)            (None, 109, 109, 32)      9248      \n",
      "_________________________________________________________________\n",
      "max_pooling2d_3 (MaxPooling2 (None, 54, 54, 32)        0         \n",
      "_________________________________________________________________\n",
      "flatten_1 (Flatten)          (None, 93312)             0         \n",
      "_________________________________________________________________\n",
      "dense_2 (Dense)              (None, 64)                5972032   \n",
      "_________________________________________________________________\n",
      "dense_3 (Dense)              (None, 120)               7800      \n",
      "=================================================================\n",
      "Total params: 5,989,976\n",
      "Trainable params: 5,989,976\n",
      "Non-trainable params: 0\n",
      "_________________________________________________________________\n"
     ]
    }
   ],
   "source": [
    "cnn.summary()"
   ]
  },
  {
   "cell_type": "code",
   "execution_count": 33,
   "metadata": {},
   "outputs": [
    {
     "name": "stdout",
     "output_type": "stream",
     "text": [
      "('Failed to import pydot. You must `pip install pydot` and install graphviz (https://graphviz.gitlab.io/download/), ', 'for `pydotprint` to work.')\n"
     ]
    },
    {
     "data": {
      "text/plain": [
       "None"
      ]
     },
     "metadata": {},
     "output_type": "display_data"
    }
   ],
   "source": [
    "model_plot = tf.keras.utils.plot_model(cnn, show_shapes=True)\n",
    "display(model_plot)"
   ]
  },
  {
   "cell_type": "markdown",
   "metadata": {},
   "source": [
    "Checkpoints"
   ]
  },
  {
   "cell_type": "code",
   "execution_count": 34,
   "metadata": {},
   "outputs": [],
   "source": [
    "model_checkpoint = tf.keras.callbacks.ModelCheckpoint(\n",
    "    filepath=os.path.join('models/', 'cnn_best_val_loss2.h5'),\n",
    "    save_weights_only=False,\n",
    "    monitor='val_loss',\n",
    "    mode='auto',\n",
    "    save_best_only=True)\n",
    "\n",
    "# If the validation loss doesn't improve, stop training\n",
    "earlystopping = tf.keras.callbacks.EarlyStopping(monitor='val_loss', patience=9)\n",
    "\n",
    "# If the validation loss doesn't improve, reduce the learning rate to 0.2 times it's previous value\n",
    "\n",
    "# New LR = Old LR * factor\n",
    "reduce_lr = tf.keras.callbacks.ReduceLROnPlateau(monitor='val_loss', factor=0.01, patience=3)"
   ]
  },
  {
   "cell_type": "markdown",
   "metadata": {},
   "source": [
    "Training the CNN model"
   ]
  },
  {
   "cell_type": "code",
   "execution_count": 35,
   "metadata": {},
   "outputs": [],
   "source": [
    "epochs = 1\n",
    "\n",
    "step_size_train = training_set.n // bs\n",
    "step_size_val = validation_set.n // bs"
   ]
  },
  {
   "cell_type": "code",
   "execution_count": 36,
   "metadata": {},
   "outputs": [
    {
     "name": "stdout",
     "output_type": "stream",
     "text": [
      "127/127 [==============================] - 98s 755ms/step - loss: 5.1380 - accuracy: 0.0076 - val_loss: 4.7868 - val_accuracy: 0.0121\n"
     ]
    }
   ],
   "source": [
    "# Samples // batch size = # of batches\n",
    "# 1 epoch trains # of batches\n",
    "# Weights updated after each batch \n",
    "\n",
    "history = cnn.fit(training_set,\n",
    "          epochs=epochs,\n",
    "          steps_per_epoch=step_size_train,\n",
    "          validation_data=validation_set,\n",
    "          validation_steps=step_size_val,\n",
    "          callbacks=[model_checkpoint, earlystopping, reduce_lr], shuffle=True, verbose=1)"
   ]
  },
  {
   "cell_type": "markdown",
   "metadata": {},
   "source": [
    "Save final CNN model"
   ]
  },
  {
   "cell_type": "code",
   "execution_count": 42,
   "metadata": {},
   "outputs": [],
   "source": [
    "cnn.save('models/final_cnn.h5')"
   ]
  },
  {
   "cell_type": "markdown",
   "metadata": {},
   "source": [
    "Model Evaluation"
   ]
  },
  {
   "cell_type": "code",
   "execution_count": 47,
   "metadata": {},
   "outputs": [
    {
     "name": "stdout",
     "output_type": "stream",
     "text": [
      "['loss', 'accuracy']\n",
      "31/31 [==============================] - 5s 175ms/step - loss: 4.7861 - accuracy: 0.0121\n"
     ]
    },
    {
     "data": {
      "text/plain": [
       "[4.786128044128418, 0.012096773833036423]"
      ]
     },
     "execution_count": 47,
     "metadata": {},
     "output_type": "execute_result"
    }
   ],
   "source": [
    "# Loss - Accuracy \n",
    "\n",
    "print(cnn.metrics_names)\n",
    "cnn.evaluate(validation_set, steps=step_size_val, verbose=1)"
   ]
  },
  {
   "cell_type": "markdown",
   "metadata": {},
   "source": [
    "Accuracy + Loss plot"
   ]
  },
  {
   "cell_type": "code",
   "execution_count": 48,
   "metadata": {},
   "outputs": [
    {
     "data": {
      "image/png": "[encoded data removed]",
      "text/plain": [
       "<Figure size 432x288 with 1 Axes>"
      ]
     },
     "metadata": {
      "needs_background": "light"
     },
     "output_type": "display_data"
    }
   ],
   "source": [
    "plt.plot(history.history['accuracy'])\n",
    "plt.plot(history.history['val_accuracy'])\n",
    "plt.title('Model accuracy')\n",
    "plt.ylabel('Accuracy')\n",
    "plt.xlabel('Epoch')\n",
    "plt.legend(['Train', 'Val'], loc='upper left')\n",
    "plt.show()"
   ]
  },
  {
   "cell_type": "code",
   "execution_count": 49,
   "metadata": {},
   "outputs": [
    {
     "data": {
      "image/png": "[encoded data removed]",
      "text/plain": [
       "<Figure size 432x288 with 1 Axes>"
      ]
     },
     "metadata": {
      "needs_background": "light"
     },
     "output_type": "display_data"
    }
   ],
   "source": [
    "plt.plot(history.history['loss'])\n",
    "plt.plot(history.history['val_loss'])\n",
    "plt.title('Model loss')\n",
    "plt.ylabel('Loss')\n",
    "plt.xlabel('Epoch')\n",
    "plt.legend(['Train', 'Val'], loc='upper left')\n",
    "plt.show()"
   ]
  },
  {
   "cell_type": "markdown",
   "metadata": {},
   "source": [
    "Prediction on test set"
   ]
  },
  {
   "cell_type": "code",
   "execution_count": 51,
   "metadata": {},
   "outputs": [
    {
     "name": "stdout",
     "output_type": "stream",
     "text": [
      "162/162 [==============================] - 27s 168ms/step\n"
     ]
    }
   ],
   "source": [
    "cnn_y_pred = cnn.predict(test_set, verbose=1)"
   ]
  },
  {
   "attachments": {},
   "cell_type": "markdown",
   "metadata": {},
   "source": [
    "2. ResNet50 (Residual Network)\n",
    "\n",
    "Tackling vanishing gradient\n",
    "\n",
    "Using pre-trained ResNet model in keras (Transfer Learning)"
   ]
  },
  {
   "cell_type": "code",
   "execution_count": 55,
   "metadata": {},
   "outputs": [],
   "source": [
    "# Set include_top=False, as we will be using our own classification layer\n",
    "# Using imagenet weights\n",
    "\n",
    "resnet = ResNet50(input_shape=input_shape, weights='imagenet', include_top=False)"
   ]
  },
  {
   "cell_type": "markdown",
   "metadata": {},
   "source": [
    "Building classification layer on top of ResNet"
   ]
  },
  {
   "cell_type": "code",
   "execution_count": 66,
   "metadata": {},
   "outputs": [],
   "source": [
    "inputs2 = keras.Input(shape=input_shape)\n",
    "\n",
    "x = resnet(inputs2)\n",
    "\n",
    "x = Flatten()(x)\n",
    "x = Dropout(0.25)(x) # Dropout layer reduces overfitting\n",
    "\n",
    "x = Dense(units=256,activation='relu')(x) # Rectified Linear Unit - Helping vanishing gradient\n",
    "x = Dropout(0.25)(x)\n",
    "\n",
    "x = Dense(units=128,activation='relu')(x)\n",
    "x = Dropout(0.35)(x)\n",
    "\n",
    "predictions2 = Dense(units=unique_breeds, activation='softmax')(x) # Sum of Prob = 1 \n",
    "\n",
    "resnet = keras.Model(inputs2, predictions2, name='ResNet')\n",
    "\n",
    "resnet.compile(optimizer = 'adam', loss = 'categorical_crossentropy', metrics = ['accuracy']) # Multi-class, Labels in one-hot, use categorical_crossentropy"
   ]
  },
  {
   "cell_type": "markdown",
   "metadata": {},
   "source": [
    "View Summary of the ResNet model"
   ]
  },
  {
   "cell_type": "code",
   "execution_count": 68,
   "metadata": {},
   "outputs": [
    {
     "name": "stdout",
     "output_type": "stream",
     "text": [
      "Model: \"ResNet\"\n",
      "_________________________________________________________________\n",
      "Layer (type)                 Output Shape              Param #   \n",
      "=================================================================\n",
      "input_7 (InputLayer)         [(None, 224, 224, 3)]     0         \n",
      "_________________________________________________________________\n",
      "ResNet (Functional)          (None, 120)               49405808  \n",
      "_________________________________________________________________\n",
      "flatten_6 (Flatten)          (None, 120)               0         \n",
      "_________________________________________________________________\n",
      "dropout_12 (Dropout)         (None, 120)               0         \n",
      "_________________________________________________________________\n",
      "dense_16 (Dense)             (None, 256)               30976     \n",
      "_________________________________________________________________\n",
      "dropout_13 (Dropout)         (None, 256)               0         \n",
      "_________________________________________________________________\n",
      "dense_17 (Dense)             (None, 128)               32896     \n",
      "_________________________________________________________________\n",
      "dropout_14 (Dropout)         (None, 128)               0         \n",
      "_________________________________________________________________\n",
      "dense_18 (Dense)             (None, 120)               15480     \n",
      "=================================================================\n",
      "Total params: 49,485,160\n",
      "Trainable params: 49,432,040\n",
      "Non-trainable params: 53,120\n",
      "_________________________________________________________________\n"
     ]
    }
   ],
   "source": [
    "resnet.summary()"
   ]
  },
  {
   "cell_type": "code",
   "execution_count": 70,
   "metadata": {},
   "outputs": [
    {
     "name": "stdout",
     "output_type": "stream",
     "text": [
      "('Failed to import pydot. You must `pip install pydot` and install graphviz (https://graphviz.gitlab.io/download/), ', 'for `pydotprint` to work.')\n"
     ]
    },
    {
     "data": {
      "text/plain": [
       "None"
      ]
     },
     "metadata": {},
     "output_type": "display_data"
    }
   ],
   "source": [
    "model_plot = tf.keras.utils.plot_model(cnn, show_shapes=True)\n",
    "display(model_plot)"
   ]
  },
  {
   "cell_type": "markdown",
   "metadata": {},
   "source": [
    "Checkpoints"
   ]
  },
  {
   "cell_type": "code",
   "execution_count": 71,
   "metadata": {},
   "outputs": [],
   "source": [
    "model_checkpoint = tf.keras.callbacks.ModelCheckpoint(\n",
    "    filepath=os.path.join('models/', 'resnet_best_val_loss2.h5'),\n",
    "    save_weights_only=False,\n",
    "    monitor='val_loss',\n",
    "    mode='auto',\n",
    "    save_best_only=True)\n",
    "\n",
    "# If the validation loss doesn't improve, stop training\n",
    "earlystopping = tf.keras.callbacks.EarlyStopping(monitor='val_loss', patience=9)\n",
    "\n",
    "# If the validation loss doesn't improve, reduce the learning rate to 0.2 times it's previous value\n",
    "\n",
    "# New LR = Old LR * factor\n",
    "reduce_lr = tf.keras.callbacks.ReduceLROnPlateau(monitor='val_loss', factor=0.01, patience=3)"
   ]
  },
  {
   "cell_type": "markdown",
   "metadata": {},
   "source": [
    "Training the ResNet model"
   ]
  },
  {
   "cell_type": "code",
   "execution_count": 72,
   "metadata": {},
   "outputs": [],
   "source": [
    "epochs = 1"
   ]
  },
  {
   "cell_type": "code",
   "execution_count": 73,
   "metadata": {},
   "outputs": [
    {
     "name": "stdout",
     "output_type": "stream",
     "text": [
      "127/127 [==============================] - 93s 733ms/step - loss: 4.7765 - accuracy: 0.0134 - val_loss: 4.7498 - val_accuracy: 0.0212\n"
     ]
    }
   ],
   "source": [
    "history2 = cnn.fit(training_set,\n",
    "          epochs=epochs,\n",
    "          steps_per_epoch=step_size_train,\n",
    "          validation_data=validation_set,\n",
    "          validation_steps=step_size_val,\n",
    "          callbacks=[model_checkpoint, earlystopping, reduce_lr], shuffle=True, verbose=1)"
   ]
  },
  {
   "cell_type": "markdown",
   "metadata": {},
   "source": [
    "Save final ResNet model"
   ]
  },
  {
   "cell_type": "code",
   "execution_count": 74,
   "metadata": {},
   "outputs": [],
   "source": [
    "resnet.save('models/final_resnet.h5')"
   ]
  },
  {
   "cell_type": "markdown",
   "metadata": {},
   "source": [
    "Model Evaluation"
   ]
  },
  {
   "cell_type": "code",
   "execution_count": 75,
   "metadata": {},
   "outputs": [
    {
     "name": "stdout",
     "output_type": "stream",
     "text": [
      "[]\n",
      "31/31 [==============================] - 12s 233ms/step - loss: 4.7874 - accuracy: 0.0097\n"
     ]
    },
    {
     "data": {
      "text/plain": [
       "[4.787292003631592, 0.009576613083481789]"
      ]
     },
     "execution_count": 75,
     "metadata": {},
     "output_type": "execute_result"
    }
   ],
   "source": [
    "print(resnet.metrics_names)\n",
    "resnet.evaluate(validation_set, steps=step_size_val, verbose=1)"
   ]
  },
  {
   "cell_type": "markdown",
   "metadata": {},
   "source": [
    "Accuracy + Loss Plot"
   ]
  },
  {
   "cell_type": "code",
   "execution_count": 76,
   "metadata": {},
   "outputs": [
    {
     "data": {
      "image/png": "[encoded data removed]",
      "text/plain": [
       "<Figure size 432x288 with 1 Axes>"
      ]
     },
     "metadata": {
      "needs_background": "light"
     },
     "output_type": "display_data"
    }
   ],
   "source": [
    "plt.plot(history2.history['accuracy'])\n",
    "plt.plot(history2.history['val_accuracy'])\n",
    "plt.title('Model accuracy')\n",
    "plt.ylabel('Accuracy')\n",
    "plt.xlabel('Epoch')\n",
    "plt.legend(['Train', 'Val'], loc='upper left')\n",
    "plt.show()"
   ]
  },
  {
   "cell_type": "code",
   "execution_count": 77,
   "metadata": {},
   "outputs": [
    {
     "data": {
      "image/png": "[encoded data removed]",
      "text/plain": [
       "<Figure size 432x288 with 1 Axes>"
      ]
     },
     "metadata": {
      "needs_background": "light"
     },
     "output_type": "display_data"
    }
   ],
   "source": [
    "plt.plot(history2.history['loss'])\n",
    "plt.plot(history2.history['val_loss'])\n",
    "plt.title('Model loss')\n",
    "plt.ylabel('Loss')\n",
    "plt.xlabel('Epoch')\n",
    "plt.legend(['Train', 'Val'], loc='upper left')\n",
    "plt.show()"
   ]
  },
  {
   "cell_type": "markdown",
   "metadata": {},
   "source": [
    "Prediction on test set"
   ]
  },
  {
   "cell_type": "code",
   "execution_count": 78,
   "metadata": {},
   "outputs": [
    {
     "name": "stdout",
     "output_type": "stream",
     "text": [
      "162/162 [==============================] - 41s 250ms/step\n"
     ]
    }
   ],
   "source": [
    "resnet_y_pred = resnet.predict(test_set, verbose=1)"
   ]
  },
  {
   "cell_type": "code",
   "execution_count": null,
   "metadata": {},
   "outputs": [],
   "source": []
  },
  {
   "cell_type": "markdown",
   "metadata": {},
   "source": [
    "Comparison of models"
   ]
  },
  {
   "cell_type": "code",
   "execution_count": null,
   "metadata": {},
   "outputs": [],
   "source": [
    "print(\"CNN:Loss vs Accuracy\\n\")\n",
    "cnn.evaluate(validation_set, steps=step_size_val, verbose=1)\n",
    "print(\"\\n\")\n",
    "print(\"ResNet:Loss vs Accuracy\\n\")\n",
    "resnet.evaluate(validation_set, steps=step_size_val, verbose=1)"
   ]
  },
  {
   "cell_type": "code",
   "execution_count": null,
   "metadata": {},
   "outputs": [],
   "source": []
  },
  {
   "cell_type": "markdown",
   "metadata": {},
   "source": [
    "Submission, opening the sample file to see requirements"
   ]
  },
  {
   "cell_type": "code",
   "execution_count": 16,
   "metadata": {},
   "outputs": [
    {
     "data": {
      "text/html": [
       "<div>\n",
       "<style scoped>\n",
       "    .dataframe tbody tr th:only-of-type {\n",
       "        vertical-align: middle;\n",
       "    }\n",
       "\n",
       "    .dataframe tbody tr th {\n",
       "        vertical-align: top;\n",
       "    }\n",
       "\n",
       "    .dataframe thead th {\n",
       "        text-align: right;\n",
       "    }\n",
       "</style>\n",
       "<table border=\"1\" class=\"dataframe\">\n",
       "  <thead>\n",
       "    <tr style=\"text-align: right;\">\n",
       "      <th></th>\n",
       "      <th>id</th>\n",
       "      <th>affenpinscher</th>\n",
       "      <th>afghan_hound</th>\n",
       "      <th>african_hunting_dog</th>\n",
       "      <th>airedale</th>\n",
       "      <th>american_staffordshire_terrier</th>\n",
       "      <th>appenzeller</th>\n",
       "      <th>australian_terrier</th>\n",
       "      <th>basenji</th>\n",
       "      <th>basset</th>\n",
       "      <th>...</th>\n",
       "      <th>toy_poodle</th>\n",
       "      <th>toy_terrier</th>\n",
       "      <th>vizsla</th>\n",
       "      <th>walker_hound</th>\n",
       "      <th>weimaraner</th>\n",
       "      <th>welsh_springer_spaniel</th>\n",
       "      <th>west_highland_white_terrier</th>\n",
       "      <th>whippet</th>\n",
       "      <th>wire-haired_fox_terrier</th>\n",
       "      <th>yorkshire_terrier</th>\n",
       "    </tr>\n",
       "  </thead>\n",
       "  <tbody>\n",
       "    <tr>\n",
       "      <th>0</th>\n",
       "      <td>000621fb3cbb32d8935728e48679680e</td>\n",
       "      <td>0.008333</td>\n",
       "      <td>0.008333</td>\n",
       "      <td>0.008333</td>\n",
       "      <td>0.008333</td>\n",
       "      <td>0.008333</td>\n",
       "      <td>0.008333</td>\n",
       "      <td>0.008333</td>\n",
       "      <td>0.008333</td>\n",
       "      <td>0.008333</td>\n",
       "      <td>...</td>\n",
       "      <td>0.008333</td>\n",
       "      <td>0.008333</td>\n",
       "      <td>0.008333</td>\n",
       "      <td>0.008333</td>\n",
       "      <td>0.008333</td>\n",
       "      <td>0.008333</td>\n",
       "      <td>0.008333</td>\n",
       "      <td>0.008333</td>\n",
       "      <td>0.008333</td>\n",
       "      <td>0.008333</td>\n",
       "    </tr>\n",
       "    <tr>\n",
       "      <th>1</th>\n",
       "      <td>00102ee9d8eb90812350685311fe5890</td>\n",
       "      <td>0.008333</td>\n",
       "      <td>0.008333</td>\n",
       "      <td>0.008333</td>\n",
       "      <td>0.008333</td>\n",
       "      <td>0.008333</td>\n",
       "      <td>0.008333</td>\n",
       "      <td>0.008333</td>\n",
       "      <td>0.008333</td>\n",
       "      <td>0.008333</td>\n",
       "      <td>...</td>\n",
       "      <td>0.008333</td>\n",
       "      <td>0.008333</td>\n",
       "      <td>0.008333</td>\n",
       "      <td>0.008333</td>\n",
       "      <td>0.008333</td>\n",
       "      <td>0.008333</td>\n",
       "      <td>0.008333</td>\n",
       "      <td>0.008333</td>\n",
       "      <td>0.008333</td>\n",
       "      <td>0.008333</td>\n",
       "    </tr>\n",
       "    <tr>\n",
       "      <th>2</th>\n",
       "      <td>0012a730dfa437f5f3613fb75efcd4ce</td>\n",
       "      <td>0.008333</td>\n",
       "      <td>0.008333</td>\n",
       "      <td>0.008333</td>\n",
       "      <td>0.008333</td>\n",
       "      <td>0.008333</td>\n",
       "      <td>0.008333</td>\n",
       "      <td>0.008333</td>\n",
       "      <td>0.008333</td>\n",
       "      <td>0.008333</td>\n",
       "      <td>...</td>\n",
       "      <td>0.008333</td>\n",
       "      <td>0.008333</td>\n",
       "      <td>0.008333</td>\n",
       "      <td>0.008333</td>\n",
       "      <td>0.008333</td>\n",
       "      <td>0.008333</td>\n",
       "      <td>0.008333</td>\n",
       "      <td>0.008333</td>\n",
       "      <td>0.008333</td>\n",
       "      <td>0.008333</td>\n",
       "    </tr>\n",
       "    <tr>\n",
       "      <th>3</th>\n",
       "      <td>001510bc8570bbeee98c8d80c8a95ec1</td>\n",
       "      <td>0.008333</td>\n",
       "      <td>0.008333</td>\n",
       "      <td>0.008333</td>\n",
       "      <td>0.008333</td>\n",
       "      <td>0.008333</td>\n",
       "      <td>0.008333</td>\n",
       "      <td>0.008333</td>\n",
       "      <td>0.008333</td>\n",
       "      <td>0.008333</td>\n",
       "      <td>...</td>\n",
       "      <td>0.008333</td>\n",
       "      <td>0.008333</td>\n",
       "      <td>0.008333</td>\n",
       "      <td>0.008333</td>\n",
       "      <td>0.008333</td>\n",
       "      <td>0.008333</td>\n",
       "      <td>0.008333</td>\n",
       "      <td>0.008333</td>\n",
       "      <td>0.008333</td>\n",
       "      <td>0.008333</td>\n",
       "    </tr>\n",
       "    <tr>\n",
       "      <th>4</th>\n",
       "      <td>001a5f3114548acdefa3d4da05474c2e</td>\n",
       "      <td>0.008333</td>\n",
       "      <td>0.008333</td>\n",
       "      <td>0.008333</td>\n",
       "      <td>0.008333</td>\n",
       "      <td>0.008333</td>\n",
       "      <td>0.008333</td>\n",
       "      <td>0.008333</td>\n",
       "      <td>0.008333</td>\n",
       "      <td>0.008333</td>\n",
       "      <td>...</td>\n",
       "      <td>0.008333</td>\n",
       "      <td>0.008333</td>\n",
       "      <td>0.008333</td>\n",
       "      <td>0.008333</td>\n",
       "      <td>0.008333</td>\n",
       "      <td>0.008333</td>\n",
       "      <td>0.008333</td>\n",
       "      <td>0.008333</td>\n",
       "      <td>0.008333</td>\n",
       "      <td>0.008333</td>\n",
       "    </tr>\n",
       "    <tr>\n",
       "      <th>...</th>\n",
       "      <td>...</td>\n",
       "      <td>...</td>\n",
       "      <td>...</td>\n",
       "      <td>...</td>\n",
       "      <td>...</td>\n",
       "      <td>...</td>\n",
       "      <td>...</td>\n",
       "      <td>...</td>\n",
       "      <td>...</td>\n",
       "      <td>...</td>\n",
       "      <td>...</td>\n",
       "      <td>...</td>\n",
       "      <td>...</td>\n",
       "      <td>...</td>\n",
       "      <td>...</td>\n",
       "      <td>...</td>\n",
       "      <td>...</td>\n",
       "      <td>...</td>\n",
       "      <td>...</td>\n",
       "      <td>...</td>\n",
       "      <td>...</td>\n",
       "    </tr>\n",
       "    <tr>\n",
       "      <th>10352</th>\n",
       "      <td>ffeda8623d4eee33c6d1156a2ecbfcf8</td>\n",
       "      <td>0.008333</td>\n",
       "      <td>0.008333</td>\n",
       "      <td>0.008333</td>\n",
       "      <td>0.008333</td>\n",
       "      <td>0.008333</td>\n",
       "      <td>0.008333</td>\n",
       "      <td>0.008333</td>\n",
       "      <td>0.008333</td>\n",
       "      <td>0.008333</td>\n",
       "      <td>...</td>\n",
       "      <td>0.008333</td>\n",
       "      <td>0.008333</td>\n",
       "      <td>0.008333</td>\n",
       "      <td>0.008333</td>\n",
       "      <td>0.008333</td>\n",
       "      <td>0.008333</td>\n",
       "      <td>0.008333</td>\n",
       "      <td>0.008333</td>\n",
       "      <td>0.008333</td>\n",
       "      <td>0.008333</td>\n",
       "    </tr>\n",
       "    <tr>\n",
       "      <th>10353</th>\n",
       "      <td>fff1ec9e6e413275984966f745a313b0</td>\n",
       "      <td>0.008333</td>\n",
       "      <td>0.008333</td>\n",
       "      <td>0.008333</td>\n",
       "      <td>0.008333</td>\n",
       "      <td>0.008333</td>\n",
       "      <td>0.008333</td>\n",
       "      <td>0.008333</td>\n",
       "      <td>0.008333</td>\n",
       "      <td>0.008333</td>\n",
       "      <td>...</td>\n",
       "      <td>0.008333</td>\n",
       "      <td>0.008333</td>\n",
       "      <td>0.008333</td>\n",
       "      <td>0.008333</td>\n",
       "      <td>0.008333</td>\n",
       "      <td>0.008333</td>\n",
       "      <td>0.008333</td>\n",
       "      <td>0.008333</td>\n",
       "      <td>0.008333</td>\n",
       "      <td>0.008333</td>\n",
       "    </tr>\n",
       "    <tr>\n",
       "      <th>10354</th>\n",
       "      <td>fff74b59b758bbbf13a5793182a9bbe4</td>\n",
       "      <td>0.008333</td>\n",
       "      <td>0.008333</td>\n",
       "      <td>0.008333</td>\n",
       "      <td>0.008333</td>\n",
       "      <td>0.008333</td>\n",
       "      <td>0.008333</td>\n",
       "      <td>0.008333</td>\n",
       "      <td>0.008333</td>\n",
       "      <td>0.008333</td>\n",
       "      <td>...</td>\n",
       "      <td>0.008333</td>\n",
       "      <td>0.008333</td>\n",
       "      <td>0.008333</td>\n",
       "      <td>0.008333</td>\n",
       "      <td>0.008333</td>\n",
       "      <td>0.008333</td>\n",
       "      <td>0.008333</td>\n",
       "      <td>0.008333</td>\n",
       "      <td>0.008333</td>\n",
       "      <td>0.008333</td>\n",
       "    </tr>\n",
       "    <tr>\n",
       "      <th>10355</th>\n",
       "      <td>fff7d50d848e8014ac1e9172dc6762a3</td>\n",
       "      <td>0.008333</td>\n",
       "      <td>0.008333</td>\n",
       "      <td>0.008333</td>\n",
       "      <td>0.008333</td>\n",
       "      <td>0.008333</td>\n",
       "      <td>0.008333</td>\n",
       "      <td>0.008333</td>\n",
       "      <td>0.008333</td>\n",
       "      <td>0.008333</td>\n",
       "      <td>...</td>\n",
       "      <td>0.008333</td>\n",
       "      <td>0.008333</td>\n",
       "      <td>0.008333</td>\n",
       "      <td>0.008333</td>\n",
       "      <td>0.008333</td>\n",
       "      <td>0.008333</td>\n",
       "      <td>0.008333</td>\n",
       "      <td>0.008333</td>\n",
       "      <td>0.008333</td>\n",
       "      <td>0.008333</td>\n",
       "    </tr>\n",
       "    <tr>\n",
       "      <th>10356</th>\n",
       "      <td>fffbff22c1f51e3dc80c4bf04089545b</td>\n",
       "      <td>0.008333</td>\n",
       "      <td>0.008333</td>\n",
       "      <td>0.008333</td>\n",
       "      <td>0.008333</td>\n",
       "      <td>0.008333</td>\n",
       "      <td>0.008333</td>\n",
       "      <td>0.008333</td>\n",
       "      <td>0.008333</td>\n",
       "      <td>0.008333</td>\n",
       "      <td>...</td>\n",
       "      <td>0.008333</td>\n",
       "      <td>0.008333</td>\n",
       "      <td>0.008333</td>\n",
       "      <td>0.008333</td>\n",
       "      <td>0.008333</td>\n",
       "      <td>0.008333</td>\n",
       "      <td>0.008333</td>\n",
       "      <td>0.008333</td>\n",
       "      <td>0.008333</td>\n",
       "      <td>0.008333</td>\n",
       "    </tr>\n",
       "  </tbody>\n",
       "</table>\n",
       "<p>10357 rows × 121 columns</p>\n",
       "</div>"
      ],
      "text/plain": [
       "                                     id  affenpinscher  afghan_hound  \\\n",
       "0      000621fb3cbb32d8935728e48679680e       0.008333      0.008333   \n",
       "1      00102ee9d8eb90812350685311fe5890       0.008333      0.008333   \n",
       "2      0012a730dfa437f5f3613fb75efcd4ce       0.008333      0.008333   \n",
       "3      001510bc8570bbeee98c8d80c8a95ec1       0.008333      0.008333   \n",
       "4      001a5f3114548acdefa3d4da05474c2e       0.008333      0.008333   \n",
       "...                                 ...            ...           ...   \n",
       "10352  ffeda8623d4eee33c6d1156a2ecbfcf8       0.008333      0.008333   \n",
       "10353  fff1ec9e6e413275984966f745a313b0       0.008333      0.008333   \n",
       "10354  fff74b59b758bbbf13a5793182a9bbe4       0.008333      0.008333   \n",
       "10355  fff7d50d848e8014ac1e9172dc6762a3       0.008333      0.008333   \n",
       "10356  fffbff22c1f51e3dc80c4bf04089545b       0.008333      0.008333   \n",
       "\n",
       "       african_hunting_dog  airedale  american_staffordshire_terrier  \\\n",
       "0                 0.008333  0.008333                        0.008333   \n",
       "1                 0.008333  0.008333                        0.008333   \n",
       "2                 0.008333  0.008333                        0.008333   \n",
       "3                 0.008333  0.008333                        0.008333   \n",
       "4                 0.008333  0.008333                        0.008333   \n",
       "...                    ...       ...                             ...   \n",
       "10352             0.008333  0.008333                        0.008333   \n",
       "10353             0.008333  0.008333                        0.008333   \n",
       "10354             0.008333  0.008333                        0.008333   \n",
       "10355             0.008333  0.008333                        0.008333   \n",
       "10356             0.008333  0.008333                        0.008333   \n",
       "\n",
       "       appenzeller  australian_terrier   basenji    basset  ...  toy_poodle  \\\n",
       "0         0.008333            0.008333  0.008333  0.008333  ...    0.008333   \n",
       "1         0.008333            0.008333  0.008333  0.008333  ...    0.008333   \n",
       "2         0.008333            0.008333  0.008333  0.008333  ...    0.008333   \n",
       "3         0.008333            0.008333  0.008333  0.008333  ...    0.008333   \n",
       "4         0.008333            0.008333  0.008333  0.008333  ...    0.008333   \n",
       "...            ...                 ...       ...       ...  ...         ...   \n",
       "10352     0.008333            0.008333  0.008333  0.008333  ...    0.008333   \n",
       "10353     0.008333            0.008333  0.008333  0.008333  ...    0.008333   \n",
       "10354     0.008333            0.008333  0.008333  0.008333  ...    0.008333   \n",
       "10355     0.008333            0.008333  0.008333  0.008333  ...    0.008333   \n",
       "10356     0.008333            0.008333  0.008333  0.008333  ...    0.008333   \n",
       "\n",
       "       toy_terrier    vizsla  walker_hound  weimaraner  \\\n",
       "0         0.008333  0.008333      0.008333    0.008333   \n",
       "1         0.008333  0.008333      0.008333    0.008333   \n",
       "2         0.008333  0.008333      0.008333    0.008333   \n",
       "3         0.008333  0.008333      0.008333    0.008333   \n",
       "4         0.008333  0.008333      0.008333    0.008333   \n",
       "...            ...       ...           ...         ...   \n",
       "10352     0.008333  0.008333      0.008333    0.008333   \n",
       "10353     0.008333  0.008333      0.008333    0.008333   \n",
       "10354     0.008333  0.008333      0.008333    0.008333   \n",
       "10355     0.008333  0.008333      0.008333    0.008333   \n",
       "10356     0.008333  0.008333      0.008333    0.008333   \n",
       "\n",
       "       welsh_springer_spaniel  west_highland_white_terrier   whippet  \\\n",
       "0                    0.008333                     0.008333  0.008333   \n",
       "1                    0.008333                     0.008333  0.008333   \n",
       "2                    0.008333                     0.008333  0.008333   \n",
       "3                    0.008333                     0.008333  0.008333   \n",
       "4                    0.008333                     0.008333  0.008333   \n",
       "...                       ...                          ...       ...   \n",
       "10352                0.008333                     0.008333  0.008333   \n",
       "10353                0.008333                     0.008333  0.008333   \n",
       "10354                0.008333                     0.008333  0.008333   \n",
       "10355                0.008333                     0.008333  0.008333   \n",
       "10356                0.008333                     0.008333  0.008333   \n",
       "\n",
       "       wire-haired_fox_terrier  yorkshire_terrier  \n",
       "0                     0.008333           0.008333  \n",
       "1                     0.008333           0.008333  \n",
       "2                     0.008333           0.008333  \n",
       "3                     0.008333           0.008333  \n",
       "4                     0.008333           0.008333  \n",
       "...                        ...                ...  \n",
       "10352                 0.008333           0.008333  \n",
       "10353                 0.008333           0.008333  \n",
       "10354                 0.008333           0.008333  \n",
       "10355                 0.008333           0.008333  \n",
       "10356                 0.008333           0.008333  \n",
       "\n",
       "[10357 rows x 121 columns]"
      ]
     },
     "execution_count": 16,
     "metadata": {},
     "output_type": "execute_result"
    }
   ],
   "source": [
    "sample = pd.read_csv('sample_submission.csv')\n",
    "sample"
   ]
  },
  {
   "cell_type": "markdown",
   "metadata": {},
   "source": [
    "Get list of filenames"
   ]
  },
  {
   "cell_type": "code",
   "execution_count": 17,
   "metadata": {},
   "outputs": [],
   "source": [
    "file_list = test_set.filenames\n",
    "id_list = []\n",
    "for name in file_list:\n",
    "    m = re.sub('test/', '', name)\n",
    "    m = re.sub('.jpg', '', m)\n",
    "    id_list.append(m)"
   ]
  },
  {
   "cell_type": "markdown",
   "metadata": {},
   "source": [
    "Map each prediction value to its respective class for each image/file"
   ]
  },
  {
   "cell_type": "code",
   "execution_count": 18,
   "metadata": {},
   "outputs": [
    {
     "data": {
      "text/html": [
       "<div>\n",
       "<style scoped>\n",
       "    .dataframe tbody tr th:only-of-type {\n",
       "        vertical-align: middle;\n",
       "    }\n",
       "\n",
       "    .dataframe tbody tr th {\n",
       "        vertical-align: top;\n",
       "    }\n",
       "\n",
       "    .dataframe thead th {\n",
       "        text-align: right;\n",
       "    }\n",
       "</style>\n",
       "<table border=\"1\" class=\"dataframe\">\n",
       "  <thead>\n",
       "    <tr style=\"text-align: right;\">\n",
       "      <th></th>\n",
       "      <th>id</th>\n",
       "      <th>affenpinscher</th>\n",
       "      <th>afghan_hound</th>\n",
       "      <th>african_hunting_dog</th>\n",
       "      <th>airedale</th>\n",
       "      <th>american_staffordshire_terrier</th>\n",
       "      <th>appenzeller</th>\n",
       "      <th>australian_terrier</th>\n",
       "      <th>basenji</th>\n",
       "      <th>basset</th>\n",
       "      <th>...</th>\n",
       "      <th>toy_poodle</th>\n",
       "      <th>toy_terrier</th>\n",
       "      <th>vizsla</th>\n",
       "      <th>walker_hound</th>\n",
       "      <th>weimaraner</th>\n",
       "      <th>welsh_springer_spaniel</th>\n",
       "      <th>west_highland_white_terrier</th>\n",
       "      <th>whippet</th>\n",
       "      <th>wire-haired_fox_terrier</th>\n",
       "      <th>yorkshire_terrier</th>\n",
       "    </tr>\n",
       "  </thead>\n",
       "  <tbody>\n",
       "    <tr>\n",
       "      <th>0</th>\n",
       "      <td>test\\000621fb3cbb32d8935728e48679680e</td>\n",
       "      <td>0.008296</td>\n",
       "      <td>0.008430</td>\n",
       "      <td>0.008291</td>\n",
       "      <td>0.008540</td>\n",
       "      <td>0.008305</td>\n",
       "      <td>0.008219</td>\n",
       "      <td>0.008398</td>\n",
       "      <td>0.008520</td>\n",
       "      <td>0.008335</td>\n",
       "      <td>...</td>\n",
       "      <td>0.008342</td>\n",
       "      <td>0.008204</td>\n",
       "      <td>0.008255</td>\n",
       "      <td>0.008137</td>\n",
       "      <td>0.008358</td>\n",
       "      <td>0.008410</td>\n",
       "      <td>0.008321</td>\n",
       "      <td>0.008430</td>\n",
       "      <td>0.008274</td>\n",
       "      <td>0.008275</td>\n",
       "    </tr>\n",
       "    <tr>\n",
       "      <th>1</th>\n",
       "      <td>test\\00102ee9d8eb90812350685311fe5890</td>\n",
       "      <td>0.008297</td>\n",
       "      <td>0.008430</td>\n",
       "      <td>0.008290</td>\n",
       "      <td>0.008541</td>\n",
       "      <td>0.008306</td>\n",
       "      <td>0.008220</td>\n",
       "      <td>0.008398</td>\n",
       "      <td>0.008522</td>\n",
       "      <td>0.008335</td>\n",
       "      <td>...</td>\n",
       "      <td>0.008342</td>\n",
       "      <td>0.008204</td>\n",
       "      <td>0.008256</td>\n",
       "      <td>0.008136</td>\n",
       "      <td>0.008358</td>\n",
       "      <td>0.008411</td>\n",
       "      <td>0.008321</td>\n",
       "      <td>0.008430</td>\n",
       "      <td>0.008274</td>\n",
       "      <td>0.008275</td>\n",
       "    </tr>\n",
       "    <tr>\n",
       "      <th>2</th>\n",
       "      <td>test\\0012a730dfa437f5f3613fb75efcd4ce</td>\n",
       "      <td>0.008792</td>\n",
       "      <td>0.008371</td>\n",
       "      <td>0.007600</td>\n",
       "      <td>0.008942</td>\n",
       "      <td>0.008363</td>\n",
       "      <td>0.008779</td>\n",
       "      <td>0.008613</td>\n",
       "      <td>0.009327</td>\n",
       "      <td>0.008196</td>\n",
       "      <td>...</td>\n",
       "      <td>0.008250</td>\n",
       "      <td>0.008101</td>\n",
       "      <td>0.009005</td>\n",
       "      <td>0.007757</td>\n",
       "      <td>0.008543</td>\n",
       "      <td>0.008762</td>\n",
       "      <td>0.008315</td>\n",
       "      <td>0.008232</td>\n",
       "      <td>0.008517</td>\n",
       "      <td>0.007954</td>\n",
       "    </tr>\n",
       "    <tr>\n",
       "      <th>3</th>\n",
       "      <td>test\\001510bc8570bbeee98c8d80c8a95ec1</td>\n",
       "      <td>0.008254</td>\n",
       "      <td>0.008443</td>\n",
       "      <td>0.008329</td>\n",
       "      <td>0.008498</td>\n",
       "      <td>0.008297</td>\n",
       "      <td>0.008193</td>\n",
       "      <td>0.008399</td>\n",
       "      <td>0.008473</td>\n",
       "      <td>0.008332</td>\n",
       "      <td>...</td>\n",
       "      <td>0.008351</td>\n",
       "      <td>0.008231</td>\n",
       "      <td>0.008209</td>\n",
       "      <td>0.008175</td>\n",
       "      <td>0.008337</td>\n",
       "      <td>0.008388</td>\n",
       "      <td>0.008313</td>\n",
       "      <td>0.008448</td>\n",
       "      <td>0.008263</td>\n",
       "      <td>0.008292</td>\n",
       "    </tr>\n",
       "    <tr>\n",
       "      <th>4</th>\n",
       "      <td>test\\001a5f3114548acdefa3d4da05474c2e</td>\n",
       "      <td>0.008373</td>\n",
       "      <td>0.008407</td>\n",
       "      <td>0.008222</td>\n",
       "      <td>0.008617</td>\n",
       "      <td>0.008320</td>\n",
       "      <td>0.008267</td>\n",
       "      <td>0.008396</td>\n",
       "      <td>0.008608</td>\n",
       "      <td>0.008338</td>\n",
       "      <td>...</td>\n",
       "      <td>0.008325</td>\n",
       "      <td>0.008155</td>\n",
       "      <td>0.008339</td>\n",
       "      <td>0.008068</td>\n",
       "      <td>0.008395</td>\n",
       "      <td>0.008450</td>\n",
       "      <td>0.008334</td>\n",
       "      <td>0.008398</td>\n",
       "      <td>0.008294</td>\n",
       "      <td>0.008244</td>\n",
       "    </tr>\n",
       "    <tr>\n",
       "      <th>...</th>\n",
       "      <td>...</td>\n",
       "      <td>...</td>\n",
       "      <td>...</td>\n",
       "      <td>...</td>\n",
       "      <td>...</td>\n",
       "      <td>...</td>\n",
       "      <td>...</td>\n",
       "      <td>...</td>\n",
       "      <td>...</td>\n",
       "      <td>...</td>\n",
       "      <td>...</td>\n",
       "      <td>...</td>\n",
       "      <td>...</td>\n",
       "      <td>...</td>\n",
       "      <td>...</td>\n",
       "      <td>...</td>\n",
       "      <td>...</td>\n",
       "      <td>...</td>\n",
       "      <td>...</td>\n",
       "      <td>...</td>\n",
       "      <td>...</td>\n",
       "    </tr>\n",
       "    <tr>\n",
       "      <th>10352</th>\n",
       "      <td>test\\ffeda8623d4eee33c6d1156a2ecbfcf8</td>\n",
       "      <td>0.008393</td>\n",
       "      <td>0.008400</td>\n",
       "      <td>0.008204</td>\n",
       "      <td>0.008638</td>\n",
       "      <td>0.008324</td>\n",
       "      <td>0.008280</td>\n",
       "      <td>0.008396</td>\n",
       "      <td>0.008632</td>\n",
       "      <td>0.008339</td>\n",
       "      <td>...</td>\n",
       "      <td>0.008321</td>\n",
       "      <td>0.008142</td>\n",
       "      <td>0.008361</td>\n",
       "      <td>0.008049</td>\n",
       "      <td>0.008405</td>\n",
       "      <td>0.008461</td>\n",
       "      <td>0.008338</td>\n",
       "      <td>0.008390</td>\n",
       "      <td>0.008299</td>\n",
       "      <td>0.008236</td>\n",
       "    </tr>\n",
       "    <tr>\n",
       "      <th>10353</th>\n",
       "      <td>test\\fff1ec9e6e413275984966f745a313b0</td>\n",
       "      <td>0.008254</td>\n",
       "      <td>0.008443</td>\n",
       "      <td>0.008329</td>\n",
       "      <td>0.008498</td>\n",
       "      <td>0.008297</td>\n",
       "      <td>0.008193</td>\n",
       "      <td>0.008399</td>\n",
       "      <td>0.008473</td>\n",
       "      <td>0.008332</td>\n",
       "      <td>...</td>\n",
       "      <td>0.008351</td>\n",
       "      <td>0.008231</td>\n",
       "      <td>0.008209</td>\n",
       "      <td>0.008175</td>\n",
       "      <td>0.008337</td>\n",
       "      <td>0.008388</td>\n",
       "      <td>0.008313</td>\n",
       "      <td>0.008448</td>\n",
       "      <td>0.008263</td>\n",
       "      <td>0.008292</td>\n",
       "    </tr>\n",
       "    <tr>\n",
       "      <th>10354</th>\n",
       "      <td>test\\fff74b59b758bbbf13a5793182a9bbe4</td>\n",
       "      <td>0.008377</td>\n",
       "      <td>0.008405</td>\n",
       "      <td>0.008219</td>\n",
       "      <td>0.008621</td>\n",
       "      <td>0.008321</td>\n",
       "      <td>0.008269</td>\n",
       "      <td>0.008396</td>\n",
       "      <td>0.008613</td>\n",
       "      <td>0.008338</td>\n",
       "      <td>...</td>\n",
       "      <td>0.008324</td>\n",
       "      <td>0.008153</td>\n",
       "      <td>0.008343</td>\n",
       "      <td>0.008064</td>\n",
       "      <td>0.008397</td>\n",
       "      <td>0.008452</td>\n",
       "      <td>0.008335</td>\n",
       "      <td>0.008397</td>\n",
       "      <td>0.008295</td>\n",
       "      <td>0.008243</td>\n",
       "    </tr>\n",
       "    <tr>\n",
       "      <th>10355</th>\n",
       "      <td>test\\fff7d50d848e8014ac1e9172dc6762a3</td>\n",
       "      <td>0.008506</td>\n",
       "      <td>0.008366</td>\n",
       "      <td>0.008105</td>\n",
       "      <td>0.008751</td>\n",
       "      <td>0.008344</td>\n",
       "      <td>0.008349</td>\n",
       "      <td>0.008393</td>\n",
       "      <td>0.008760</td>\n",
       "      <td>0.008344</td>\n",
       "      <td>...</td>\n",
       "      <td>0.008296</td>\n",
       "      <td>0.008070</td>\n",
       "      <td>0.008484</td>\n",
       "      <td>0.007949</td>\n",
       "      <td>0.008458</td>\n",
       "      <td>0.008520</td>\n",
       "      <td>0.008357</td>\n",
       "      <td>0.008343</td>\n",
       "      <td>0.008327</td>\n",
       "      <td>0.008191</td>\n",
       "    </tr>\n",
       "    <tr>\n",
       "      <th>10356</th>\n",
       "      <td>test\\fffbff22c1f51e3dc80c4bf04089545b</td>\n",
       "      <td>0.008554</td>\n",
       "      <td>0.008350</td>\n",
       "      <td>0.008063</td>\n",
       "      <td>0.008800</td>\n",
       "      <td>0.008353</td>\n",
       "      <td>0.008378</td>\n",
       "      <td>0.008391</td>\n",
       "      <td>0.008816</td>\n",
       "      <td>0.008345</td>\n",
       "      <td>...</td>\n",
       "      <td>0.008285</td>\n",
       "      <td>0.008040</td>\n",
       "      <td>0.008537</td>\n",
       "      <td>0.007907</td>\n",
       "      <td>0.008481</td>\n",
       "      <td>0.008544</td>\n",
       "      <td>0.008365</td>\n",
       "      <td>0.008323</td>\n",
       "      <td>0.008339</td>\n",
       "      <td>0.008172</td>\n",
       "    </tr>\n",
       "  </tbody>\n",
       "</table>\n",
       "<p>10357 rows × 121 columns</p>\n",
       "</div>"
      ],
      "text/plain": [
       "                                          id  affenpinscher  afghan_hound  \\\n",
       "0      test\\000621fb3cbb32d8935728e48679680e       0.008296      0.008430   \n",
       "1      test\\00102ee9d8eb90812350685311fe5890       0.008297      0.008430   \n",
       "2      test\\0012a730dfa437f5f3613fb75efcd4ce       0.008792      0.008371   \n",
       "3      test\\001510bc8570bbeee98c8d80c8a95ec1       0.008254      0.008443   \n",
       "4      test\\001a5f3114548acdefa3d4da05474c2e       0.008373      0.008407   \n",
       "...                                      ...            ...           ...   \n",
       "10352  test\\ffeda8623d4eee33c6d1156a2ecbfcf8       0.008393      0.008400   \n",
       "10353  test\\fff1ec9e6e413275984966f745a313b0       0.008254      0.008443   \n",
       "10354  test\\fff74b59b758bbbf13a5793182a9bbe4       0.008377      0.008405   \n",
       "10355  test\\fff7d50d848e8014ac1e9172dc6762a3       0.008506      0.008366   \n",
       "10356  test\\fffbff22c1f51e3dc80c4bf04089545b       0.008554      0.008350   \n",
       "\n",
       "       african_hunting_dog  airedale  american_staffordshire_terrier  \\\n",
       "0                 0.008291  0.008540                        0.008305   \n",
       "1                 0.008290  0.008541                        0.008306   \n",
       "2                 0.007600  0.008942                        0.008363   \n",
       "3                 0.008329  0.008498                        0.008297   \n",
       "4                 0.008222  0.008617                        0.008320   \n",
       "...                    ...       ...                             ...   \n",
       "10352             0.008204  0.008638                        0.008324   \n",
       "10353             0.008329  0.008498                        0.008297   \n",
       "10354             0.008219  0.008621                        0.008321   \n",
       "10355             0.008105  0.008751                        0.008344   \n",
       "10356             0.008063  0.008800                        0.008353   \n",
       "\n",
       "       appenzeller  australian_terrier   basenji    basset  ...  toy_poodle  \\\n",
       "0         0.008219            0.008398  0.008520  0.008335  ...    0.008342   \n",
       "1         0.008220            0.008398  0.008522  0.008335  ...    0.008342   \n",
       "2         0.008779            0.008613  0.009327  0.008196  ...    0.008250   \n",
       "3         0.008193            0.008399  0.008473  0.008332  ...    0.008351   \n",
       "4         0.008267            0.008396  0.008608  0.008338  ...    0.008325   \n",
       "...            ...                 ...       ...       ...  ...         ...   \n",
       "10352     0.008280            0.008396  0.008632  0.008339  ...    0.008321   \n",
       "10353     0.008193            0.008399  0.008473  0.008332  ...    0.008351   \n",
       "10354     0.008269            0.008396  0.008613  0.008338  ...    0.008324   \n",
       "10355     0.008349            0.008393  0.008760  0.008344  ...    0.008296   \n",
       "10356     0.008378            0.008391  0.008816  0.008345  ...    0.008285   \n",
       "\n",
       "       toy_terrier    vizsla  walker_hound  weimaraner  \\\n",
       "0         0.008204  0.008255      0.008137    0.008358   \n",
       "1         0.008204  0.008256      0.008136    0.008358   \n",
       "2         0.008101  0.009005      0.007757    0.008543   \n",
       "3         0.008231  0.008209      0.008175    0.008337   \n",
       "4         0.008155  0.008339      0.008068    0.008395   \n",
       "...            ...       ...           ...         ...   \n",
       "10352     0.008142  0.008361      0.008049    0.008405   \n",
       "10353     0.008231  0.008209      0.008175    0.008337   \n",
       "10354     0.008153  0.008343      0.008064    0.008397   \n",
       "10355     0.008070  0.008484      0.007949    0.008458   \n",
       "10356     0.008040  0.008537      0.007907    0.008481   \n",
       "\n",
       "       welsh_springer_spaniel  west_highland_white_terrier   whippet  \\\n",
       "0                    0.008410                     0.008321  0.008430   \n",
       "1                    0.008411                     0.008321  0.008430   \n",
       "2                    0.008762                     0.008315  0.008232   \n",
       "3                    0.008388                     0.008313  0.008448   \n",
       "4                    0.008450                     0.008334  0.008398   \n",
       "...                       ...                          ...       ...   \n",
       "10352                0.008461                     0.008338  0.008390   \n",
       "10353                0.008388                     0.008313  0.008448   \n",
       "10354                0.008452                     0.008335  0.008397   \n",
       "10355                0.008520                     0.008357  0.008343   \n",
       "10356                0.008544                     0.008365  0.008323   \n",
       "\n",
       "       wire-haired_fox_terrier  yorkshire_terrier  \n",
       "0                     0.008274           0.008275  \n",
       "1                     0.008274           0.008275  \n",
       "2                     0.008517           0.007954  \n",
       "3                     0.008263           0.008292  \n",
       "4                     0.008294           0.008244  \n",
       "...                        ...                ...  \n",
       "10352                 0.008299           0.008236  \n",
       "10353                 0.008263           0.008292  \n",
       "10354                 0.008295           0.008243  \n",
       "10355                 0.008327           0.008191  \n",
       "10356                 0.008339           0.008172  \n",
       "\n",
       "[10357 rows x 121 columns]"
      ]
     },
     "execution_count": 18,
     "metadata": {},
     "output_type": "execute_result"
    }
   ],
   "source": [
    "sample['id'] = id_list\n",
    "sample.iloc[:,1:] = cnn_y_pred\n",
    "sample"
   ]
  },
  {
   "cell_type": "markdown",
   "metadata": {},
   "source": [
    "Output to csv"
   ]
  },
  {
   "cell_type": "code",
   "execution_count": 19,
   "metadata": {},
   "outputs": [],
   "source": [
    "submission = sample.set_index('id')\n",
    "submission.to_csv('submission.csv')"
   ]
  },
  {
   "cell_type": "code",
   "execution_count": 20,
   "metadata": {},
   "outputs": [
    {
     "data": {
      "text/html": [
       "<div>\n",
       "<style scoped>\n",
       "    .dataframe tbody tr th:only-of-type {\n",
       "        vertical-align: middle;\n",
       "    }\n",
       "\n",
       "    .dataframe tbody tr th {\n",
       "        vertical-align: top;\n",
       "    }\n",
       "\n",
       "    .dataframe thead th {\n",
       "        text-align: right;\n",
       "    }\n",
       "</style>\n",
       "<table border=\"1\" class=\"dataframe\">\n",
       "  <thead>\n",
       "    <tr style=\"text-align: right;\">\n",
       "      <th></th>\n",
       "      <th>affenpinscher</th>\n",
       "      <th>afghan_hound</th>\n",
       "      <th>african_hunting_dog</th>\n",
       "      <th>airedale</th>\n",
       "      <th>american_staffordshire_terrier</th>\n",
       "      <th>appenzeller</th>\n",
       "      <th>australian_terrier</th>\n",
       "      <th>basenji</th>\n",
       "      <th>basset</th>\n",
       "      <th>beagle</th>\n",
       "      <th>...</th>\n",
       "      <th>toy_poodle</th>\n",
       "      <th>toy_terrier</th>\n",
       "      <th>vizsla</th>\n",
       "      <th>walker_hound</th>\n",
       "      <th>weimaraner</th>\n",
       "      <th>welsh_springer_spaniel</th>\n",
       "      <th>west_highland_white_terrier</th>\n",
       "      <th>whippet</th>\n",
       "      <th>wire-haired_fox_terrier</th>\n",
       "      <th>yorkshire_terrier</th>\n",
       "    </tr>\n",
       "    <tr>\n",
       "      <th>id</th>\n",
       "      <th></th>\n",
       "      <th></th>\n",
       "      <th></th>\n",
       "      <th></th>\n",
       "      <th></th>\n",
       "      <th></th>\n",
       "      <th></th>\n",
       "      <th></th>\n",
       "      <th></th>\n",
       "      <th></th>\n",
       "      <th></th>\n",
       "      <th></th>\n",
       "      <th></th>\n",
       "      <th></th>\n",
       "      <th></th>\n",
       "      <th></th>\n",
       "      <th></th>\n",
       "      <th></th>\n",
       "      <th></th>\n",
       "      <th></th>\n",
       "      <th></th>\n",
       "    </tr>\n",
       "  </thead>\n",
       "  <tbody>\n",
       "    <tr>\n",
       "      <th>test\\000621fb3cbb32d8935728e48679680e</th>\n",
       "      <td>0.008296</td>\n",
       "      <td>0.008430</td>\n",
       "      <td>0.008291</td>\n",
       "      <td>0.008540</td>\n",
       "      <td>0.008305</td>\n",
       "      <td>0.008219</td>\n",
       "      <td>0.008398</td>\n",
       "      <td>0.008520</td>\n",
       "      <td>0.008335</td>\n",
       "      <td>0.008477</td>\n",
       "      <td>...</td>\n",
       "      <td>0.008342</td>\n",
       "      <td>0.008204</td>\n",
       "      <td>0.008255</td>\n",
       "      <td>0.008137</td>\n",
       "      <td>0.008358</td>\n",
       "      <td>0.008410</td>\n",
       "      <td>0.008321</td>\n",
       "      <td>0.008430</td>\n",
       "      <td>0.008274</td>\n",
       "      <td>0.008275</td>\n",
       "    </tr>\n",
       "    <tr>\n",
       "      <th>test\\00102ee9d8eb90812350685311fe5890</th>\n",
       "      <td>0.008297</td>\n",
       "      <td>0.008430</td>\n",
       "      <td>0.008290</td>\n",
       "      <td>0.008541</td>\n",
       "      <td>0.008306</td>\n",
       "      <td>0.008220</td>\n",
       "      <td>0.008398</td>\n",
       "      <td>0.008522</td>\n",
       "      <td>0.008335</td>\n",
       "      <td>0.008478</td>\n",
       "      <td>...</td>\n",
       "      <td>0.008342</td>\n",
       "      <td>0.008204</td>\n",
       "      <td>0.008256</td>\n",
       "      <td>0.008136</td>\n",
       "      <td>0.008358</td>\n",
       "      <td>0.008411</td>\n",
       "      <td>0.008321</td>\n",
       "      <td>0.008430</td>\n",
       "      <td>0.008274</td>\n",
       "      <td>0.008275</td>\n",
       "    </tr>\n",
       "    <tr>\n",
       "      <th>test\\0012a730dfa437f5f3613fb75efcd4ce</th>\n",
       "      <td>0.008792</td>\n",
       "      <td>0.008371</td>\n",
       "      <td>0.007600</td>\n",
       "      <td>0.008942</td>\n",
       "      <td>0.008363</td>\n",
       "      <td>0.008779</td>\n",
       "      <td>0.008613</td>\n",
       "      <td>0.009327</td>\n",
       "      <td>0.008196</td>\n",
       "      <td>0.009017</td>\n",
       "      <td>...</td>\n",
       "      <td>0.008250</td>\n",
       "      <td>0.008101</td>\n",
       "      <td>0.009005</td>\n",
       "      <td>0.007757</td>\n",
       "      <td>0.008543</td>\n",
       "      <td>0.008762</td>\n",
       "      <td>0.008315</td>\n",
       "      <td>0.008232</td>\n",
       "      <td>0.008517</td>\n",
       "      <td>0.007954</td>\n",
       "    </tr>\n",
       "    <tr>\n",
       "      <th>test\\001510bc8570bbeee98c8d80c8a95ec1</th>\n",
       "      <td>0.008254</td>\n",
       "      <td>0.008443</td>\n",
       "      <td>0.008329</td>\n",
       "      <td>0.008498</td>\n",
       "      <td>0.008297</td>\n",
       "      <td>0.008193</td>\n",
       "      <td>0.008399</td>\n",
       "      <td>0.008473</td>\n",
       "      <td>0.008332</td>\n",
       "      <td>0.008440</td>\n",
       "      <td>...</td>\n",
       "      <td>0.008351</td>\n",
       "      <td>0.008231</td>\n",
       "      <td>0.008209</td>\n",
       "      <td>0.008175</td>\n",
       "      <td>0.008337</td>\n",
       "      <td>0.008388</td>\n",
       "      <td>0.008313</td>\n",
       "      <td>0.008448</td>\n",
       "      <td>0.008263</td>\n",
       "      <td>0.008292</td>\n",
       "    </tr>\n",
       "    <tr>\n",
       "      <th>test\\001a5f3114548acdefa3d4da05474c2e</th>\n",
       "      <td>0.008373</td>\n",
       "      <td>0.008407</td>\n",
       "      <td>0.008222</td>\n",
       "      <td>0.008617</td>\n",
       "      <td>0.008320</td>\n",
       "      <td>0.008267</td>\n",
       "      <td>0.008396</td>\n",
       "      <td>0.008608</td>\n",
       "      <td>0.008338</td>\n",
       "      <td>0.008545</td>\n",
       "      <td>...</td>\n",
       "      <td>0.008325</td>\n",
       "      <td>0.008155</td>\n",
       "      <td>0.008339</td>\n",
       "      <td>0.008068</td>\n",
       "      <td>0.008395</td>\n",
       "      <td>0.008450</td>\n",
       "      <td>0.008334</td>\n",
       "      <td>0.008398</td>\n",
       "      <td>0.008294</td>\n",
       "      <td>0.008244</td>\n",
       "    </tr>\n",
       "  </tbody>\n",
       "</table>\n",
       "<p>5 rows × 120 columns</p>\n",
       "</div>"
      ],
      "text/plain": [
       "                                       affenpinscher  afghan_hound  \\\n",
       "id                                                                   \n",
       "test\\000621fb3cbb32d8935728e48679680e       0.008296      0.008430   \n",
       "test\\00102ee9d8eb90812350685311fe5890       0.008297      0.008430   \n",
       "test\\0012a730dfa437f5f3613fb75efcd4ce       0.008792      0.008371   \n",
       "test\\001510bc8570bbeee98c8d80c8a95ec1       0.008254      0.008443   \n",
       "test\\001a5f3114548acdefa3d4da05474c2e       0.008373      0.008407   \n",
       "\n",
       "                                       african_hunting_dog  airedale  \\\n",
       "id                                                                     \n",
       "test\\000621fb3cbb32d8935728e48679680e             0.008291  0.008540   \n",
       "test\\00102ee9d8eb90812350685311fe5890             0.008290  0.008541   \n",
       "test\\0012a730dfa437f5f3613fb75efcd4ce             0.007600  0.008942   \n",
       "test\\001510bc8570bbeee98c8d80c8a95ec1             0.008329  0.008498   \n",
       "test\\001a5f3114548acdefa3d4da05474c2e             0.008222  0.008617   \n",
       "\n",
       "                                       american_staffordshire_terrier  \\\n",
       "id                                                                      \n",
       "test\\000621fb3cbb32d8935728e48679680e                        0.008305   \n",
       "test\\00102ee9d8eb90812350685311fe5890                        0.008306   \n",
       "test\\0012a730dfa437f5f3613fb75efcd4ce                        0.008363   \n",
       "test\\001510bc8570bbeee98c8d80c8a95ec1                        0.008297   \n",
       "test\\001a5f3114548acdefa3d4da05474c2e                        0.008320   \n",
       "\n",
       "                                       appenzeller  australian_terrier  \\\n",
       "id                                                                       \n",
       "test\\000621fb3cbb32d8935728e48679680e     0.008219            0.008398   \n",
       "test\\00102ee9d8eb90812350685311fe5890     0.008220            0.008398   \n",
       "test\\0012a730dfa437f5f3613fb75efcd4ce     0.008779            0.008613   \n",
       "test\\001510bc8570bbeee98c8d80c8a95ec1     0.008193            0.008399   \n",
       "test\\001a5f3114548acdefa3d4da05474c2e     0.008267            0.008396   \n",
       "\n",
       "                                        basenji    basset    beagle  ...  \\\n",
       "id                                                                   ...   \n",
       "test\\000621fb3cbb32d8935728e48679680e  0.008520  0.008335  0.008477  ...   \n",
       "test\\00102ee9d8eb90812350685311fe5890  0.008522  0.008335  0.008478  ...   \n",
       "test\\0012a730dfa437f5f3613fb75efcd4ce  0.009327  0.008196  0.009017  ...   \n",
       "test\\001510bc8570bbeee98c8d80c8a95ec1  0.008473  0.008332  0.008440  ...   \n",
       "test\\001a5f3114548acdefa3d4da05474c2e  0.008608  0.008338  0.008545  ...   \n",
       "\n",
       "                                       toy_poodle  toy_terrier    vizsla  \\\n",
       "id                                                                         \n",
       "test\\000621fb3cbb32d8935728e48679680e    0.008342     0.008204  0.008255   \n",
       "test\\00102ee9d8eb90812350685311fe5890    0.008342     0.008204  0.008256   \n",
       "test\\0012a730dfa437f5f3613fb75efcd4ce    0.008250     0.008101  0.009005   \n",
       "test\\001510bc8570bbeee98c8d80c8a95ec1    0.008351     0.008231  0.008209   \n",
       "test\\001a5f3114548acdefa3d4da05474c2e    0.008325     0.008155  0.008339   \n",
       "\n",
       "                                       walker_hound  weimaraner  \\\n",
       "id                                                                \n",
       "test\\000621fb3cbb32d8935728e48679680e      0.008137    0.008358   \n",
       "test\\00102ee9d8eb90812350685311fe5890      0.008136    0.008358   \n",
       "test\\0012a730dfa437f5f3613fb75efcd4ce      0.007757    0.008543   \n",
       "test\\001510bc8570bbeee98c8d80c8a95ec1      0.008175    0.008337   \n",
       "test\\001a5f3114548acdefa3d4da05474c2e      0.008068    0.008395   \n",
       "\n",
       "                                       welsh_springer_spaniel  \\\n",
       "id                                                              \n",
       "test\\000621fb3cbb32d8935728e48679680e                0.008410   \n",
       "test\\00102ee9d8eb90812350685311fe5890                0.008411   \n",
       "test\\0012a730dfa437f5f3613fb75efcd4ce                0.008762   \n",
       "test\\001510bc8570bbeee98c8d80c8a95ec1                0.008388   \n",
       "test\\001a5f3114548acdefa3d4da05474c2e                0.008450   \n",
       "\n",
       "                                       west_highland_white_terrier   whippet  \\\n",
       "id                                                                             \n",
       "test\\000621fb3cbb32d8935728e48679680e                     0.008321  0.008430   \n",
       "test\\00102ee9d8eb90812350685311fe5890                     0.008321  0.008430   \n",
       "test\\0012a730dfa437f5f3613fb75efcd4ce                     0.008315  0.008232   \n",
       "test\\001510bc8570bbeee98c8d80c8a95ec1                     0.008313  0.008448   \n",
       "test\\001a5f3114548acdefa3d4da05474c2e                     0.008334  0.008398   \n",
       "\n",
       "                                       wire-haired_fox_terrier  \\\n",
       "id                                                               \n",
       "test\\000621fb3cbb32d8935728e48679680e                 0.008274   \n",
       "test\\00102ee9d8eb90812350685311fe5890                 0.008274   \n",
       "test\\0012a730dfa437f5f3613fb75efcd4ce                 0.008517   \n",
       "test\\001510bc8570bbeee98c8d80c8a95ec1                 0.008263   \n",
       "test\\001a5f3114548acdefa3d4da05474c2e                 0.008294   \n",
       "\n",
       "                                       yorkshire_terrier  \n",
       "id                                                        \n",
       "test\\000621fb3cbb32d8935728e48679680e           0.008275  \n",
       "test\\00102ee9d8eb90812350685311fe5890           0.008275  \n",
       "test\\0012a730dfa437f5f3613fb75efcd4ce           0.007954  \n",
       "test\\001510bc8570bbeee98c8d80c8a95ec1           0.008292  \n",
       "test\\001a5f3114548acdefa3d4da05474c2e           0.008244  \n",
       "\n",
       "[5 rows x 120 columns]"
      ]
     },
     "execution_count": 20,
     "metadata": {},
     "output_type": "execute_result"
    }
   ],
   "source": [
    "submission.head()"
   ]
  },
  {
   "cell_type": "code",
   "execution_count": null,
   "metadata": {},
   "outputs": [],
   "source": []
  },
  {
   "cell_type": "code",
   "execution_count": null,
   "metadata": {},
   "outputs": [],
   "source": []
  },
  {
   "cell_type": "code",
   "execution_count": null,
   "metadata": {},
   "outputs": [],
   "source": []
  },
  {
   "cell_type": "code",
   "execution_count": null,
   "metadata": {},
   "outputs": [],
   "source": []
  },
  {
   "cell_type": "code",
   "execution_count": null,
   "metadata": {},
   "outputs": [],
   "source": []
  },
  {
   "cell_type": "code",
   "execution_count": null,
   "metadata": {},
   "outputs": [],
   "source": []
  },
  {
   "cell_type": "code",
   "execution_count": null,
   "metadata": {},
   "outputs": [],
   "source": []
  },
  {
   "cell_type": "code",
   "execution_count": null,
   "metadata": {},
   "outputs": [],
   "source": []
  },
  {
   "cell_type": "code",
   "execution_count": null,
   "metadata": {},
   "outputs": [],
   "source": []
  },
  {
   "cell_type": "markdown",
   "metadata": {},
   "source": [
    "References"
   ]
  },
  {
   "cell_type": "markdown",
   "metadata": {},
   "source": [
    "[1] https://machinelearningmastery.com/convolutional-layers-for-deep-learning-neural-networks/\n",
    "\n",
    "[2] https://medium.com/@14prakash/understanding-and-implementing-architectures-of-resnet-and-resnext-for-state-of-the-art-image-cf51669e1624\n",
    "\n",
    "[3] https://machinelearningmastery.com/rectified-linear-activation-function-for-deep-learning-neural-networks/#:~:text=The%20rectified%20linear%20activation%20function,otherwise%2C%20it%20will%20output%20zero.&text=The%20rectified%20linear%20activation%20function%20overcomes%20the%20vanishing%20gradient%20problem,learn%20faster%20and%20perform%20better."
   ]
  },
  {
   "cell_type": "code",
   "execution_count": null,
   "metadata": {},
   "outputs": [],
   "source": []
  },
  {
   "cell_type": "code",
   "execution_count": null,
   "metadata": {},
   "outputs": [],
   "source": []
  },
  {
   "cell_type": "code",
   "execution_count": null,
   "metadata": {},
   "outputs": [],
   "source": []
  },
  {
   "cell_type": "code",
   "execution_count": null,
   "metadata": {},
   "outputs": [],
   "source": []
  }
 ],
 "metadata": {
  "kernelspec": {
   "display_name": "Python 3",
   "language": "python",
   "name": "python3"
  },
  "language_info": {
   "codemirror_mode": {
    "name": "ipython",
    "version": 3
   },
   "file_extension": ".py",
   "mimetype": "text/x-python",
   "name": "python",
   "nbconvert_exporter": "python",
   "pygments_lexer": "ipython3",
   "version": "3.8.5"
  }
 },
 "nbformat": 4,
 "nbformat_minor": 4
}
